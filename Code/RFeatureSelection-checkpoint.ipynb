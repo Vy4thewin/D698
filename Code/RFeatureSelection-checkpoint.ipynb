{
 "cells": [
  {
   "cell_type": "code",
   "execution_count": 1,
   "id": "7d3f3100",
   "metadata": {},
   "outputs": [],
   "source": [
    "# Load data from a CSV file\n",
    "df <- read.csv(\"data.csv\")"
   ]
  },
  {
   "cell_type": "code",
   "execution_count": 2,
   "id": "4707ca17",
   "metadata": {},
   "outputs": [
    {
     "data": {
      "text/html": [
       "<table>\n",
       "<thead><tr><th scope=col>OID_</th><th scope=col>NRI_ID</th><th scope=col>STATE</th><th scope=col>STATEABBRV</th><th scope=col>STATEFIPS</th><th scope=col>COUNTY</th><th scope=col>COUNTYTYPE</th><th scope=col>COUNTYFIPS</th><th scope=col>STCOFIPS</th><th scope=col>TRACT</th><th scope=col>...</th><th scope=col>WFIR_EALS</th><th scope=col>WFIR_EALR</th><th scope=col>WFIR_ALRB</th><th scope=col>WFIR_ALRP</th><th scope=col>WFIR_ALRA</th><th scope=col>WFIR_ALR_NPCTL</th><th scope=col>WFIR_RISKV</th><th scope=col>WFIR_RISKS</th><th scope=col>WFIR_RISKR</th><th scope=col>NRI_VER</th></tr></thead>\n",
       "<tbody>\n",
       "\t<tr><td>1613               </td><td>T04001942600       </td><td>Arizona            </td><td>AZ                 </td><td>4                  </td><td>Apache             </td><td>County             </td><td>1                  </td><td>4001               </td><td>942600             </td><td>...                </td><td>48.76981           </td><td>Very Low           </td><td>1.12110e-06        </td><td>5.7690e-12         </td><td>0.00000e+00        </td><td>62.60806           </td><td>  510.9595         </td><td>55.34771           </td><td>Relatively Low     </td><td>45008              </td></tr>\n",
       "\t<tr><td>1614               </td><td>T04001942700       </td><td>Arizona            </td><td>AZ                 </td><td>4                  </td><td>Apache             </td><td>County             </td><td>1                  </td><td>4001               </td><td>942700             </td><td>...                </td><td>81.13636           </td><td>Relatively Low     </td><td>8.57240e-06        </td><td>4.0264e-11         </td><td>1.17565e-06        </td><td>81.46100           </td><td>10189.7375         </td><td>83.96161           </td><td>Relatively Low     </td><td>45008              </td></tr>\n",
       "\t<tr><td>1615               </td><td>T04001944000       </td><td>Arizona            </td><td>AZ                 </td><td>4                  </td><td>Apache             </td><td>County             </td><td>1                  </td><td>4001               </td><td>944000             </td><td>...                </td><td>83.77630           </td><td>Relatively Low     </td><td>1.36875e-05        </td><td>8.8702e-11         </td><td>0.00000e+00        </td><td>83.66927           </td><td>17050.6658         </td><td>86.36850           </td><td>Relatively Moderate</td><td>45008              </td></tr>\n",
       "\t<tr><td>1616               </td><td>T04001944100       </td><td>Arizona            </td><td>AZ                 </td><td>4                  </td><td>Apache             </td><td>County             </td><td>1                  </td><td>4001               </td><td>944100             </td><td>...                </td><td>83.05448           </td><td>Relatively Low     </td><td>1.32035e-05        </td><td>6.5821e-11         </td><td>5.60708e-07        </td><td>83.55511           </td><td>15203.8477         </td><td>85.84170           </td><td>Relatively Moderate</td><td>45008              </td></tr>\n",
       "\t<tr><td>1617               </td><td>T04001944201       </td><td>Arizona            </td><td>AZ                 </td><td>4                  </td><td>Apache             </td><td>County             </td><td>1                  </td><td>4001               </td><td>944201             </td><td>...                </td><td>45.63043           </td><td>Very Low           </td><td>5.09107e-07        </td><td>4.9780e-12         </td><td>0.00000e+00        </td><td>50.11119           </td><td>  437.9023         </td><td>53.12634           </td><td>Relatively Low     </td><td>45008              </td></tr>\n",
       "\t<tr><td>1618               </td><td>T04001944202       </td><td>Arizona            </td><td>AZ                 </td><td>4                  </td><td>Apache             </td><td>County             </td><td>1                  </td><td>4001               </td><td>944202             </td><td>...                </td><td>65.89609           </td><td>Relatively Low     </td><td>2.99725e-06        </td><td>2.1238e-11         </td><td>0.00000e+00        </td><td>75.86482           </td><td> 1860.9492         </td><td>73.41721           </td><td>Relatively Low     </td><td>45008              </td></tr>\n",
       "</tbody>\n",
       "</table>\n"
      ],
      "text/latex": [
       "\\begin{tabular}{r|lllllllllllllllllllllllllllllllllllllllllllllllllllllllllllllllllllllllllllllllllllllllllllllllllllllllllllllllllllllllllllllllllllllllllllllllllllllllllllllllllllllllllllllllllllllll}\n",
       " OID\\_ & NRI\\_ID & STATE & STATEABBRV & STATEFIPS & COUNTY & COUNTYTYPE & COUNTYFIPS & STCOFIPS & TRACT & ... & WFIR\\_EALS & WFIR\\_EALR & WFIR\\_ALRB & WFIR\\_ALRP & WFIR\\_ALRA & WFIR\\_ALR\\_NPCTL & WFIR\\_RISKV & WFIR\\_RISKS & WFIR\\_RISKR & NRI\\_VER\\\\\n",
       "\\hline\n",
       "\t 1613                & T04001942600        & Arizona             & AZ                  & 4                   & Apache              & County              & 1                   & 4001                & 942600              & ...                 & 48.76981            & Very Low            & 1.12110e-06         & 5.7690e-12          & 0.00000e+00         & 62.60806            &   510.9595          & 55.34771            & Relatively Low      & 45008              \\\\\n",
       "\t 1614                & T04001942700        & Arizona             & AZ                  & 4                   & Apache              & County              & 1                   & 4001                & 942700              & ...                 & 81.13636            & Relatively Low      & 8.57240e-06         & 4.0264e-11          & 1.17565e-06         & 81.46100            & 10189.7375          & 83.96161            & Relatively Low      & 45008              \\\\\n",
       "\t 1615                & T04001944000        & Arizona             & AZ                  & 4                   & Apache              & County              & 1                   & 4001                & 944000              & ...                 & 83.77630            & Relatively Low      & 1.36875e-05         & 8.8702e-11          & 0.00000e+00         & 83.66927            & 17050.6658          & 86.36850            & Relatively Moderate & 45008              \\\\\n",
       "\t 1616                & T04001944100        & Arizona             & AZ                  & 4                   & Apache              & County              & 1                   & 4001                & 944100              & ...                 & 83.05448            & Relatively Low      & 1.32035e-05         & 6.5821e-11          & 5.60708e-07         & 83.55511            & 15203.8477          & 85.84170            & Relatively Moderate & 45008              \\\\\n",
       "\t 1617                & T04001944201        & Arizona             & AZ                  & 4                   & Apache              & County              & 1                   & 4001                & 944201              & ...                 & 45.63043            & Very Low            & 5.09107e-07         & 4.9780e-12          & 0.00000e+00         & 50.11119            &   437.9023          & 53.12634            & Relatively Low      & 45008              \\\\\n",
       "\t 1618                & T04001944202        & Arizona             & AZ                  & 4                   & Apache              & County              & 1                   & 4001                & 944202              & ...                 & 65.89609            & Relatively Low      & 2.99725e-06         & 2.1238e-11          & 0.00000e+00         & 75.86482            &  1860.9492          & 73.41721            & Relatively Low      & 45008              \\\\\n",
       "\\end{tabular}\n"
      ],
      "text/markdown": [
       "\n",
       "| OID_ | NRI_ID | STATE | STATEABBRV | STATEFIPS | COUNTY | COUNTYTYPE | COUNTYFIPS | STCOFIPS | TRACT | ... | WFIR_EALS | WFIR_EALR | WFIR_ALRB | WFIR_ALRP | WFIR_ALRA | WFIR_ALR_NPCTL | WFIR_RISKV | WFIR_RISKS | WFIR_RISKR | NRI_VER |\n",
       "|---|---|---|---|---|---|---|---|---|---|---|---|---|---|---|---|---|---|---|---|---|\n",
       "| 1613                | T04001942600        | Arizona             | AZ                  | 4                   | Apache              | County              | 1                   | 4001                | 942600              | ...                 | 48.76981            | Very Low            | 1.12110e-06         | 5.7690e-12          | 0.00000e+00         | 62.60806            |   510.9595          | 55.34771            | Relatively Low      | 45008               |\n",
       "| 1614                | T04001942700        | Arizona             | AZ                  | 4                   | Apache              | County              | 1                   | 4001                | 942700              | ...                 | 81.13636            | Relatively Low      | 8.57240e-06         | 4.0264e-11          | 1.17565e-06         | 81.46100            | 10189.7375          | 83.96161            | Relatively Low      | 45008               |\n",
       "| 1615                | T04001944000        | Arizona             | AZ                  | 4                   | Apache              | County              | 1                   | 4001                | 944000              | ...                 | 83.77630            | Relatively Low      | 1.36875e-05         | 8.8702e-11          | 0.00000e+00         | 83.66927            | 17050.6658          | 86.36850            | Relatively Moderate | 45008               |\n",
       "| 1616                | T04001944100        | Arizona             | AZ                  | 4                   | Apache              | County              | 1                   | 4001                | 944100              | ...                 | 83.05448            | Relatively Low      | 1.32035e-05         | 6.5821e-11          | 5.60708e-07         | 83.55511            | 15203.8477          | 85.84170            | Relatively Moderate | 45008               |\n",
       "| 1617                | T04001944201        | Arizona             | AZ                  | 4                   | Apache              | County              | 1                   | 4001                | 944201              | ...                 | 45.63043            | Very Low            | 5.09107e-07         | 4.9780e-12          | 0.00000e+00         | 50.11119            |   437.9023          | 53.12634            | Relatively Low      | 45008               |\n",
       "| 1618                | T04001944202        | Arizona             | AZ                  | 4                   | Apache              | County              | 1                   | 4001                | 944202              | ...                 | 65.89609            | Relatively Low      | 2.99725e-06         | 2.1238e-11          | 0.00000e+00         | 75.86482            |  1860.9492          | 73.41721            | Relatively Low      | 45008               |\n",
       "\n"
      ],
      "text/plain": [
       "  OID_ NRI_ID       STATE   STATEABBRV STATEFIPS COUNTY COUNTYTYPE COUNTYFIPS\n",
       "1 1613 T04001942600 Arizona AZ         4         Apache County     1         \n",
       "2 1614 T04001942700 Arizona AZ         4         Apache County     1         \n",
       "3 1615 T04001944000 Arizona AZ         4         Apache County     1         \n",
       "4 1616 T04001944100 Arizona AZ         4         Apache County     1         \n",
       "5 1617 T04001944201 Arizona AZ         4         Apache County     1         \n",
       "6 1618 T04001944202 Arizona AZ         4         Apache County     1         \n",
       "  STCOFIPS TRACT  ... WFIR_EALS WFIR_EALR      WFIR_ALRB   WFIR_ALRP \n",
       "1 4001     942600 ... 48.76981  Very Low       1.12110e-06 5.7690e-12\n",
       "2 4001     942700 ... 81.13636  Relatively Low 8.57240e-06 4.0264e-11\n",
       "3 4001     944000 ... 83.77630  Relatively Low 1.36875e-05 8.8702e-11\n",
       "4 4001     944100 ... 83.05448  Relatively Low 1.32035e-05 6.5821e-11\n",
       "5 4001     944201 ... 45.63043  Very Low       5.09107e-07 4.9780e-12\n",
       "6 4001     944202 ... 65.89609  Relatively Low 2.99725e-06 2.1238e-11\n",
       "  WFIR_ALRA   WFIR_ALR_NPCTL WFIR_RISKV WFIR_RISKS WFIR_RISKR          NRI_VER\n",
       "1 0.00000e+00 62.60806         510.9595 55.34771   Relatively Low      45008  \n",
       "2 1.17565e-06 81.46100       10189.7375 83.96161   Relatively Low      45008  \n",
       "3 0.00000e+00 83.66927       17050.6658 86.36850   Relatively Moderate 45008  \n",
       "4 5.60708e-07 83.55511       15203.8477 85.84170   Relatively Moderate 45008  \n",
       "5 0.00000e+00 50.11119         437.9023 53.12634   Relatively Low      45008  \n",
       "6 0.00000e+00 75.86482        1860.9492 73.41721   Relatively Low      45008  "
      ]
     },
     "metadata": {},
     "output_type": "display_data"
    }
   ],
   "source": [
    "# Print the first n rows of the dataset\n",
    "head(df)"
   ]
  },
  {
   "cell_type": "code",
   "execution_count": 3,
   "id": "a36bafaf",
   "metadata": {},
   "outputs": [
    {
     "data": {
      "text/html": [
       "<ol class=list-inline>\n",
       "\t<li>15280</li>\n",
       "\t<li>183</li>\n",
       "</ol>\n"
      ],
      "text/latex": [
       "\\begin{enumerate*}\n",
       "\\item 15280\n",
       "\\item 183\n",
       "\\end{enumerate*}\n"
      ],
      "text/markdown": [
       "1. 15280\n",
       "2. 183\n",
       "\n",
       "\n"
      ],
      "text/plain": [
       "[1] 15280   183"
      ]
     },
     "metadata": {},
     "output_type": "display_data"
    }
   ],
   "source": [
    "# Print the dimensions of the dataset\n",
    "dim(df)"
   ]
  },
  {
   "cell_type": "code",
   "execution_count": 4,
   "id": "4ffeaca1",
   "metadata": {},
   "outputs": [
    {
     "data": {
      "text/html": [
       "<table>\n",
       "<thead><tr><th scope=col>X</th><th scope=col>countyID</th><th scope=col>STATEFP</th><th scope=col>COUNTYFP</th><th scope=col>TRACTCE</th><th scope=col>GEOID</th><th scope=col>tractID</th><th scope=col>NAMELSAD</th><th scope=col>land_Area</th><th scope=col>water_Area</th><th scope=col>latitude</th><th scope=col>longitude</th><th scope=col>tract_avgSlope</th><th scope=col>County</th><th scope=col>county_avgElevation</th><th scope=col>avg_tempeture</th><th scope=col>avg_precipitation</th><th scope=col>EVT_LF</th></tr></thead>\n",
       "<tbody>\n",
       "\t<tr><td>1                   </td><td>6037                </td><td>6                   </td><td>37                  </td><td>137504              </td><td>6037137504          </td><td>1375.04             </td><td>Census Tract 1375.04</td><td> 3837562            </td><td>      0             </td><td>34.14804            </td><td>-118.5721           </td><td>6.1882601           </td><td>Los Angeles County  </td><td>149                 </td><td>63.7                </td><td> 7.64               </td><td>Tree                </td></tr>\n",
       "\t<tr><td>2                   </td><td>6037                </td><td>6                   </td><td>37                  </td><td>138000              </td><td>6037138000          </td><td>1380.00             </td><td>Census Tract 1380   </td><td> 4472196            </td><td>      0             </td><td>34.14880            </td><td>-118.5910           </td><td>5.2150257           </td><td>Los Angeles County  </td><td>499                 </td><td>63.7                </td><td> 7.64               </td><td>Tree                </td></tr>\n",
       "\t<tr><td>3                   </td><td>6037                </td><td>6                   </td><td>37                  </td><td>139200              </td><td>6037139200          </td><td>1392.00             </td><td>Census Tract 1392   </td><td> 1152028            </td><td>      0             </td><td>34.17570            </td><td>-118.5246           </td><td>0.4685362           </td><td>Los Angeles County  </td><td>494                 </td><td>63.7                </td><td> 7.64               </td><td>Developed           </td></tr>\n",
       "\t<tr><td>4                   </td><td>6087                </td><td>6                   </td><td>87                  </td><td>120901              </td><td>6087120901          </td><td>1209.01             </td><td>Census Tract 1209.01</td><td>18372491            </td><td>      0             </td><td>37.07816            </td><td>-122.0154           </td><td>7.3366886           </td><td>Santa Cruz County   </td><td>176                 </td><td>58.6                </td><td>27.14               </td><td>Shrub               </td></tr>\n",
       "\t<tr><td>5                   </td><td>6087                </td><td>6                   </td><td>87                  </td><td>120902              </td><td>6087120902          </td><td>1209.02             </td><td>Census Tract 1209.02</td><td> 6474889            </td><td>      0             </td><td>37.06285            </td><td>-122.0106           </td><td>5.0575136           </td><td>Santa Cruz County   </td><td> 89                 </td><td>58.6                </td><td>27.14               </td><td>Herb                </td></tr>\n",
       "\t<tr><td>6                   </td><td>6087                </td><td>6                   </td><td>87                  </td><td>121601              </td><td>6087121601          </td><td>1216.01             </td><td>Census Tract 1216.01</td><td> 1171521            </td><td>1165471             </td><td>36.95647            </td><td>-121.9752           </td><td>1.1932791           </td><td>Santa Cruz County   </td><td> 19                 </td><td>58.6                </td><td>27.14               </td><td>Tree                </td></tr>\n",
       "</tbody>\n",
       "</table>\n"
      ],
      "text/latex": [
       "\\begin{tabular}{r|llllllllllllllllll}\n",
       " X & countyID & STATEFP & COUNTYFP & TRACTCE & GEOID & tractID & NAMELSAD & land\\_Area & water\\_Area & latitude & longitude & tract\\_avgSlope & County & county\\_avgElevation & avg\\_tempeture & avg\\_precipitation & EVT\\_LF\\\\\n",
       "\\hline\n",
       "\t 1                    & 6037                 & 6                    & 37                   & 137504               & 6037137504           & 1375.04              & Census Tract 1375.04 &  3837562             &       0              & 34.14804             & -118.5721            & 6.1882601            & Los Angeles County   & 149                  & 63.7                 &  7.64                & Tree                \\\\\n",
       "\t 2                    & 6037                 & 6                    & 37                   & 138000               & 6037138000           & 1380.00              & Census Tract 1380    &  4472196             &       0              & 34.14880             & -118.5910            & 5.2150257            & Los Angeles County   & 499                  & 63.7                 &  7.64                & Tree                \\\\\n",
       "\t 3                    & 6037                 & 6                    & 37                   & 139200               & 6037139200           & 1392.00              & Census Tract 1392    &  1152028             &       0              & 34.17570             & -118.5246            & 0.4685362            & Los Angeles County   & 494                  & 63.7                 &  7.64                & Developed           \\\\\n",
       "\t 4                    & 6087                 & 6                    & 87                   & 120901               & 6087120901           & 1209.01              & Census Tract 1209.01 & 18372491             &       0              & 37.07816             & -122.0154            & 7.3366886            & Santa Cruz County    & 176                  & 58.6                 & 27.14                & Shrub               \\\\\n",
       "\t 5                    & 6087                 & 6                    & 87                   & 120902               & 6087120902           & 1209.02              & Census Tract 1209.02 &  6474889             &       0              & 37.06285             & -122.0106            & 5.0575136            & Santa Cruz County    &  89                  & 58.6                 & 27.14                & Herb                \\\\\n",
       "\t 6                    & 6087                 & 6                    & 87                   & 121601               & 6087121601           & 1216.01              & Census Tract 1216.01 &  1171521             & 1165471              & 36.95647             & -121.9752            & 1.1932791            & Santa Cruz County    &  19                  & 58.6                 & 27.14                & Tree                \\\\\n",
       "\\end{tabular}\n"
      ],
      "text/markdown": [
       "\n",
       "| X | countyID | STATEFP | COUNTYFP | TRACTCE | GEOID | tractID | NAMELSAD | land_Area | water_Area | latitude | longitude | tract_avgSlope | County | county_avgElevation | avg_tempeture | avg_precipitation | EVT_LF |\n",
       "|---|---|---|---|---|---|---|---|---|---|---|---|---|---|---|---|---|---|\n",
       "| 1                    | 6037                 | 6                    | 37                   | 137504               | 6037137504           | 1375.04              | Census Tract 1375.04 |  3837562             |       0              | 34.14804             | -118.5721            | 6.1882601            | Los Angeles County   | 149                  | 63.7                 |  7.64                | Tree                 |\n",
       "| 2                    | 6037                 | 6                    | 37                   | 138000               | 6037138000           | 1380.00              | Census Tract 1380    |  4472196             |       0              | 34.14880             | -118.5910            | 5.2150257            | Los Angeles County   | 499                  | 63.7                 |  7.64                | Tree                 |\n",
       "| 3                    | 6037                 | 6                    | 37                   | 139200               | 6037139200           | 1392.00              | Census Tract 1392    |  1152028             |       0              | 34.17570             | -118.5246            | 0.4685362            | Los Angeles County   | 494                  | 63.7                 |  7.64                | Developed            |\n",
       "| 4                    | 6087                 | 6                    | 87                   | 120901               | 6087120901           | 1209.01              | Census Tract 1209.01 | 18372491             |       0              | 37.07816             | -122.0154            | 7.3366886            | Santa Cruz County    | 176                  | 58.6                 | 27.14                | Shrub                |\n",
       "| 5                    | 6087                 | 6                    | 87                   | 120902               | 6087120902           | 1209.02              | Census Tract 1209.02 |  6474889             |       0              | 37.06285             | -122.0106            | 5.0575136            | Santa Cruz County    |  89                  | 58.6                 | 27.14                | Herb                 |\n",
       "| 6                    | 6087                 | 6                    | 87                   | 121601               | 6087121601           | 1216.01              | Census Tract 1216.01 |  1171521             | 1165471              | 36.95647             | -121.9752            | 1.1932791            | Santa Cruz County    |  19                  | 58.6                 | 27.14                | Tree                 |\n",
       "\n"
      ],
      "text/plain": [
       "  X countyID STATEFP COUNTYFP TRACTCE GEOID      tractID NAMELSAD            \n",
       "1 1 6037     6       37       137504  6037137504 1375.04 Census Tract 1375.04\n",
       "2 2 6037     6       37       138000  6037138000 1380.00 Census Tract 1380   \n",
       "3 3 6037     6       37       139200  6037139200 1392.00 Census Tract 1392   \n",
       "4 4 6087     6       87       120901  6087120901 1209.01 Census Tract 1209.01\n",
       "5 5 6087     6       87       120902  6087120902 1209.02 Census Tract 1209.02\n",
       "6 6 6087     6       87       121601  6087121601 1216.01 Census Tract 1216.01\n",
       "  land_Area water_Area latitude longitude tract_avgSlope County            \n",
       "1  3837562        0    34.14804 -118.5721 6.1882601      Los Angeles County\n",
       "2  4472196        0    34.14880 -118.5910 5.2150257      Los Angeles County\n",
       "3  1152028        0    34.17570 -118.5246 0.4685362      Los Angeles County\n",
       "4 18372491        0    37.07816 -122.0154 7.3366886      Santa Cruz County \n",
       "5  6474889        0    37.06285 -122.0106 5.0575136      Santa Cruz County \n",
       "6  1171521  1165471    36.95647 -121.9752 1.1932791      Santa Cruz County \n",
       "  county_avgElevation avg_tempeture avg_precipitation EVT_LF   \n",
       "1 149                 63.7           7.64             Tree     \n",
       "2 499                 63.7           7.64             Tree     \n",
       "3 494                 63.7           7.64             Developed\n",
       "4 176                 58.6          27.14             Shrub    \n",
       "5  89                 58.6          27.14             Herb     \n",
       "6  19                 58.6          27.14             Tree     "
      ]
     },
     "metadata": {},
     "output_type": "display_data"
    }
   ],
   "source": [
    "# Load data from a CSV file\n",
    "df2 <- read.csv(\"caliTracts_features.csv\")\n",
    "head(df2)"
   ]
  },
  {
   "cell_type": "code",
   "execution_count": 5,
   "id": "ac57355a",
   "metadata": {},
   "outputs": [
    {
     "data": {
      "text/html": [
       "<ol class=list-inline>\n",
       "\t<li>9119</li>\n",
       "\t<li>18</li>\n",
       "</ol>\n"
      ],
      "text/latex": [
       "\\begin{enumerate*}\n",
       "\\item 9119\n",
       "\\item 18\n",
       "\\end{enumerate*}\n"
      ],
      "text/markdown": [
       "1. 9119\n",
       "2. 18\n",
       "\n",
       "\n"
      ],
      "text/plain": [
       "[1] 9119   18"
      ]
     },
     "metadata": {},
     "output_type": "display_data"
    }
   ],
   "source": [
    "# Print the dimensions of the dataset\n",
    "dim(df2)"
   ]
  },
  {
   "cell_type": "code",
   "execution_count": 6,
   "id": "587418a9",
   "metadata": {},
   "outputs": [
    {
     "data": {
      "text/html": [
       "<table>\n",
       "<thead><tr><th scope=col>countyID</th><th scope=col>STATEFP</th><th scope=col>COUNTYFP</th><th scope=col>TRACTCE</th><th scope=col>GEOID</th><th scope=col>tractID</th><th scope=col>NAMELSAD</th><th scope=col>land_Area</th><th scope=col>water_Area</th><th scope=col>latitude</th><th scope=col>longitude</th><th scope=col>tract_avgSlope</th><th scope=col>County</th><th scope=col>county_avgElevation</th><th scope=col>avg_tempeture</th><th scope=col>avg_precipitation</th><th scope=col>EVT_LF</th></tr></thead>\n",
       "<tbody>\n",
       "\t<tr><td>6037                </td><td>6                   </td><td>37                  </td><td>137504              </td><td>6037137504          </td><td>1375.04             </td><td>Census Tract 1375.04</td><td> 3837562            </td><td>      0             </td><td>34.14804            </td><td>-118.5721           </td><td>6.1882601           </td><td>Los Angeles County  </td><td>149                 </td><td>63.7                </td><td> 7.64               </td><td>Tree                </td></tr>\n",
       "\t<tr><td>6037                </td><td>6                   </td><td>37                  </td><td>138000              </td><td>6037138000          </td><td>1380.00             </td><td>Census Tract 1380   </td><td> 4472196            </td><td>      0             </td><td>34.14880            </td><td>-118.5910           </td><td>5.2150257           </td><td>Los Angeles County  </td><td>499                 </td><td>63.7                </td><td> 7.64               </td><td>Tree                </td></tr>\n",
       "\t<tr><td>6037                </td><td>6                   </td><td>37                  </td><td>139200              </td><td>6037139200          </td><td>1392.00             </td><td>Census Tract 1392   </td><td> 1152028            </td><td>      0             </td><td>34.17570            </td><td>-118.5246           </td><td>0.4685362           </td><td>Los Angeles County  </td><td>494                 </td><td>63.7                </td><td> 7.64               </td><td>Developed           </td></tr>\n",
       "\t<tr><td>6087                </td><td>6                   </td><td>87                  </td><td>120901              </td><td>6087120901          </td><td>1209.01             </td><td>Census Tract 1209.01</td><td>18372491            </td><td>      0             </td><td>37.07816            </td><td>-122.0154           </td><td>7.3366886           </td><td>Santa Cruz County   </td><td>176                 </td><td>58.6                </td><td>27.14               </td><td>Shrub               </td></tr>\n",
       "\t<tr><td>6087                </td><td>6                   </td><td>87                  </td><td>120902              </td><td>6087120902          </td><td>1209.02             </td><td>Census Tract 1209.02</td><td> 6474889            </td><td>      0             </td><td>37.06285            </td><td>-122.0106           </td><td>5.0575136           </td><td>Santa Cruz County   </td><td> 89                 </td><td>58.6                </td><td>27.14               </td><td>Herb                </td></tr>\n",
       "\t<tr><td>6087                </td><td>6                   </td><td>87                  </td><td>121601              </td><td>6087121601          </td><td>1216.01             </td><td>Census Tract 1216.01</td><td> 1171521            </td><td>1165471             </td><td>36.95647            </td><td>-121.9752           </td><td>1.1932791           </td><td>Santa Cruz County   </td><td> 19                 </td><td>58.6                </td><td>27.14               </td><td>Tree                </td></tr>\n",
       "</tbody>\n",
       "</table>\n"
      ],
      "text/latex": [
       "\\begin{tabular}{r|lllllllllllllllll}\n",
       " countyID & STATEFP & COUNTYFP & TRACTCE & GEOID & tractID & NAMELSAD & land\\_Area & water\\_Area & latitude & longitude & tract\\_avgSlope & County & county\\_avgElevation & avg\\_tempeture & avg\\_precipitation & EVT\\_LF\\\\\n",
       "\\hline\n",
       "\t 6037                 & 6                    & 37                   & 137504               & 6037137504           & 1375.04              & Census Tract 1375.04 &  3837562             &       0              & 34.14804             & -118.5721            & 6.1882601            & Los Angeles County   & 149                  & 63.7                 &  7.64                & Tree                \\\\\n",
       "\t 6037                 & 6                    & 37                   & 138000               & 6037138000           & 1380.00              & Census Tract 1380    &  4472196             &       0              & 34.14880             & -118.5910            & 5.2150257            & Los Angeles County   & 499                  & 63.7                 &  7.64                & Tree                \\\\\n",
       "\t 6037                 & 6                    & 37                   & 139200               & 6037139200           & 1392.00              & Census Tract 1392    &  1152028             &       0              & 34.17570             & -118.5246            & 0.4685362            & Los Angeles County   & 494                  & 63.7                 &  7.64                & Developed           \\\\\n",
       "\t 6087                 & 6                    & 87                   & 120901               & 6087120901           & 1209.01              & Census Tract 1209.01 & 18372491             &       0              & 37.07816             & -122.0154            & 7.3366886            & Santa Cruz County    & 176                  & 58.6                 & 27.14                & Shrub               \\\\\n",
       "\t 6087                 & 6                    & 87                   & 120902               & 6087120902           & 1209.02              & Census Tract 1209.02 &  6474889             &       0              & 37.06285             & -122.0106            & 5.0575136            & Santa Cruz County    &  89                  & 58.6                 & 27.14                & Herb                \\\\\n",
       "\t 6087                 & 6                    & 87                   & 121601               & 6087121601           & 1216.01              & Census Tract 1216.01 &  1171521             & 1165471              & 36.95647             & -121.9752            & 1.1932791            & Santa Cruz County    &  19                  & 58.6                 & 27.14                & Tree                \\\\\n",
       "\\end{tabular}\n"
      ],
      "text/markdown": [
       "\n",
       "| countyID | STATEFP | COUNTYFP | TRACTCE | GEOID | tractID | NAMELSAD | land_Area | water_Area | latitude | longitude | tract_avgSlope | County | county_avgElevation | avg_tempeture | avg_precipitation | EVT_LF |\n",
       "|---|---|---|---|---|---|---|---|---|---|---|---|---|---|---|---|---|\n",
       "| 6037                 | 6                    | 37                   | 137504               | 6037137504           | 1375.04              | Census Tract 1375.04 |  3837562             |       0              | 34.14804             | -118.5721            | 6.1882601            | Los Angeles County   | 149                  | 63.7                 |  7.64                | Tree                 |\n",
       "| 6037                 | 6                    | 37                   | 138000               | 6037138000           | 1380.00              | Census Tract 1380    |  4472196             |       0              | 34.14880             | -118.5910            | 5.2150257            | Los Angeles County   | 499                  | 63.7                 |  7.64                | Tree                 |\n",
       "| 6037                 | 6                    | 37                   | 139200               | 6037139200           | 1392.00              | Census Tract 1392    |  1152028             |       0              | 34.17570             | -118.5246            | 0.4685362            | Los Angeles County   | 494                  | 63.7                 |  7.64                | Developed            |\n",
       "| 6087                 | 6                    | 87                   | 120901               | 6087120901           | 1209.01              | Census Tract 1209.01 | 18372491             |       0              | 37.07816             | -122.0154            | 7.3366886            | Santa Cruz County    | 176                  | 58.6                 | 27.14                | Shrub                |\n",
       "| 6087                 | 6                    | 87                   | 120902               | 6087120902           | 1209.02              | Census Tract 1209.02 |  6474889             |       0              | 37.06285             | -122.0106            | 5.0575136            | Santa Cruz County    |  89                  | 58.6                 | 27.14                | Herb                 |\n",
       "| 6087                 | 6                    | 87                   | 121601               | 6087121601           | 1216.01              | Census Tract 1216.01 |  1171521             | 1165471              | 36.95647             | -121.9752            | 1.1932791            | Santa Cruz County    |  19                  | 58.6                 | 27.14                | Tree                 |\n",
       "\n"
      ],
      "text/plain": [
       "  countyID STATEFP COUNTYFP TRACTCE GEOID      tractID NAMELSAD            \n",
       "1 6037     6       37       137504  6037137504 1375.04 Census Tract 1375.04\n",
       "2 6037     6       37       138000  6037138000 1380.00 Census Tract 1380   \n",
       "3 6037     6       37       139200  6037139200 1392.00 Census Tract 1392   \n",
       "4 6087     6       87       120901  6087120901 1209.01 Census Tract 1209.01\n",
       "5 6087     6       87       120902  6087120902 1209.02 Census Tract 1209.02\n",
       "6 6087     6       87       121601  6087121601 1216.01 Census Tract 1216.01\n",
       "  land_Area water_Area latitude longitude tract_avgSlope County            \n",
       "1  3837562        0    34.14804 -118.5721 6.1882601      Los Angeles County\n",
       "2  4472196        0    34.14880 -118.5910 5.2150257      Los Angeles County\n",
       "3  1152028        0    34.17570 -118.5246 0.4685362      Los Angeles County\n",
       "4 18372491        0    37.07816 -122.0154 7.3366886      Santa Cruz County \n",
       "5  6474889        0    37.06285 -122.0106 5.0575136      Santa Cruz County \n",
       "6  1171521  1165471    36.95647 -121.9752 1.1932791      Santa Cruz County \n",
       "  county_avgElevation avg_tempeture avg_precipitation EVT_LF   \n",
       "1 149                 63.7           7.64             Tree     \n",
       "2 499                 63.7           7.64             Tree     \n",
       "3 494                 63.7           7.64             Developed\n",
       "4 176                 58.6          27.14             Shrub    \n",
       "5  89                 58.6          27.14             Herb     \n",
       "6  19                 58.6          27.14             Tree     "
      ]
     },
     "metadata": {},
     "output_type": "display_data"
    }
   ],
   "source": [
    "# Delete the first column (column 1)\n",
    "df2 <- df2[, -1]\n",
    "\n",
    "# Print the resulting data frame\n",
    "head(df2)\n"
   ]
  },
  {
   "cell_type": "code",
   "execution_count": 7,
   "id": "b8be8bc0",
   "metadata": {},
   "outputs": [
    {
     "data": {
      "text/html": [
       "<ol class=list-inline>\n",
       "\t<li>9119</li>\n",
       "\t<li>17</li>\n",
       "</ol>\n"
      ],
      "text/latex": [
       "\\begin{enumerate*}\n",
       "\\item 9119\n",
       "\\item 17\n",
       "\\end{enumerate*}\n"
      ],
      "text/markdown": [
       "1. 9119\n",
       "2. 17\n",
       "\n",
       "\n"
      ],
      "text/plain": [
       "[1] 9119   17"
      ]
     },
     "metadata": {},
     "output_type": "display_data"
    }
   ],
   "source": [
    "# Print the dimensions of the dataset\n",
    "dim(df2)"
   ]
  },
  {
   "cell_type": "markdown",
   "id": "ba0d1bb7",
   "metadata": {},
   "source": []
  },
  {
   "cell_type": "code",
   "execution_count": 8,
   "id": "4651d8a6",
   "metadata": {},
   "outputs": [],
   "source": [
    "# Merge datasets based on different key columns with an inner join\n",
    "merged_dataset <- merge(df, df2, by.x = \"TRACT\", by.y = \"TRACTCE\", all = FALSE)\n",
    "\n",
    "# The 'all' parameter specifies the type of merge ('FALSE' for inner join)\n",
    "# 'inner' merge keeps only rows with matching values in both key columns\n",
    "\n",
    "# 'all = TRUE': The 'all' parameter determines the type of merge to be performed. \n",
    "# Setting 'all = TRUE' means that it's an outer join. \n",
    "# An outer join combines rows from both data frames, including those with non-matching \n",
    "# values in the key columns. Rows with matching values are included as well. \n",
    "# This ensures that all rows from both data frames are retained in the result."
   ]
  },
  {
   "cell_type": "code",
   "execution_count": 9,
   "id": "0fe4b936",
   "metadata": {},
   "outputs": [
    {
     "data": {
      "text/html": [
       "<table>\n",
       "<thead><tr><th scope=col>TRACT</th><th scope=col>OID_</th><th scope=col>NRI_ID</th><th scope=col>STATE</th><th scope=col>STATEABBRV</th><th scope=col>STATEFIPS</th><th scope=col>COUNTY</th><th scope=col>COUNTYTYPE</th><th scope=col>COUNTYFIPS</th><th scope=col>STCOFIPS</th><th scope=col>...</th><th scope=col>land_Area</th><th scope=col>water_Area</th><th scope=col>latitude</th><th scope=col>longitude</th><th scope=col>tract_avgSlope</th><th scope=col>County</th><th scope=col>county_avgElevation</th><th scope=col>avg_tempeture</th><th scope=col>avg_precipitation</th><th scope=col>EVT_LF</th></tr></thead>\n",
       "<tbody>\n",
       "\t<tr><td>100              </td><td>71399            </td><td>T48113000100     </td><td>Texas            </td><td>TX               </td><td>48               </td><td>Dallas           </td><td>County           </td><td>113              </td><td>48113            </td><td>...              </td><td> 255205740       </td><td>   75237         </td><td>36.39289         </td><td>-119.5984        </td><td>0.05901829       </td><td>Kings County     </td><td>  81             </td><td>65.3             </td><td> 4.48            </td><td>Herb             </td></tr>\n",
       "\t<tr><td>100              </td><td>71399            </td><td>T48113000100     </td><td>Texas            </td><td>TX               </td><td>48               </td><td>Dallas           </td><td>County           </td><td>113              </td><td>48113            </td><td>...              </td><td>   1536251       </td><td>       0         </td><td>32.75299         </td><td>-117.1859        </td><td>4.95426757       </td><td>San Diego County </td><td> 233             </td><td>64.2             </td><td> 8.64            </td><td>Shrub            </td></tr>\n",
       "\t<tr><td>100              </td><td>71399            </td><td>T48113000100     </td><td>Texas            </td><td>TX               </td><td>48               </td><td>Dallas           </td><td>County           </td><td>113              </td><td>48113            </td><td>...              </td><td> 394460134       </td><td> 1068980         </td><td>36.90117         </td><td>-121.3587        </td><td>3.04007930       </td><td>San Benito County</td><td> 149             </td><td>60.8             </td><td>10.24            </td><td>Agriculture      </td></tr>\n",
       "\t<tr><td>100              </td><td>71399            </td><td>T48113000100     </td><td>Texas            </td><td>TX               </td><td>48               </td><td>Dallas           </td><td>County           </td><td>113              </td><td>48113            </td><td>...              </td><td>   2030976       </td><td>  188167         </td><td>38.57777         </td><td>-121.4326        </td><td>1.16534486       </td><td>Sacramento County</td><td>  12             </td><td>63.7             </td><td>12.80            </td><td>Tree             </td></tr>\n",
       "\t<tr><td>100              </td><td>71399            </td><td>T48113000100     </td><td>Texas            </td><td>TX               </td><td>48               </td><td>Dallas           </td><td>County           </td><td>113              </td><td>48113            </td><td>...              </td><td>2992366306       </td><td> 9139794         </td><td>40.19430         </td><td>-121.8565        </td><td>3.81188123       </td><td>Tehama County    </td><td> 816             </td><td>60.7             </td><td>19.69            </td><td>Tree             </td></tr>\n",
       "\t<tr><td>100              </td><td>71399            </td><td>T48113000100     </td><td>Texas            </td><td>TX               </td><td>48               </td><td>Dallas           </td><td>County           </td><td>113              </td><td>48113            </td><td>...              </td><td> 860405316       </td><td>44664518         </td><td>41.81993         </td><td>-121.6338        </td><td>1.57069978       </td><td>Siskiyou County  </td><td>1405             </td><td>50.5             </td><td>24.08            </td><td>Tree             </td></tr>\n",
       "</tbody>\n",
       "</table>\n"
      ],
      "text/latex": [
       "\\begin{tabular}{r|lllllllllllllllllllllllllllllllllllllllllllllllllllllllllllllllllllllllllllllllllllllllllllllllllllllllllllllllllllllllllllllllllllllllllllllllllllllllllllllllllllllllllllllllllllllllllllllllllllllll}\n",
       " TRACT & OID\\_ & NRI\\_ID & STATE & STATEABBRV & STATEFIPS & COUNTY & COUNTYTYPE & COUNTYFIPS & STCOFIPS & ... & land\\_Area & water\\_Area & latitude & longitude & tract\\_avgSlope & County & county\\_avgElevation & avg\\_tempeture & avg\\_precipitation & EVT\\_LF\\\\\n",
       "\\hline\n",
       "\t 100               & 71399             & T48113000100      & Texas             & TX                & 48                & Dallas            & County            & 113               & 48113             & ...               &  255205740        &    75237          & 36.39289          & -119.5984         & 0.05901829        & Kings County      &   81              & 65.3              &  4.48             & Herb             \\\\\n",
       "\t 100               & 71399             & T48113000100      & Texas             & TX                & 48                & Dallas            & County            & 113               & 48113             & ...               &    1536251        &        0          & 32.75299          & -117.1859         & 4.95426757        & San Diego County  &  233              & 64.2              &  8.64             & Shrub            \\\\\n",
       "\t 100               & 71399             & T48113000100      & Texas             & TX                & 48                & Dallas            & County            & 113               & 48113             & ...               &  394460134        &  1068980          & 36.90117          & -121.3587         & 3.04007930        & San Benito County &  149              & 60.8              & 10.24             & Agriculture      \\\\\n",
       "\t 100               & 71399             & T48113000100      & Texas             & TX                & 48                & Dallas            & County            & 113               & 48113             & ...               &    2030976        &   188167          & 38.57777          & -121.4326         & 1.16534486        & Sacramento County &   12              & 63.7              & 12.80             & Tree             \\\\\n",
       "\t 100               & 71399             & T48113000100      & Texas             & TX                & 48                & Dallas            & County            & 113               & 48113             & ...               & 2992366306        &  9139794          & 40.19430          & -121.8565         & 3.81188123        & Tehama County     &  816              & 60.7              & 19.69             & Tree             \\\\\n",
       "\t 100               & 71399             & T48113000100      & Texas             & TX                & 48                & Dallas            & County            & 113               & 48113             & ...               &  860405316        & 44664518          & 41.81993          & -121.6338         & 1.57069978        & Siskiyou County   & 1405              & 50.5              & 24.08             & Tree             \\\\\n",
       "\\end{tabular}\n"
      ],
      "text/markdown": [
       "\n",
       "| TRACT | OID_ | NRI_ID | STATE | STATEABBRV | STATEFIPS | COUNTY | COUNTYTYPE | COUNTYFIPS | STCOFIPS | ... | land_Area | water_Area | latitude | longitude | tract_avgSlope | County | county_avgElevation | avg_tempeture | avg_precipitation | EVT_LF |\n",
       "|---|---|---|---|---|---|---|---|---|---|---|---|---|---|---|---|---|---|---|---|---|\n",
       "| 100               | 71399             | T48113000100      | Texas             | TX                | 48                | Dallas            | County            | 113               | 48113             | ...               |  255205740        |    75237          | 36.39289          | -119.5984         | 0.05901829        | Kings County      |   81              | 65.3              |  4.48             | Herb              |\n",
       "| 100               | 71399             | T48113000100      | Texas             | TX                | 48                | Dallas            | County            | 113               | 48113             | ...               |    1536251        |        0          | 32.75299          | -117.1859         | 4.95426757        | San Diego County  |  233              | 64.2              |  8.64             | Shrub             |\n",
       "| 100               | 71399             | T48113000100      | Texas             | TX                | 48                | Dallas            | County            | 113               | 48113             | ...               |  394460134        |  1068980          | 36.90117          | -121.3587         | 3.04007930        | San Benito County |  149              | 60.8              | 10.24             | Agriculture       |\n",
       "| 100               | 71399             | T48113000100      | Texas             | TX                | 48                | Dallas            | County            | 113               | 48113             | ...               |    2030976        |   188167          | 38.57777          | -121.4326         | 1.16534486        | Sacramento County |   12              | 63.7              | 12.80             | Tree              |\n",
       "| 100               | 71399             | T48113000100      | Texas             | TX                | 48                | Dallas            | County            | 113               | 48113             | ...               | 2992366306        |  9139794          | 40.19430          | -121.8565         | 3.81188123        | Tehama County     |  816              | 60.7              | 19.69             | Tree              |\n",
       "| 100               | 71399             | T48113000100      | Texas             | TX                | 48                | Dallas            | County            | 113               | 48113             | ...               |  860405316        | 44664518          | 41.81993          | -121.6338         | 1.57069978        | Siskiyou County   | 1405              | 50.5              | 24.08             | Tree              |\n",
       "\n"
      ],
      "text/plain": [
       "  TRACT OID_  NRI_ID       STATE STATEABBRV STATEFIPS COUNTY COUNTYTYPE\n",
       "1 100   71399 T48113000100 Texas TX         48        Dallas County    \n",
       "2 100   71399 T48113000100 Texas TX         48        Dallas County    \n",
       "3 100   71399 T48113000100 Texas TX         48        Dallas County    \n",
       "4 100   71399 T48113000100 Texas TX         48        Dallas County    \n",
       "5 100   71399 T48113000100 Texas TX         48        Dallas County    \n",
       "6 100   71399 T48113000100 Texas TX         48        Dallas County    \n",
       "  COUNTYFIPS STCOFIPS ... land_Area  water_Area latitude longitude\n",
       "1 113        48113    ...  255205740    75237   36.39289 -119.5984\n",
       "2 113        48113    ...    1536251        0   32.75299 -117.1859\n",
       "3 113        48113    ...  394460134  1068980   36.90117 -121.3587\n",
       "4 113        48113    ...    2030976   188167   38.57777 -121.4326\n",
       "5 113        48113    ... 2992366306  9139794   40.19430 -121.8565\n",
       "6 113        48113    ...  860405316 44664518   41.81993 -121.6338\n",
       "  tract_avgSlope County            county_avgElevation avg_tempeture\n",
       "1 0.05901829     Kings County        81                65.3         \n",
       "2 4.95426757     San Diego County   233                64.2         \n",
       "3 3.04007930     San Benito County  149                60.8         \n",
       "4 1.16534486     Sacramento County   12                63.7         \n",
       "5 3.81188123     Tehama County      816                60.7         \n",
       "6 1.57069978     Siskiyou County   1405                50.5         \n",
       "  avg_precipitation EVT_LF     \n",
       "1  4.48             Herb       \n",
       "2  8.64             Shrub      \n",
       "3 10.24             Agriculture\n",
       "4 12.80             Tree       \n",
       "5 19.69             Tree       \n",
       "6 24.08             Tree       "
      ]
     },
     "metadata": {},
     "output_type": "display_data"
    }
   ],
   "source": [
    "# Print the resulting merged data frame\n",
    "head(merged_dataset)"
   ]
  },
  {
   "cell_type": "code",
   "execution_count": 10,
   "id": "fcdc52ec",
   "metadata": {},
   "outputs": [
    {
     "data": {
      "text/html": [
       "<ol class=list-inline>\n",
       "\t<li>25500</li>\n",
       "\t<li>199</li>\n",
       "</ol>\n"
      ],
      "text/latex": [
       "\\begin{enumerate*}\n",
       "\\item 25500\n",
       "\\item 199\n",
       "\\end{enumerate*}\n"
      ],
      "text/markdown": [
       "1. 25500\n",
       "2. 199\n",
       "\n",
       "\n"
      ],
      "text/plain": [
       "[1] 25500   199"
      ]
     },
     "metadata": {},
     "output_type": "display_data"
    }
   ],
   "source": [
    "# Print the dimensions of the dataset\n",
    "dim(merged_dataset)"
   ]
  },
  {
   "cell_type": "markdown",
   "id": "1a8cece7",
   "metadata": {},
   "source": []
  },
  {
   "cell_type": "code",
   "execution_count": 11,
   "id": "2a4638e7",
   "metadata": {},
   "outputs": [
    {
     "data": {
      "text/html": [
       "<table>\n",
       "<thead><tr><th></th><th scope=col>TRACT</th><th scope=col>OID_</th><th scope=col>NRI_ID</th><th scope=col>STATE</th><th scope=col>STATEABBRV</th><th scope=col>STATEFIPS</th><th scope=col>COUNTY</th><th scope=col>COUNTYTYPE</th><th scope=col>COUNTYFIPS</th><th scope=col>STCOFIPS</th><th scope=col>...</th><th scope=col>land_Area</th><th scope=col>water_Area</th><th scope=col>latitude</th><th scope=col>longitude</th><th scope=col>tract_avgSlope</th><th scope=col>County</th><th scope=col>county_avgElevation</th><th scope=col>avg_tempeture</th><th scope=col>avg_precipitation</th><th scope=col>EVT_LF</th></tr></thead>\n",
       "<tbody>\n",
       "\t<tr><th scope=row>14</th><td>100              </td><td>5517             </td><td>T06031000100     </td><td>California       </td><td>CA               </td><td>6                </td><td>Kings            </td><td>County           </td><td>31               </td><td>6031             </td><td>...              </td><td> 255205740       </td><td>   75237         </td><td>36.39289         </td><td>-119.5984        </td><td>0.05901829       </td><td>Kings County     </td><td>  81             </td><td>65.3             </td><td> 4.48            </td><td>Herb             </td></tr>\n",
       "\t<tr><th scope=row>15</th><td>100              </td><td>5517             </td><td>T06031000100     </td><td>California       </td><td>CA               </td><td>6                </td><td>Kings            </td><td>County           </td><td>31               </td><td>6031             </td><td>...              </td><td>   1536251       </td><td>       0         </td><td>32.75299         </td><td>-117.1859        </td><td>4.95426757       </td><td>San Diego County </td><td> 233             </td><td>64.2             </td><td> 8.64            </td><td>Shrub            </td></tr>\n",
       "\t<tr><th scope=row>16</th><td>100              </td><td>5517             </td><td>T06031000100     </td><td>California       </td><td>CA               </td><td>6                </td><td>Kings            </td><td>County           </td><td>31               </td><td>6031             </td><td>...              </td><td> 394460134       </td><td> 1068980         </td><td>36.90117         </td><td>-121.3587        </td><td>3.04007930       </td><td>San Benito County</td><td> 149             </td><td>60.8             </td><td>10.24            </td><td>Agriculture      </td></tr>\n",
       "\t<tr><th scope=row>17</th><td>100              </td><td>5517             </td><td>T06031000100     </td><td>California       </td><td>CA               </td><td>6                </td><td>Kings            </td><td>County           </td><td>31               </td><td>6031             </td><td>...              </td><td>   2030976       </td><td>  188167         </td><td>38.57777         </td><td>-121.4326        </td><td>1.16534486       </td><td>Sacramento County</td><td>  12             </td><td>63.7             </td><td>12.80            </td><td>Tree             </td></tr>\n",
       "\t<tr><th scope=row>18</th><td>100              </td><td>5517             </td><td>T06031000100     </td><td>California       </td><td>CA               </td><td>6                </td><td>Kings            </td><td>County           </td><td>31               </td><td>6031             </td><td>...              </td><td>2992366306       </td><td> 9139794         </td><td>40.19430         </td><td>-121.8565        </td><td>3.81188123       </td><td>Tehama County    </td><td> 816             </td><td>60.7             </td><td>19.69            </td><td>Tree             </td></tr>\n",
       "\t<tr><th scope=row>19</th><td>100              </td><td>5517             </td><td>T06031000100     </td><td>California       </td><td>CA               </td><td>6                </td><td>Kings            </td><td>County           </td><td>31               </td><td>6031             </td><td>...              </td><td> 860405316       </td><td>44664518         </td><td>41.81993         </td><td>-121.6338        </td><td>1.57069978       </td><td>Siskiyou County  </td><td>1405             </td><td>50.5             </td><td>24.08            </td><td>Tree             </td></tr>\n",
       "</tbody>\n",
       "</table>\n"
      ],
      "text/latex": [
       "\\begin{tabular}{r|lllllllllllllllllllllllllllllllllllllllllllllllllllllllllllllllllllllllllllllllllllllllllllllllllllllllllllllllllllllllllllllllllllllllllllllllllllllllllllllllllllllllllllllllllllllllllllllllllllllll}\n",
       "  & TRACT & OID\\_ & NRI\\_ID & STATE & STATEABBRV & STATEFIPS & COUNTY & COUNTYTYPE & COUNTYFIPS & STCOFIPS & ... & land\\_Area & water\\_Area & latitude & longitude & tract\\_avgSlope & County & county\\_avgElevation & avg\\_tempeture & avg\\_precipitation & EVT\\_LF\\\\\n",
       "\\hline\n",
       "\t14 & 100               & 5517              & T06031000100      & California        & CA                & 6                 & Kings             & County            & 31                & 6031              & ...               &  255205740        &    75237          & 36.39289          & -119.5984         & 0.05901829        & Kings County      &   81              & 65.3              &  4.48             & Herb             \\\\\n",
       "\t15 & 100               & 5517              & T06031000100      & California        & CA                & 6                 & Kings             & County            & 31                & 6031              & ...               &    1536251        &        0          & 32.75299          & -117.1859         & 4.95426757        & San Diego County  &  233              & 64.2              &  8.64             & Shrub            \\\\\n",
       "\t16 & 100               & 5517              & T06031000100      & California        & CA                & 6                 & Kings             & County            & 31                & 6031              & ...               &  394460134        &  1068980          & 36.90117          & -121.3587         & 3.04007930        & San Benito County &  149              & 60.8              & 10.24             & Agriculture      \\\\\n",
       "\t17 & 100               & 5517              & T06031000100      & California        & CA                & 6                 & Kings             & County            & 31                & 6031              & ...               &    2030976        &   188167          & 38.57777          & -121.4326         & 1.16534486        & Sacramento County &   12              & 63.7              & 12.80             & Tree             \\\\\n",
       "\t18 & 100               & 5517              & T06031000100      & California        & CA                & 6                 & Kings             & County            & 31                & 6031              & ...               & 2992366306        &  9139794          & 40.19430          & -121.8565         & 3.81188123        & Tehama County     &  816              & 60.7              & 19.69             & Tree             \\\\\n",
       "\t19 & 100               & 5517              & T06031000100      & California        & CA                & 6                 & Kings             & County            & 31                & 6031              & ...               &  860405316        & 44664518          & 41.81993          & -121.6338         & 1.57069978        & Siskiyou County   & 1405              & 50.5              & 24.08             & Tree             \\\\\n",
       "\\end{tabular}\n"
      ],
      "text/markdown": [
       "\n",
       "| <!--/--> | TRACT | OID_ | NRI_ID | STATE | STATEABBRV | STATEFIPS | COUNTY | COUNTYTYPE | COUNTYFIPS | STCOFIPS | ... | land_Area | water_Area | latitude | longitude | tract_avgSlope | County | county_avgElevation | avg_tempeture | avg_precipitation | EVT_LF |\n",
       "|---|---|---|---|---|---|---|---|---|---|---|---|---|---|---|---|---|---|---|---|---|---|\n",
       "| 14 | 100               | 5517              | T06031000100      | California        | CA                | 6                 | Kings             | County            | 31                | 6031              | ...               |  255205740        |    75237          | 36.39289          | -119.5984         | 0.05901829        | Kings County      |   81              | 65.3              |  4.48             | Herb              |\n",
       "| 15 | 100               | 5517              | T06031000100      | California        | CA                | 6                 | Kings             | County            | 31                | 6031              | ...               |    1536251        |        0          | 32.75299          | -117.1859         | 4.95426757        | San Diego County  |  233              | 64.2              |  8.64             | Shrub             |\n",
       "| 16 | 100               | 5517              | T06031000100      | California        | CA                | 6                 | Kings             | County            | 31                | 6031              | ...               |  394460134        |  1068980          | 36.90117          | -121.3587         | 3.04007930        | San Benito County |  149              | 60.8              | 10.24             | Agriculture       |\n",
       "| 17 | 100               | 5517              | T06031000100      | California        | CA                | 6                 | Kings             | County            | 31                | 6031              | ...               |    2030976        |   188167          | 38.57777          | -121.4326         | 1.16534486        | Sacramento County |   12              | 63.7              | 12.80             | Tree              |\n",
       "| 18 | 100               | 5517              | T06031000100      | California        | CA                | 6                 | Kings             | County            | 31                | 6031              | ...               | 2992366306        |  9139794          | 40.19430          | -121.8565         | 3.81188123        | Tehama County     |  816              | 60.7              | 19.69             | Tree              |\n",
       "| 19 | 100               | 5517              | T06031000100      | California        | CA                | 6                 | Kings             | County            | 31                | 6031              | ...               |  860405316        | 44664518          | 41.81993          | -121.6338         | 1.57069978        | Siskiyou County   | 1405              | 50.5              | 24.08             | Tree              |\n",
       "\n"
      ],
      "text/plain": [
       "   TRACT OID_ NRI_ID       STATE      STATEABBRV STATEFIPS COUNTY COUNTYTYPE\n",
       "14 100   5517 T06031000100 California CA         6         Kings  County    \n",
       "15 100   5517 T06031000100 California CA         6         Kings  County    \n",
       "16 100   5517 T06031000100 California CA         6         Kings  County    \n",
       "17 100   5517 T06031000100 California CA         6         Kings  County    \n",
       "18 100   5517 T06031000100 California CA         6         Kings  County    \n",
       "19 100   5517 T06031000100 California CA         6         Kings  County    \n",
       "   COUNTYFIPS STCOFIPS ... land_Area  water_Area latitude longitude\n",
       "14 31         6031     ...  255205740    75237   36.39289 -119.5984\n",
       "15 31         6031     ...    1536251        0   32.75299 -117.1859\n",
       "16 31         6031     ...  394460134  1068980   36.90117 -121.3587\n",
       "17 31         6031     ...    2030976   188167   38.57777 -121.4326\n",
       "18 31         6031     ... 2992366306  9139794   40.19430 -121.8565\n",
       "19 31         6031     ...  860405316 44664518   41.81993 -121.6338\n",
       "   tract_avgSlope County            county_avgElevation avg_tempeture\n",
       "14 0.05901829     Kings County        81                65.3         \n",
       "15 4.95426757     San Diego County   233                64.2         \n",
       "16 3.04007930     San Benito County  149                60.8         \n",
       "17 1.16534486     Sacramento County   12                63.7         \n",
       "18 3.81188123     Tehama County      816                60.7         \n",
       "19 1.57069978     Siskiyou County   1405                50.5         \n",
       "   avg_precipitation EVT_LF     \n",
       "14  4.48             Herb       \n",
       "15  8.64             Shrub      \n",
       "16 10.24             Agriculture\n",
       "17 12.80             Tree       \n",
       "18 19.69             Tree       \n",
       "19 24.08             Tree       "
      ]
     },
     "metadata": {},
     "output_type": "display_data"
    }
   ],
   "source": [
    "# Select rows where the 'STATE' column is 'California'\n",
    "cali_data <- merged_dataset[merged_dataset$STATE == \"California\", ]\n",
    "\n",
    "# Display or work with the California data\n",
    "head(cali_data)"
   ]
  },
  {
   "cell_type": "code",
   "execution_count": 12,
   "id": "39c2200b",
   "metadata": {},
   "outputs": [
    {
     "data": {
      "text/html": [
       "<ol class=list-inline>\n",
       "\t<li>17422</li>\n",
       "\t<li>199</li>\n",
       "</ol>\n"
      ],
      "text/latex": [
       "\\begin{enumerate*}\n",
       "\\item 17422\n",
       "\\item 199\n",
       "\\end{enumerate*}\n"
      ],
      "text/markdown": [
       "1. 17422\n",
       "2. 199\n",
       "\n",
       "\n"
      ],
      "text/plain": [
       "[1] 17422   199"
      ]
     },
     "metadata": {},
     "output_type": "display_data"
    }
   ],
   "source": [
    "# Print the dimensions of the dataset\n",
    "dim(cali_data)"
   ]
  },
  {
   "cell_type": "markdown",
   "id": "ffa20f10",
   "metadata": {},
   "source": []
  },
  {
   "cell_type": "code",
   "execution_count": 13,
   "id": "f42cff30",
   "metadata": {},
   "outputs": [
    {
     "data": {
      "text/html": [
       "<table>\n",
       "<thead><tr><th></th><th scope=col>TRACT</th><th scope=col>County</th><th scope=col>COUNTY</th></tr></thead>\n",
       "<tbody>\n",
       "\t<tr><th scope=row>14</th><td>100              </td><td>Kings County     </td><td>Kings            </td></tr>\n",
       "\t<tr><th scope=row>15</th><td>100              </td><td>San Diego County </td><td>Kings            </td></tr>\n",
       "\t<tr><th scope=row>16</th><td>100              </td><td>San Benito County</td><td>Kings            </td></tr>\n",
       "\t<tr><th scope=row>17</th><td>100              </td><td>Sacramento County</td><td>Kings            </td></tr>\n",
       "\t<tr><th scope=row>18</th><td>100              </td><td>Tehama County    </td><td>Kings            </td></tr>\n",
       "\t<tr><th scope=row>19</th><td>100              </td><td>Siskiyou County  </td><td>Kings            </td></tr>\n",
       "</tbody>\n",
       "</table>\n"
      ],
      "text/latex": [
       "\\begin{tabular}{r|lll}\n",
       "  & TRACT & County & COUNTY\\\\\n",
       "\\hline\n",
       "\t14 & 100               & Kings County      & Kings            \\\\\n",
       "\t15 & 100               & San Diego County  & Kings            \\\\\n",
       "\t16 & 100               & San Benito County & Kings            \\\\\n",
       "\t17 & 100               & Sacramento County & Kings            \\\\\n",
       "\t18 & 100               & Tehama County     & Kings            \\\\\n",
       "\t19 & 100               & Siskiyou County   & Kings            \\\\\n",
       "\\end{tabular}\n"
      ],
      "text/markdown": [
       "\n",
       "| <!--/--> | TRACT | County | COUNTY |\n",
       "|---|---|---|---|\n",
       "| 14 | 100               | Kings County      | Kings             |\n",
       "| 15 | 100               | San Diego County  | Kings             |\n",
       "| 16 | 100               | San Benito County | Kings             |\n",
       "| 17 | 100               | Sacramento County | Kings             |\n",
       "| 18 | 100               | Tehama County     | Kings             |\n",
       "| 19 | 100               | Siskiyou County   | Kings             |\n",
       "\n"
      ],
      "text/plain": [
       "   TRACT County            COUNTY\n",
       "14 100   Kings County      Kings \n",
       "15 100   San Diego County  Kings \n",
       "16 100   San Benito County Kings \n",
       "17 100   Sacramento County Kings \n",
       "18 100   Tehama County     Kings \n",
       "19 100   Siskiyou County   Kings "
      ]
     },
     "metadata": {},
     "output_type": "display_data"
    }
   ],
   "source": [
    "# Choose two columns to view (replace 'Column1' and 'Column2' with the actual column names)\n",
    "columns_to_view <- c(\"TRACT\", \"County\", \"COUNTY\")\n",
    "\n",
    "# View the selected columns\n",
    "viewed_data <- cali_data[columns_to_view]\n",
    "\n",
    "# Display the selected columns\n",
    "head(viewed_data)\n"
   ]
  },
  {
   "cell_type": "markdown",
   "id": "f11543d9",
   "metadata": {},
   "source": []
  },
  {
   "cell_type": "code",
   "execution_count": 14,
   "id": "7500b053",
   "metadata": {},
   "outputs": [],
   "source": [
    "# Create a new data frame from cali_data\n",
    "cali_df <- data.frame(cali_data)\n"
   ]
  },
  {
   "cell_type": "markdown",
   "id": "02b53918",
   "metadata": {},
   "source": []
  },
  {
   "cell_type": "code",
   "execution_count": 15,
   "id": "236d53ab",
   "metadata": {},
   "outputs": [
    {
     "data": {
      "text/html": [
       "<dl class=dl-horizontal>\n",
       "\t<dt>TRACT</dt>\n",
       "\t\t<dd>'integer'</dd>\n",
       "\t<dt>OID_</dt>\n",
       "\t\t<dd>'integer'</dd>\n",
       "\t<dt>NRI_ID</dt>\n",
       "\t\t<dd>'factor'</dd>\n",
       "\t<dt>STATE</dt>\n",
       "\t\t<dd>'factor'</dd>\n",
       "\t<dt>STATEABBRV</dt>\n",
       "\t\t<dd>'factor'</dd>\n",
       "\t<dt>STATEFIPS</dt>\n",
       "\t\t<dd>'integer'</dd>\n",
       "</dl>\n"
      ],
      "text/latex": [
       "\\begin{description*}\n",
       "\\item[TRACT] 'integer'\n",
       "\\item[OID\\textbackslash{}\\_] 'integer'\n",
       "\\item[NRI\\textbackslash{}\\_ID] 'factor'\n",
       "\\item[STATE] 'factor'\n",
       "\\item[STATEABBRV] 'factor'\n",
       "\\item[STATEFIPS] 'integer'\n",
       "\\end{description*}\n"
      ],
      "text/markdown": [
       "TRACT\n",
       ":   'integer'OID_\n",
       ":   'integer'NRI_ID\n",
       ":   'factor'STATE\n",
       ":   'factor'STATEABBRV\n",
       ":   'factor'STATEFIPS\n",
       ":   'integer'\n",
       "\n"
      ],
      "text/plain": [
       "     TRACT       OID_     NRI_ID      STATE STATEABBRV  STATEFIPS \n",
       " \"integer\"  \"integer\"   \"factor\"   \"factor\"   \"factor\"  \"integer\" "
      ]
     },
     "metadata": {},
     "output_type": "display_data"
    }
   ],
   "source": [
    "# Get data type information for each column\n",
    "data_types <- sapply(cali_df, class)\n",
    "\n",
    "# Print data type information\n",
    "head(data_types)\n"
   ]
  },
  {
   "cell_type": "markdown",
   "id": "9d18eeca",
   "metadata": {},
   "source": []
  },
  {
   "cell_type": "code",
   "execution_count": 16,
   "id": "d78be4fe",
   "metadata": {},
   "outputs": [
    {
     "name": "stdout",
     "output_type": "stream",
     "text": [
      "Categorical Column Names:\n",
      "   Categorical.Column.Names\n",
      "1                    NRI_ID\n",
      "2                     STATE\n",
      "3                STATEABBRV\n",
      "4                    COUNTY\n",
      "5                COUNTYTYPE\n",
      "6                RISK_RATNG\n",
      "7                 EAL_RATNG\n",
      "8                SOVI_RATNG\n",
      "9                RESL_RATNG\n",
      "10                DRGT_HLRR\n",
      "11                DRGT_EALR\n",
      "12               DRGT_RISKR\n",
      "13                HWAV_HLRR\n",
      "14                HWAV_EALR\n",
      "15               HWAV_RISKR\n",
      "16                LTNG_HLRR\n",
      "17                LTNG_EALR\n",
      "18               LTNG_RISKR\n",
      "19                RFLD_HLRR\n",
      "20                RFLD_EALR\n",
      "21               RFLD_RISKR\n",
      "22                SWND_HLRR\n",
      "23                SWND_EALR\n",
      "24               SWND_RISKR\n",
      "25                WFIR_HLRR\n",
      "26                WFIR_EALR\n",
      "27               WFIR_RISKR\n",
      "28                 NAMELSAD\n",
      "29                   County\n",
      "30                   EVT_LF\n"
     ]
    }
   ],
   "source": [
    "# Get the names of categorical columns\n",
    "categorical_columns <- names(cali_df)[sapply(cali_df, is.factor)]\n",
    "\n",
    "# Create a data frame from the categorical column names\n",
    "categorical_columns_df <- data.frame(\"Categorical Column Names\" = categorical_columns)\n",
    "\n",
    "# Display the data frame\n",
    "cat(\"Categorical Column Names:\\n\")\n",
    "print(categorical_columns_df)\n"
   ]
  },
  {
   "cell_type": "markdown",
   "id": "e0f0a2f2",
   "metadata": {},
   "source": []
  },
  {
   "cell_type": "code",
   "execution_count": 17,
   "id": "63b17ca0",
   "metadata": {},
   "outputs": [
    {
     "name": "stdout",
     "output_type": "stream",
     "text": [
      "Selected column ( NRI_VER ):\n"
     ]
    },
    {
     "data": {
      "text/html": [
       "<ol class=list-inline>\n",
       "\t<li>45008</li>\n",
       "\t<li>45008</li>\n",
       "\t<li>45008</li>\n",
       "\t<li>45008</li>\n",
       "\t<li>45008</li>\n",
       "\t<li>45008</li>\n",
       "</ol>\n"
      ],
      "text/latex": [
       "\\begin{enumerate*}\n",
       "\\item 45008\n",
       "\\item 45008\n",
       "\\item 45008\n",
       "\\item 45008\n",
       "\\item 45008\n",
       "\\item 45008\n",
       "\\end{enumerate*}\n"
      ],
      "text/markdown": [
       "1. 45008\n",
       "2. 45008\n",
       "3. 45008\n",
       "4. 45008\n",
       "5. 45008\n",
       "6. 45008\n",
       "\n",
       "\n"
      ],
      "text/plain": [
       "[1] 45008 45008 45008 45008 45008 45008"
      ]
     },
     "metadata": {},
     "output_type": "display_data"
    }
   ],
   "source": [
    "# Choose the column to print\n",
    "column_to_print <- \"NRI_VER\"\n",
    "\n",
    "# Print the selected column\n",
    "cat(paste(\"Selected column (\", column_to_print, \"):\\n\"))\n",
    "head(cali_df[[column_to_print]])\n"
   ]
  },
  {
   "cell_type": "code",
   "execution_count": 18,
   "id": "14429421",
   "metadata": {},
   "outputs": [
    {
     "name": "stdout",
     "output_type": "stream",
     "text": [
      "Unique values in the selected column:\n",
      "45008 \n"
     ]
    }
   ],
   "source": [
    "# Choose the column to get unique values from (replace 'ColumnName' with the actual column name)\n",
    "column_to_print <- \"NRI_VER\"\n",
    "\n",
    "# Get unique values from the selected column\n",
    "unique_values <- unique(cali_df[[column_to_print]])\n",
    "\n",
    "# Print the unique values\n",
    "cat(\"Unique values in the selected column:\\n\")\n",
    "for (value in unique_values) {\n",
    "  cat(value, \"\\n\")\n",
    "}\n"
   ]
  },
  {
   "cell_type": "markdown",
   "id": "a6dc9b6a",
   "metadata": {},
   "source": []
  },
  {
   "cell_type": "code",
   "execution_count": 19,
   "id": "1737588e",
   "metadata": {},
   "outputs": [
    {
     "name": "stdout",
     "output_type": "stream",
     "text": [
      "Data Frame with Non-Unique Columns Removed:\n"
     ]
    },
    {
     "data": {
      "text/html": [
       "<table>\n",
       "<thead><tr><th></th><th scope=col>TRACT</th><th scope=col>OID_</th><th scope=col>NRI_ID</th><th scope=col>COUNTY</th><th scope=col>COUNTYFIPS</th><th scope=col>STCOFIPS</th><th scope=col>TRACTFIPS</th><th scope=col>POPULATION</th><th scope=col>BUILDVALUE</th><th scope=col>AGRIVALUE</th><th scope=col>...</th><th scope=col>land_Area</th><th scope=col>water_Area</th><th scope=col>latitude</th><th scope=col>longitude</th><th scope=col>tract_avgSlope</th><th scope=col>County</th><th scope=col>county_avgElevation</th><th scope=col>avg_tempeture</th><th scope=col>avg_precipitation</th><th scope=col>EVT_LF</th></tr></thead>\n",
       "<tbody>\n",
       "\t<tr><th scope=row>14</th><td>100              </td><td>5517             </td><td>T06031000100     </td><td>Kings            </td><td>31               </td><td>6031             </td><td>6.031e+09        </td><td>2910             </td><td>812611144        </td><td>103725013        </td><td>...              </td><td> 255205740       </td><td>   75237         </td><td>36.39289         </td><td>-119.5984        </td><td>0.05901829       </td><td>Kings County     </td><td>  81             </td><td>65.3             </td><td> 4.48            </td><td>Herb             </td></tr>\n",
       "\t<tr><th scope=row>15</th><td>100              </td><td>5517             </td><td>T06031000100     </td><td>Kings            </td><td>31               </td><td>6031             </td><td>6.031e+09        </td><td>2910             </td><td>812611144        </td><td>103725013        </td><td>...              </td><td>   1536251       </td><td>       0         </td><td>32.75299         </td><td>-117.1859        </td><td>4.95426757       </td><td>San Diego County </td><td> 233             </td><td>64.2             </td><td> 8.64            </td><td>Shrub            </td></tr>\n",
       "\t<tr><th scope=row>16</th><td>100              </td><td>5517             </td><td>T06031000100     </td><td>Kings            </td><td>31               </td><td>6031             </td><td>6.031e+09        </td><td>2910             </td><td>812611144        </td><td>103725013        </td><td>...              </td><td> 394460134       </td><td> 1068980         </td><td>36.90117         </td><td>-121.3587        </td><td>3.04007930       </td><td>San Benito County</td><td> 149             </td><td>60.8             </td><td>10.24            </td><td>Agriculture      </td></tr>\n",
       "\t<tr><th scope=row>17</th><td>100              </td><td>5517             </td><td>T06031000100     </td><td>Kings            </td><td>31               </td><td>6031             </td><td>6.031e+09        </td><td>2910             </td><td>812611144        </td><td>103725013        </td><td>...              </td><td>   2030976       </td><td>  188167         </td><td>38.57777         </td><td>-121.4326        </td><td>1.16534486       </td><td>Sacramento County</td><td>  12             </td><td>63.7             </td><td>12.80            </td><td>Tree             </td></tr>\n",
       "\t<tr><th scope=row>18</th><td>100              </td><td>5517             </td><td>T06031000100     </td><td>Kings            </td><td>31               </td><td>6031             </td><td>6.031e+09        </td><td>2910             </td><td>812611144        </td><td>103725013        </td><td>...              </td><td>2992366306       </td><td> 9139794         </td><td>40.19430         </td><td>-121.8565        </td><td>3.81188123       </td><td>Tehama County    </td><td> 816             </td><td>60.7             </td><td>19.69            </td><td>Tree             </td></tr>\n",
       "\t<tr><th scope=row>19</th><td>100              </td><td>5517             </td><td>T06031000100     </td><td>Kings            </td><td>31               </td><td>6031             </td><td>6.031e+09        </td><td>2910             </td><td>812611144        </td><td>103725013        </td><td>...              </td><td> 860405316       </td><td>44664518         </td><td>41.81993         </td><td>-121.6338        </td><td>1.57069978       </td><td>Siskiyou County  </td><td>1405             </td><td>50.5             </td><td>24.08            </td><td>Tree             </td></tr>\n",
       "</tbody>\n",
       "</table>\n"
      ],
      "text/latex": [
       "\\begin{tabular}{r|lllllllllllllllllllllllllllllllllllllllllllllllllllllllllllllllllllllllllllllllllllllllllllllllllllllllllllllllllllllllllllllllllllllllllllllllllllllllllllllllllllllllllllllllllllllllllllllll}\n",
       "  & TRACT & OID\\_ & NRI\\_ID & COUNTY & COUNTYFIPS & STCOFIPS & TRACTFIPS & POPULATION & BUILDVALUE & AGRIVALUE & ... & land\\_Area & water\\_Area & latitude & longitude & tract\\_avgSlope & County & county\\_avgElevation & avg\\_tempeture & avg\\_precipitation & EVT\\_LF\\\\\n",
       "\\hline\n",
       "\t14 & 100               & 5517              & T06031000100      & Kings             & 31                & 6031              & 6.031e+09         & 2910              & 812611144         & 103725013         & ...               &  255205740        &    75237          & 36.39289          & -119.5984         & 0.05901829        & Kings County      &   81              & 65.3              &  4.48             & Herb             \\\\\n",
       "\t15 & 100               & 5517              & T06031000100      & Kings             & 31                & 6031              & 6.031e+09         & 2910              & 812611144         & 103725013         & ...               &    1536251        &        0          & 32.75299          & -117.1859         & 4.95426757        & San Diego County  &  233              & 64.2              &  8.64             & Shrub            \\\\\n",
       "\t16 & 100               & 5517              & T06031000100      & Kings             & 31                & 6031              & 6.031e+09         & 2910              & 812611144         & 103725013         & ...               &  394460134        &  1068980          & 36.90117          & -121.3587         & 3.04007930        & San Benito County &  149              & 60.8              & 10.24             & Agriculture      \\\\\n",
       "\t17 & 100               & 5517              & T06031000100      & Kings             & 31                & 6031              & 6.031e+09         & 2910              & 812611144         & 103725013         & ...               &    2030976        &   188167          & 38.57777          & -121.4326         & 1.16534486        & Sacramento County &   12              & 63.7              & 12.80             & Tree             \\\\\n",
       "\t18 & 100               & 5517              & T06031000100      & Kings             & 31                & 6031              & 6.031e+09         & 2910              & 812611144         & 103725013         & ...               & 2992366306        &  9139794          & 40.19430          & -121.8565         & 3.81188123        & Tehama County     &  816              & 60.7              & 19.69             & Tree             \\\\\n",
       "\t19 & 100               & 5517              & T06031000100      & Kings             & 31                & 6031              & 6.031e+09         & 2910              & 812611144         & 103725013         & ...               &  860405316        & 44664518          & 41.81993          & -121.6338         & 1.57069978        & Siskiyou County   & 1405              & 50.5              & 24.08             & Tree             \\\\\n",
       "\\end{tabular}\n"
      ],
      "text/markdown": [
       "\n",
       "| <!--/--> | TRACT | OID_ | NRI_ID | COUNTY | COUNTYFIPS | STCOFIPS | TRACTFIPS | POPULATION | BUILDVALUE | AGRIVALUE | ... | land_Area | water_Area | latitude | longitude | tract_avgSlope | County | county_avgElevation | avg_tempeture | avg_precipitation | EVT_LF |\n",
       "|---|---|---|---|---|---|---|---|---|---|---|---|---|---|---|---|---|---|---|---|---|---|\n",
       "| 14 | 100               | 5517              | T06031000100      | Kings             | 31                | 6031              | 6.031e+09         | 2910              | 812611144         | 103725013         | ...               |  255205740        |    75237          | 36.39289          | -119.5984         | 0.05901829        | Kings County      |   81              | 65.3              |  4.48             | Herb              |\n",
       "| 15 | 100               | 5517              | T06031000100      | Kings             | 31                | 6031              | 6.031e+09         | 2910              | 812611144         | 103725013         | ...               |    1536251        |        0          | 32.75299          | -117.1859         | 4.95426757        | San Diego County  |  233              | 64.2              |  8.64             | Shrub             |\n",
       "| 16 | 100               | 5517              | T06031000100      | Kings             | 31                | 6031              | 6.031e+09         | 2910              | 812611144         | 103725013         | ...               |  394460134        |  1068980          | 36.90117          | -121.3587         | 3.04007930        | San Benito County |  149              | 60.8              | 10.24             | Agriculture       |\n",
       "| 17 | 100               | 5517              | T06031000100      | Kings             | 31                | 6031              | 6.031e+09         | 2910              | 812611144         | 103725013         | ...               |    2030976        |   188167          | 38.57777          | -121.4326         | 1.16534486        | Sacramento County |   12              | 63.7              | 12.80             | Tree              |\n",
       "| 18 | 100               | 5517              | T06031000100      | Kings             | 31                | 6031              | 6.031e+09         | 2910              | 812611144         | 103725013         | ...               | 2992366306        |  9139794          | 40.19430          | -121.8565         | 3.81188123        | Tehama County     |  816              | 60.7              | 19.69             | Tree              |\n",
       "| 19 | 100               | 5517              | T06031000100      | Kings             | 31                | 6031              | 6.031e+09         | 2910              | 812611144         | 103725013         | ...               |  860405316        | 44664518          | 41.81993          | -121.6338         | 1.57069978        | Siskiyou County   | 1405              | 50.5              | 24.08             | Tree              |\n",
       "\n"
      ],
      "text/plain": [
       "   TRACT OID_ NRI_ID       COUNTY COUNTYFIPS STCOFIPS TRACTFIPS POPULATION\n",
       "14 100   5517 T06031000100 Kings  31         6031     6.031e+09 2910      \n",
       "15 100   5517 T06031000100 Kings  31         6031     6.031e+09 2910      \n",
       "16 100   5517 T06031000100 Kings  31         6031     6.031e+09 2910      \n",
       "17 100   5517 T06031000100 Kings  31         6031     6.031e+09 2910      \n",
       "18 100   5517 T06031000100 Kings  31         6031     6.031e+09 2910      \n",
       "19 100   5517 T06031000100 Kings  31         6031     6.031e+09 2910      \n",
       "   BUILDVALUE AGRIVALUE ... land_Area  water_Area latitude longitude\n",
       "14 812611144  103725013 ...  255205740    75237   36.39289 -119.5984\n",
       "15 812611144  103725013 ...    1536251        0   32.75299 -117.1859\n",
       "16 812611144  103725013 ...  394460134  1068980   36.90117 -121.3587\n",
       "17 812611144  103725013 ...    2030976   188167   38.57777 -121.4326\n",
       "18 812611144  103725013 ... 2992366306  9139794   40.19430 -121.8565\n",
       "19 812611144  103725013 ...  860405316 44664518   41.81993 -121.6338\n",
       "   tract_avgSlope County            county_avgElevation avg_tempeture\n",
       "14 0.05901829     Kings County        81                65.3         \n",
       "15 4.95426757     San Diego County   233                64.2         \n",
       "16 3.04007930     San Benito County  149                60.8         \n",
       "17 1.16534486     Sacramento County   12                63.7         \n",
       "18 3.81188123     Tehama County      816                60.7         \n",
       "19 1.57069978     Siskiyou County   1405                50.5         \n",
       "   avg_precipitation EVT_LF     \n",
       "14  4.48             Herb       \n",
       "15  8.64             Shrub      \n",
       "16 10.24             Agriculture\n",
       "17 12.80             Tree       \n",
       "18 19.69             Tree       \n",
       "19 24.08             Tree       "
      ]
     },
     "metadata": {},
     "output_type": "display_data"
    }
   ],
   "source": [
    "# Separate columns into categorical and numerical\n",
    "categorical_columns <- names(cali_df)[sapply(cali_df, is.factor)]\n",
    "numerical_columns <- names(cali_df)[!sapply(cali_df, is.factor)]\n",
    "\n",
    "# List non-unique categorical and numerical columns\n",
    "non_unique_categorical_columns <- character(0)\n",
    "non_unique_numerical_columns <- character(0)\n",
    "\n",
    "# Check for non-unique values in categorical columns\n",
    "for (column in categorical_columns) {\n",
    "  unique_count <- length(unique(cali_df[[column]]))\n",
    "  if (unique_count == 1) {\n",
    "    non_unique_categorical_columns <- c(non_unique_categorical_columns, column)\n",
    "  }\n",
    "}\n",
    "\n",
    "# Check for non-unique values in numerical columns\n",
    "for (column in numerical_columns) {\n",
    "  unique_count <- length(unique(cali_df[[column]]))\n",
    "  if (unique_count == 1) {\n",
    "    non_unique_numerical_columns <- c(non_unique_numerical_columns, column)\n",
    "  }\n",
    "}\n",
    "\n",
    "# Drop non-unique columns from the data frame\n",
    "cali_df2 <- cali_df[, !(names(cali_df) %in% c(non_unique_categorical_columns, non_unique_numerical_columns))]\n",
    "\n",
    "# Display the data frame with non-unique columns removed\n",
    "cat(\"Data Frame with Non-Unique Columns Removed:\\n\")\n",
    "head(cali_df2)\n"
   ]
  },
  {
   "cell_type": "code",
   "execution_count": 20,
   "id": "9569ca4e",
   "metadata": {},
   "outputs": [
    {
     "name": "stdout",
     "output_type": "stream",
     "text": [
      "Categorical Column Names:\n",
      "   Categorical.Column.Names\n",
      "1                    NRI_ID\n",
      "2                    COUNTY\n",
      "3                RISK_RATNG\n",
      "4                 EAL_RATNG\n",
      "5                SOVI_RATNG\n",
      "6                RESL_RATNG\n",
      "7                 DRGT_HLRR\n",
      "8                 DRGT_EALR\n",
      "9                DRGT_RISKR\n",
      "10                HWAV_HLRR\n",
      "11                HWAV_EALR\n",
      "12               HWAV_RISKR\n",
      "13                LTNG_HLRR\n",
      "14                LTNG_EALR\n",
      "15               LTNG_RISKR\n",
      "16                RFLD_HLRR\n",
      "17                RFLD_EALR\n",
      "18               RFLD_RISKR\n",
      "19                SWND_HLRR\n",
      "20                SWND_EALR\n",
      "21               SWND_RISKR\n",
      "22                WFIR_HLRR\n",
      "23                WFIR_EALR\n",
      "24               WFIR_RISKR\n",
      "25                 NAMELSAD\n",
      "26                   County\n",
      "27                   EVT_LF\n"
     ]
    }
   ],
   "source": [
    "# Get the names of categorical columns\n",
    "categorical_columns2 <- names(cali_df2)[sapply(cali_df2, is.factor)]\n",
    "\n",
    "# Create a data frame from the categorical column names\n",
    "categorical_columns_df2 <- data.frame(\"Categorical Column Names\" = categorical_columns2)\n",
    "\n",
    "# Display the data frame\n",
    "cat(\"Categorical Column Names:\\n\")\n",
    "print(categorical_columns_df2)\n"
   ]
  },
  {
   "cell_type": "code",
   "execution_count": 21,
   "id": "049d605e",
   "metadata": {},
   "outputs": [
    {
     "name": "stdout",
     "output_type": "stream",
     "text": [
      "Numerical Column Names:\n"
     ]
    },
    {
     "data": {
      "text/html": [
       "<table>\n",
       "<thead><tr><th scope=col>Numerical.Columns</th></tr></thead>\n",
       "<tbody>\n",
       "\t<tr><td>TRACT     </td></tr>\n",
       "\t<tr><td>OID_      </td></tr>\n",
       "\t<tr><td>COUNTYFIPS</td></tr>\n",
       "\t<tr><td>STCOFIPS  </td></tr>\n",
       "\t<tr><td>TRACTFIPS </td></tr>\n",
       "\t<tr><td>POPULATION</td></tr>\n",
       "</tbody>\n",
       "</table>\n"
      ],
      "text/latex": [
       "\\begin{tabular}{r|l}\n",
       " Numerical.Columns\\\\\n",
       "\\hline\n",
       "\t TRACT     \\\\\n",
       "\t OID\\_      \\\\\n",
       "\t COUNTYFIPS\\\\\n",
       "\t STCOFIPS  \\\\\n",
       "\t TRACTFIPS \\\\\n",
       "\t POPULATION\\\\\n",
       "\\end{tabular}\n"
      ],
      "text/markdown": [
       "\n",
       "| Numerical.Columns |\n",
       "|---|\n",
       "| TRACT      |\n",
       "| OID_       |\n",
       "| COUNTYFIPS |\n",
       "| STCOFIPS   |\n",
       "| TRACTFIPS  |\n",
       "| POPULATION |\n",
       "\n"
      ],
      "text/plain": [
       "  Numerical.Columns\n",
       "1 TRACT            \n",
       "2 OID_             \n",
       "3 COUNTYFIPS       \n",
       "4 STCOFIPS         \n",
       "5 TRACTFIPS        \n",
       "6 POPULATION       "
      ]
     },
     "metadata": {},
     "output_type": "display_data"
    }
   ],
   "source": [
    "# Get the names of numerical columns\n",
    "numerical_columns <- names(cali_df2)[!sapply(cali_df2, is.factor)]\n",
    "\n",
    "# Create a data frame to store the numerical column names\n",
    "numerical_columns_df <- data.frame(\"Numerical Columns\" = numerical_columns)\n",
    "\n",
    "# Display the numerical column names in a data frame\n",
    "cat(\"Numerical Column Names:\\n\")\n",
    "head(numerical_columns_df)\n"
   ]
  },
  {
   "cell_type": "code",
   "execution_count": null,
   "id": "14a55c6d",
   "metadata": {},
   "outputs": [],
   "source": []
  },
  {
   "cell_type": "code",
   "execution_count": 22,
   "id": "77f4e0bb",
   "metadata": {},
   "outputs": [
    {
     "name": "stdout",
     "output_type": "stream",
     "text": [
      "Columns with missing data over 80 percent:\n",
      "named numeric(0)\n"
     ]
    }
   ],
   "source": [
    "# Calculate the percentage of missing values for each column\n",
    "missing_percent <- colMeans(is.na(cali_df2)) * 100\n",
    "\n",
    "# Find columns with missing data over 80 percent\n",
    "columns_w_high_missing <- missing_percent[missing_percent > 80]\n",
    "\n",
    "# Remove columns with missing data over 80 percent from the data frame\n",
    "cali_df2 <- cali_df2[, !(names(cali_df2) %in% names(columns_w_high_missing))]\n",
    "\n",
    "# Display the columns with missing data over 80 percent and their missing percentages\n",
    "cat(\"Columns with missing data over 80 percent:\\n\")\n",
    "print(columns_w_high_missing)\n"
   ]
  },
  {
   "cell_type": "code",
   "execution_count": 23,
   "id": "d2e06622",
   "metadata": {},
   "outputs": [
    {
     "data": {
      "text/html": [
       "<ol class=list-inline>\n",
       "\t<li>17422</li>\n",
       "\t<li>191</li>\n",
       "</ol>\n"
      ],
      "text/latex": [
       "\\begin{enumerate*}\n",
       "\\item 17422\n",
       "\\item 191\n",
       "\\end{enumerate*}\n"
      ],
      "text/markdown": [
       "1. 17422\n",
       "2. 191\n",
       "\n",
       "\n"
      ],
      "text/plain": [
       "[1] 17422   191"
      ]
     },
     "metadata": {},
     "output_type": "display_data"
    }
   ],
   "source": [
    "# Print the dimensions of the dataset\n",
    "dim(cali_df2)"
   ]
  },
  {
   "cell_type": "code",
   "execution_count": null,
   "id": "2aeda885",
   "metadata": {},
   "outputs": [],
   "source": []
  },
  {
   "cell_type": "code",
   "execution_count": 24,
   "id": "b18d8afb",
   "metadata": {},
   "outputs": [
    {
     "name": "stdout",
     "output_type": "stream",
     "text": [
      "Columns with zero count over 80 percent:\n",
      "named numeric(0)\n"
     ]
    }
   ],
   "source": [
    "# Calculate the percentage of zero values for each column\n",
    "zero_percent <- colMeans(cali_df2 == 0, na.rm = TRUE) * 100\n",
    "\n",
    "# Find columns with zero count over 80 percent\n",
    "columns_w_high_zero_count <- zero_percent[zero_percent > 80]\n",
    "\n",
    "# Remove columns with zero count over 80 percent from the data frame\n",
    "cali_df2 <- cali_df2[, !(names(cali_df2) %in% names(columns_w_high_zero_count))]\n",
    "\n",
    "# Display the columns with zero count over 80 percent and their zero percentages\n",
    "cat(\"Columns with zero count over 80 percent:\\n\")\n",
    "print(columns_w_high_zero_count)\n"
   ]
  },
  {
   "cell_type": "code",
   "execution_count": 25,
   "id": "454f726a",
   "metadata": {},
   "outputs": [
    {
     "data": {
      "text/html": [
       "<ol class=list-inline>\n",
       "\t<li>17422</li>\n",
       "\t<li>191</li>\n",
       "</ol>\n"
      ],
      "text/latex": [
       "\\begin{enumerate*}\n",
       "\\item 17422\n",
       "\\item 191\n",
       "\\end{enumerate*}\n"
      ],
      "text/markdown": [
       "1. 17422\n",
       "2. 191\n",
       "\n",
       "\n"
      ],
      "text/plain": [
       "[1] 17422   191"
      ]
     },
     "metadata": {},
     "output_type": "display_data"
    }
   ],
   "source": [
    "# Print the dimensions of the dataset\n",
    "dim(cali_df2)"
   ]
  },
  {
   "cell_type": "markdown",
   "id": "7509aacf",
   "metadata": {},
   "source": [
    "#### Evaluate the distribution of the target variable"
   ]
  },
  {
   "cell_type": "code",
   "execution_count": 26,
   "id": "06f91c42",
   "metadata": {},
   "outputs": [
    {
     "data": {
      "text/plain": [
       "   Min. 1st Qu.  Median    Mean 3rd Qu.    Max. \n",
       "   0.00    0.00    0.00   36.18   86.78  100.00 "
      ]
     },
     "metadata": {},
     "output_type": "display_data"
    }
   ],
   "source": [
    "summary(cali_df2$WFIR_RISKS)\n"
   ]
  },
  {
   "cell_type": "code",
   "execution_count": 27,
   "id": "ebf42bf2",
   "metadata": {},
   "outputs": [
    {
     "data": {
      "image/png": "[encoded data removed]",
      "text/plain": [
       "Plot with title \"Histogram of Target Variable\""
      ]
     },
     "metadata": {},
     "output_type": "display_data"
    }
   ],
   "source": [
    "hist(cali_df2$WFIR_RISKS, main = \"Histogram of Target Variable\")\n"
   ]
  },
  {
   "cell_type": "code",
   "execution_count": 28,
   "id": "5be018f3",
   "metadata": {},
   "outputs": [
    {
     "data": {
      "image/png": "[encoded data removed]",
      "text/plain": [
       "Plot with title \"Density Plot of Target Variable\""
      ]
     },
     "metadata": {},
     "output_type": "display_data"
    }
   ],
   "source": [
    "density_plot <- density(cali_df2$WFIR_RISKS)\n",
    "plot(density_plot, main = \"Density Plot of Target Variable\")\n"
   ]
  },
  {
   "cell_type": "code",
   "execution_count": 29,
   "id": "e7b85472",
   "metadata": {},
   "outputs": [
    {
     "data": {
      "image/png": "[encoded data removed]",
      "text/plain": [
       "Plot with title \"Boxplot of Target Variable\""
      ]
     },
     "metadata": {},
     "output_type": "display_data"
    }
   ],
   "source": [
    "boxplot(cali_df2$WFIR_RISKS, main = \"Boxplot of Target Variable\")\n"
   ]
  },
  {
   "cell_type": "code",
   "execution_count": 30,
   "id": "dab0fdf3",
   "metadata": {},
   "outputs": [
    {
     "data": {
      "image/png": "[encoded data removed]",
      "text/plain": [
       "Plot with title \"Normal Q-Q Plot\""
      ]
     },
     "metadata": {},
     "output_type": "display_data"
    }
   ],
   "source": [
    "qqnorm(cali_df2$WFIR_RISKS)\n",
    "qqline(cali_df2$WFIR_RISKS)\n"
   ]
  },
  {
   "cell_type": "code",
   "execution_count": null,
   "id": "d4c9e3c6",
   "metadata": {},
   "outputs": [],
   "source": []
  },
  {
   "cell_type": "code",
   "execution_count": null,
   "id": "5e2132f7",
   "metadata": {},
   "outputs": [],
   "source": []
  },
  {
   "cell_type": "code",
   "execution_count": 31,
   "id": "1f153bd6",
   "metadata": {},
   "outputs": [
    {
     "name": "stderr",
     "output_type": "stream",
     "text": [
      "\n",
      "----------------------------------------------------------------------\n",
      "\n",
      "Your next step is to start H2O:\n",
      "    > h2o.init()\n",
      "\n",
      "For H2O package documentation, ask for help:\n",
      "    > ??h2o\n",
      "\n",
      "After starting H2O, you can use the Web UI at http://localhost:54321\n",
      "For more information visit https://docs.h2o.ai\n",
      "\n",
      "----------------------------------------------------------------------\n",
      "\n",
      "\n",
      "Attaching package: 'h2o'\n",
      "\n",
      "The following objects are masked from 'package:stats':\n",
      "\n",
      "    cor, sd, var\n",
      "\n",
      "The following objects are masked from 'package:base':\n",
      "\n",
      "    %*%, %in%, &&, ||, apply, as.factor, as.numeric, colnames,\n",
      "    colnames<-, ifelse, is.character, is.factor, is.numeric, log,\n",
      "    log10, log1p, log2, round, signif, trunc\n",
      "\n"
     ]
    }
   ],
   "source": [
    "#install.packages(\"h2o\")\n",
    "library(h2o)\n"
   ]
  },
  {
   "cell_type": "code",
   "execution_count": 46,
   "id": "79e82830",
   "metadata": {},
   "outputs": [
    {
     "name": "stdout",
     "output_type": "stream",
     "text": [
      " Connection successful!\n",
      "\n",
      "R is connected to the H2O cluster: \n",
      "    H2O cluster uptime:         6 minutes 12 seconds \n",
      "    H2O cluster timezone:       America/New_York \n",
      "    H2O data parsing timezone:  UTC \n",
      "    H2O cluster version:        3.42.0.2 \n",
      "    H2O cluster version age:    3 months and 12 days \n",
      "    H2O cluster name:           H2O_started_from_R_andre_epw029 \n",
      "    H2O cluster total nodes:    1 \n",
      "    H2O cluster total memory:   3.94 GB \n",
      "    H2O cluster total cores:    32 \n",
      "    H2O cluster allowed cores:  32 \n",
      "    H2O cluster healthy:        TRUE \n",
      "    H2O Connection ip:          localhost \n",
      "    H2O Connection port:        54321 \n",
      "    H2O Connection proxy:       NA \n",
      "    H2O Internal Security:      FALSE \n",
      "    R Version:                  R version 3.6.1 (2019-07-05) \n"
     ]
    },
    {
     "name": "stderr",
     "output_type": "stream",
     "text": [
      "Warning message in h2o.clusterInfo():\n",
      "\"\n",
      "Your H2O cluster version is (3 months and 12 days) old. There may be a newer version available.\n",
      "Please download and install the latest version from: https://h2o-release.s3.amazonaws.com/h2o/latest_stable.html\""
     ]
    },
    {
     "name": "stdout",
     "output_type": "stream",
     "text": [
      "\n"
     ]
    }
   ],
   "source": [
    "h2o.init()\n"
   ]
  },
  {
   "cell_type": "code",
   "execution_count": 33,
   "id": "f0238fd2",
   "metadata": {},
   "outputs": [
    {
     "name": "stderr",
     "output_type": "stream",
     "text": [
      "Warning message in use.package(\"data.table\"):\n",
      "\"data.table cannot be used without R package bit64 version 0.9.7 or higher.  Please upgrade to take advangage of data.table speedups.\""
     ]
    },
    {
     "name": "stdout",
     "output_type": "stream",
     "text": [
      "  |======================================================================| 100%\n"
     ]
    }
   ],
   "source": [
    "# Assuming 'data' is your existing data frame\n",
    "data_h2o <- as.h2o(cali_df2)\n",
    "\n"
   ]
  },
  {
   "cell_type": "code",
   "execution_count": 34,
   "id": "2e821a14",
   "metadata": {},
   "outputs": [],
   "source": [
    "target_variable <- \"WFIR_RISKS\"  # Replace with your actual numerical target variable\n",
    "data_h2o[target_variable] <- as.numeric(data_h2o[target_variable])\n"
   ]
  },
  {
   "cell_type": "code",
   "execution_count": 35,
   "id": "a7980c63",
   "metadata": {},
   "outputs": [
    {
     "name": "stdout",
     "output_type": "stream",
     "text": [
      "  |======================================================================| 100%\n"
     ]
    }
   ],
   "source": [
    "# Define the predictor columns (exclude the target variable)\n",
    "predictors <- setdiff(h2o.colnames(data_h2o), target_variable)\n",
    "\n",
    "# Specify the model parameters\n",
    "model <- h2o.gbm(\n",
    "  x = predictors,\n",
    "  y = target_variable,\n",
    "  training_frame = data_h2o,\n",
    "  distribution = \"gaussian\",  # For regression tasks\n",
    "  ntrees = 100,\n",
    "  max_depth = 5\n",
    ")\n"
   ]
  },
  {
   "cell_type": "code",
   "execution_count": 36,
   "id": "392dc4a5",
   "metadata": {},
   "outputs": [
    {
     "name": "stdout",
     "output_type": "stream",
     "text": [
      "Variable Importances: \n",
      "        variable relative_importance scaled_importance percentage\n",
      "1      WFIR_EALS     90107048.000000          1.000000   0.553915\n",
      "2     WFIR_RISKR     66896644.000000          0.742413   0.411234\n",
      "3      WFIR_HLRR      3116705.500000          0.034589   0.019159\n",
      "4      WFIR_EALR      1631644.500000          0.018108   0.010030\n",
      "5 WFIR_ALR_NPCTL       473934.875000          0.005260   0.002913\n",
      "\n",
      "---\n",
      "             variable relative_importance scaled_importance percentage\n",
      "185         land_Area            0.000000          0.000000   0.000000\n",
      "186        water_Area            0.000000          0.000000   0.000000\n",
      "187          latitude            0.000000          0.000000   0.000000\n",
      "188     avg_tempeture            0.000000          0.000000   0.000000\n",
      "189 avg_precipitation            0.000000          0.000000   0.000000\n",
      "190            EVT_LF            0.000000          0.000000   0.000000\n"
     ]
    }
   ],
   "source": [
    "# Get feature importance\n",
    "feature_importance <- h2o.varimp(model)\n",
    "\n",
    "# Print or explore the feature importance\n",
    "print(feature_importance)\n"
   ]
  },
  {
   "cell_type": "code",
   "execution_count": 37,
   "id": "5bfb1d40",
   "metadata": {},
   "outputs": [
    {
     "data": {
      "text/html": [
       "<table>\n",
       "<thead><tr><th scope=col>variable</th><th scope=col>relative_importance</th><th scope=col>scaled_importance</th><th scope=col>percentage</th></tr></thead>\n",
       "<tbody>\n",
       "\t<tr><td>WFIR_EALS     </td><td>9.010705e+07  </td><td>1.000000e+00  </td><td>5.539152e-01  </td></tr>\n",
       "\t<tr><td>WFIR_RISKR    </td><td>6.689664e+07  </td><td>7.424130e-01  </td><td>4.112339e-01  </td></tr>\n",
       "\t<tr><td>WFIR_HLRR     </td><td>3.116706e+06  </td><td>3.458892e-02  </td><td>1.915933e-02  </td></tr>\n",
       "\t<tr><td>WFIR_EALR     </td><td>1.631645e+06  </td><td>1.810785e-02  </td><td>1.003021e-02  </td></tr>\n",
       "\t<tr><td>WFIR_ALR_NPCTL</td><td>4.739349e+05  </td><td>5.259687e-03  </td><td>2.913421e-03  </td></tr>\n",
       "\t<tr><td>WFIR_RISKV    </td><td>4.434593e+05  </td><td>4.921472e-03  </td><td>2.726079e-03  </td></tr>\n",
       "\t<tr><td>CRF_VALUE     </td><td>1.313721e+03  </td><td>1.457956e-05  </td><td>8.075838e-06  </td></tr>\n",
       "\t<tr><td>SOVI_SPCTL    </td><td>8.085294e+02  </td><td>8.972988e-06  </td><td>4.970275e-06  </td></tr>\n",
       "\t<tr><td>SOVI_SCORE    </td><td>8.040593e+02  </td><td>8.923379e-06  </td><td>4.942796e-06  </td></tr>\n",
       "\t<tr><td>COUNTY        </td><td>3.043578e+02  </td><td>3.377736e-06  </td><td>1.870979e-06  </td></tr>\n",
       "\t<tr><td>WFIR_EALB     </td><td>4.710200e+01  </td><td>5.227338e-07  </td><td>2.895502e-07  </td></tr>\n",
       "\t<tr><td>SOVI_RATNG    </td><td>3.512564e+01  </td><td>3.898212e-07  </td><td>2.159279e-07  </td></tr>\n",
       "\t<tr><td>WFIR_EXPB     </td><td>3.063009e+01  </td><td>3.399300e-07  </td><td>1.882924e-07  </td></tr>\n",
       "\t<tr><td>SWND_RISKV    </td><td>2.064394e+01  </td><td>2.291047e-07  </td><td>1.269046e-07  </td></tr>\n",
       "\t<tr><td>WFIR_EALT     </td><td>2.002382e+01  </td><td>2.222226e-07  </td><td>1.230925e-07  </td></tr>\n",
       "\t<tr><td>NAMELSAD      </td><td>1.126062e+01  </td><td>1.249694e-07  </td><td>6.922246e-08  </td></tr>\n",
       "\t<tr><td>County        </td><td>1.066666e+01  </td><td>1.183776e-07  </td><td>6.557118e-08  </td></tr>\n",
       "\t<tr><td>SWND_RISKS    </td><td>1.012085e+01  </td><td>1.123203e-07  </td><td>6.221593e-08  </td></tr>\n",
       "\t<tr><td>RFLD_ALR_NPCTL</td><td>7.933569e+00  </td><td>8.804604e-08  </td><td>4.877004e-08  </td></tr>\n",
       "\t<tr><td>ALR_VRA_NPCTL </td><td>7.247414e+00  </td><td>8.043115e-08  </td><td>4.455204e-08  </td></tr>\n",
       "</tbody>\n",
       "</table>\n"
      ],
      "text/latex": [
       "\\begin{tabular}{r|llll}\n",
       " variable & relative\\_importance & scaled\\_importance & percentage\\\\\n",
       "\\hline\n",
       "\t WFIR\\_EALS      & 9.010705e+07     & 1.000000e+00     & 5.539152e-01    \\\\\n",
       "\t WFIR\\_RISKR     & 6.689664e+07     & 7.424130e-01     & 4.112339e-01    \\\\\n",
       "\t WFIR\\_HLRR      & 3.116706e+06     & 3.458892e-02     & 1.915933e-02    \\\\\n",
       "\t WFIR\\_EALR      & 1.631645e+06     & 1.810785e-02     & 1.003021e-02    \\\\\n",
       "\t WFIR\\_ALR\\_NPCTL & 4.739349e+05       & 5.259687e-03       & 2.913421e-03      \\\\\n",
       "\t WFIR\\_RISKV     & 4.434593e+05     & 4.921472e-03     & 2.726079e-03    \\\\\n",
       "\t CRF\\_VALUE      & 1.313721e+03     & 1.457956e-05     & 8.075838e-06    \\\\\n",
       "\t SOVI\\_SPCTL     & 8.085294e+02     & 8.972988e-06     & 4.970275e-06    \\\\\n",
       "\t SOVI\\_SCORE     & 8.040593e+02     & 8.923379e-06     & 4.942796e-06    \\\\\n",
       "\t COUNTY         & 3.043578e+02   & 3.377736e-06   & 1.870979e-06  \\\\\n",
       "\t WFIR\\_EALB      & 4.710200e+01     & 5.227338e-07     & 2.895502e-07    \\\\\n",
       "\t SOVI\\_RATNG     & 3.512564e+01     & 3.898212e-07     & 2.159279e-07    \\\\\n",
       "\t WFIR\\_EXPB      & 3.063009e+01     & 3.399300e-07     & 1.882924e-07    \\\\\n",
       "\t SWND\\_RISKV     & 2.064394e+01     & 2.291047e-07     & 1.269046e-07    \\\\\n",
       "\t WFIR\\_EALT      & 2.002382e+01     & 2.222226e-07     & 1.230925e-07    \\\\\n",
       "\t NAMELSAD       & 1.126062e+01   & 1.249694e-07   & 6.922246e-08  \\\\\n",
       "\t County         & 1.066666e+01   & 1.183776e-07   & 6.557118e-08  \\\\\n",
       "\t SWND\\_RISKS     & 1.012085e+01     & 1.123203e-07     & 6.221593e-08    \\\\\n",
       "\t RFLD\\_ALR\\_NPCTL & 7.933569e+00       & 8.804604e-08       & 4.877004e-08      \\\\\n",
       "\t ALR\\_VRA\\_NPCTL  & 7.247414e+00       & 8.043115e-08       & 4.455204e-08      \\\\\n",
       "\\end{tabular}\n"
      ],
      "text/markdown": [
       "\n",
       "| variable | relative_importance | scaled_importance | percentage |\n",
       "|---|---|---|---|\n",
       "| WFIR_EALS      | 9.010705e+07   | 1.000000e+00   | 5.539152e-01   |\n",
       "| WFIR_RISKR     | 6.689664e+07   | 7.424130e-01   | 4.112339e-01   |\n",
       "| WFIR_HLRR      | 3.116706e+06   | 3.458892e-02   | 1.915933e-02   |\n",
       "| WFIR_EALR      | 1.631645e+06   | 1.810785e-02   | 1.003021e-02   |\n",
       "| WFIR_ALR_NPCTL | 4.739349e+05   | 5.259687e-03   | 2.913421e-03   |\n",
       "| WFIR_RISKV     | 4.434593e+05   | 4.921472e-03   | 2.726079e-03   |\n",
       "| CRF_VALUE      | 1.313721e+03   | 1.457956e-05   | 8.075838e-06   |\n",
       "| SOVI_SPCTL     | 8.085294e+02   | 8.972988e-06   | 4.970275e-06   |\n",
       "| SOVI_SCORE     | 8.040593e+02   | 8.923379e-06   | 4.942796e-06   |\n",
       "| COUNTY         | 3.043578e+02   | 3.377736e-06   | 1.870979e-06   |\n",
       "| WFIR_EALB      | 4.710200e+01   | 5.227338e-07   | 2.895502e-07   |\n",
       "| SOVI_RATNG     | 3.512564e+01   | 3.898212e-07   | 2.159279e-07   |\n",
       "| WFIR_EXPB      | 3.063009e+01   | 3.399300e-07   | 1.882924e-07   |\n",
       "| SWND_RISKV     | 2.064394e+01   | 2.291047e-07   | 1.269046e-07   |\n",
       "| WFIR_EALT      | 2.002382e+01   | 2.222226e-07   | 1.230925e-07   |\n",
       "| NAMELSAD       | 1.126062e+01   | 1.249694e-07   | 6.922246e-08   |\n",
       "| County         | 1.066666e+01   | 1.183776e-07   | 6.557118e-08   |\n",
       "| SWND_RISKS     | 1.012085e+01   | 1.123203e-07   | 6.221593e-08   |\n",
       "| RFLD_ALR_NPCTL | 7.933569e+00   | 8.804604e-08   | 4.877004e-08   |\n",
       "| ALR_VRA_NPCTL  | 7.247414e+00   | 8.043115e-08   | 4.455204e-08   |\n",
       "\n"
      ],
      "text/plain": [
       "   variable       relative_importance scaled_importance percentage  \n",
       "1  WFIR_EALS      9.010705e+07        1.000000e+00      5.539152e-01\n",
       "2  WFIR_RISKR     6.689664e+07        7.424130e-01      4.112339e-01\n",
       "3  WFIR_HLRR      3.116706e+06        3.458892e-02      1.915933e-02\n",
       "4  WFIR_EALR      1.631645e+06        1.810785e-02      1.003021e-02\n",
       "5  WFIR_ALR_NPCTL 4.739349e+05        5.259687e-03      2.913421e-03\n",
       "6  WFIR_RISKV     4.434593e+05        4.921472e-03      2.726079e-03\n",
       "7  CRF_VALUE      1.313721e+03        1.457956e-05      8.075838e-06\n",
       "8  SOVI_SPCTL     8.085294e+02        8.972988e-06      4.970275e-06\n",
       "9  SOVI_SCORE     8.040593e+02        8.923379e-06      4.942796e-06\n",
       "10 COUNTY         3.043578e+02        3.377736e-06      1.870979e-06\n",
       "11 WFIR_EALB      4.710200e+01        5.227338e-07      2.895502e-07\n",
       "12 SOVI_RATNG     3.512564e+01        3.898212e-07      2.159279e-07\n",
       "13 WFIR_EXPB      3.063009e+01        3.399300e-07      1.882924e-07\n",
       "14 SWND_RISKV     2.064394e+01        2.291047e-07      1.269046e-07\n",
       "15 WFIR_EALT      2.002382e+01        2.222226e-07      1.230925e-07\n",
       "16 NAMELSAD       1.126062e+01        1.249694e-07      6.922246e-08\n",
       "17 County         1.066666e+01        1.183776e-07      6.557118e-08\n",
       "18 SWND_RISKS     1.012085e+01        1.123203e-07      6.221593e-08\n",
       "19 RFLD_ALR_NPCTL 7.933569e+00        8.804604e-08      4.877004e-08\n",
       "20 ALR_VRA_NPCTL  7.247414e+00        8.043115e-08      4.455204e-08"
      ]
     },
     "metadata": {},
     "output_type": "display_data"
    }
   ],
   "source": [
    "head(feature_importance, 20)"
   ]
  },
  {
   "cell_type": "code",
   "execution_count": 38,
   "id": "1c911519",
   "metadata": {},
   "outputs": [
    {
     "name": "stdout",
     "output_type": "stream",
     "text": [
      "          Feature   Importance\n",
      "1       WFIR_EALS 9.010705e+07\n",
      "2      WFIR_RISKR 6.689664e+07\n",
      "3       WFIR_HLRR 3.116706e+06\n",
      "4       WFIR_EALR 1.631645e+06\n",
      "5  WFIR_ALR_NPCTL 4.739349e+05\n",
      "6      WFIR_RISKV 4.434593e+05\n",
      "7       CRF_VALUE 1.313721e+03\n",
      "8      SOVI_SPCTL 8.085294e+02\n",
      "9      SOVI_SCORE 8.040593e+02\n",
      "10         COUNTY 3.043578e+02\n",
      "11      WFIR_EALB 4.710200e+01\n",
      "12     SOVI_RATNG 3.512564e+01\n",
      "13      WFIR_EXPB 3.063009e+01\n",
      "14     SWND_RISKV 2.064394e+01\n",
      "15      WFIR_EALT 2.002382e+01\n",
      "16       NAMELSAD 1.126062e+01\n",
      "17         County 1.066666e+01\n",
      "18     SWND_RISKS 1.012085e+01\n",
      "19 RFLD_ALR_NPCTL 7.933569e+00\n",
      "20  ALR_VRA_NPCTL 7.247414e+00\n",
      "21     WFIR_AFREQ 6.439663e+00\n",
      "22      HWAV_EXPT 5.235718e+00\n",
      "23      WFIR_EXPP 5.130215e+00\n",
      "24  WFIR_EXP_AREA 4.737077e+00\n",
      "25      SWND_EALS 3.942690e+00\n"
     ]
    }
   ],
   "source": [
    "# Create a data frame with feature names and importance scores if available\n",
    "importance_info <- h2o.varimp(model)\n",
    "if (nrow(importance_info) > 0) {\n",
    "  feature_importance_df <- data.frame(\n",
    "    Feature = importance_info$variable,\n",
    "    Importance = importance_info$relative_importance\n",
    "  )\n",
    "\n",
    "  # Order the data frame by importance scores (in descending order)\n",
    "  feature_importance_df <- feature_importance_df[order(-feature_importance_df$Importance), ]\n",
    "\n",
    "  # Print the first 25 rows of feature importance as a DataFrame\n",
    "  print(head(feature_importance_df, 25))\n",
    "} else {\n",
    "  print(\"No feature importance information available.\")\n",
    "}\n"
   ]
  },
  {
   "cell_type": "code",
   "execution_count": 39,
   "id": "d8398214",
   "metadata": {},
   "outputs": [
    {
     "name": "stderr",
     "output_type": "stream",
     "text": [
      "Registered S3 methods overwritten by 'ggplot2':\n",
      "  method         from \n",
      "  [.quosures     rlang\n",
      "  c.quosures     rlang\n",
      "  print.quosures rlang\n"
     ]
    }
   ],
   "source": [
    "library(ggplot2)\n",
    "\n"
   ]
  },
  {
   "cell_type": "code",
   "execution_count": 171,
   "id": "9dd4216b",
   "metadata": {},
   "outputs": [
    {
     "data": {
      "image/png": "[encoded data removed]",
      "text/plain": [
       "plot without title"
      ]
     },
     "metadata": {},
     "output_type": "display_data"
    }
   ],
   "source": [
    "# Create a data frame with feature names and importance scores if available\n",
    "importance_info <- h2o.varimp(model)\n",
    "if (nrow(importance_info) > 0) {\n",
    "  feature_importance_df <- data.frame(\n",
    "    Feature = importance_info$variable,\n",
    "    Importance = importance_info$relative_importance\n",
    "  )\n",
    "\n",
    "  # Order the data frame by importance scores (in descending order)\n",
    "  feature_importance_df <- feature_importance_df[order(-feature_importance_df$Importance), ]\n",
    "\n",
    "  # Get the top 25 features\n",
    "  top_25_features <- head(feature_importance_df, 20)\n",
    "\n",
    "  # Create a bar plot of the top 25 features\n",
    "  ggplot(top_25_features, aes(x = reorder(Feature, Importance), y = Importance)) +\n",
    "    geom_bar(stat = \"identity\") +\n",
    "    labs(x = \"Feature\", y = \"Importance\") +\n",
    "    theme(axis.text.x = element_text(angle = 45, hjust = 1)) +\n",
    "    ggtitle(\"Top 25 Feature Importance\")\n",
    "} else {\n",
    "  print(\"No feature importance information available.\")\n",
    "}\n"
   ]
  },
  {
   "cell_type": "code",
   "execution_count": 40,
   "id": "19ad1622",
   "metadata": {},
   "outputs": [
    {
     "data": {
      "image/png": "[encoded data removed]",
      "text/plain": [
       "plot without title"
      ]
     },
     "metadata": {},
     "output_type": "display_data"
    }
   ],
   "source": [
    "# Create a data frame with feature names and importance scores if available\n",
    "importance_info <- h2o.varimp(model)\n",
    "if (nrow(importance_info) > 0) {\n",
    "  feature_importance_df <- data.frame(\n",
    "    Feature = importance_info$variable,\n",
    "    Importance = importance_info$relative_importance\n",
    "  )\n",
    "\n",
    "  # Order the data frame by importance scores (in descending order)\n",
    "  feature_importance_df <- feature_importance_df[order(-feature_importance_df$Importance), ]\n",
    "\n",
    "  # Get the top 25 features\n",
    "  top_25_features <- head(feature_importance_df, 5)\n",
    "\n",
    "  # Create a bar plot of the top 25 features with a customized scale\n",
    "  ggplot(top_25_features, aes(x = reorder(Feature, Importance), y = Importance)) +\n",
    "    geom_bar(stat = \"identity\") +\n",
    "    labs(x = \"Feature\", y = \"Importance\") +\n",
    "    theme(axis.text.x = element_text(angle = 45, hjust = 1)) +\n",
    "    ggtitle(\"Top 25 Feature Importance\") +\n",
    "    scale_y_continuous(limits = c(0, max(top_25_features$Importance) * 1.2))\n",
    "} else {\n",
    "  print(\"No feature importance information available.\")\n",
    "}\n"
   ]
  },
  {
   "cell_type": "code",
   "execution_count": null,
   "id": "c10f548f",
   "metadata": {},
   "outputs": [],
   "source": []
  },
  {
   "cell_type": "code",
   "execution_count": null,
   "id": "072503f3",
   "metadata": {},
   "outputs": [],
   "source": []
  }
 ],
 "metadata": {
  "kernelspec": {
   "display_name": "R",
   "language": "R",
   "name": "ir"
  },
  "language_info": {
   "codemirror_mode": "r",
   "file_extension": ".r",
   "mimetype": "text/x-r-source",
   "name": "R",
   "pygments_lexer": "r",
   "version": "3.6.1"
  }
 },
 "nbformat": 4,
 "nbformat_minor": 5
}
