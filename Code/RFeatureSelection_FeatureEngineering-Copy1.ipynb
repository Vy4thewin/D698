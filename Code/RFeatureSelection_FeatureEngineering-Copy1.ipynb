{
 "cells": [
  {
   "cell_type": "markdown",
   "id": "e05ce708",
   "metadata": {},
   "source": [
    "# Feature Selection and Feature Engineering Process"
   ]
  },
  {
   "cell_type": "markdown",
   "id": "3ce1a18c",
   "metadata": {},
   "source": [
    "### Load data (NRI Table CensusTracts Subset) from Github\n",
    "#### Load Excel file from Github and Convert to a CSV file"
   ]
  },
  {
   "cell_type": "markdown",
   "id": "1ac30f3f",
   "metadata": {},
   "source": [
    "Install and load necessary packages:"
   ]
  },
  {
   "cell_type": "code",
   "execution_count": null,
   "id": "499a3e8a",
   "metadata": {},
   "outputs": [],
   "source": [
    "#install.packages(\"readxl\")  # For reading Excel files\n",
    "#install.packages(\"httr\")    # For working with HTTP requests\n",
    "#install.packages(\"readr\")   # For writing CSV files\n",
    "#library(readxl)\n",
    "#library(httr)\n",
    "#library(readr)"
   ]
  },
  {
   "cell_type": "markdown",
   "id": "160999d7",
   "metadata": {},
   "source": [
    "Use the **GET** function from the **httr** package to download the Excel file from Github. "
   ]
  },
  {
   "cell_type": "code",
   "execution_count": null,
   "id": "eef186d8",
   "metadata": {},
   "outputs": [],
   "source": [
    "# Replace 'XLSX_FILE' with the actual URL of the raw Excel file on GitHub\n",
    "#url <- \"URL_TO_XLSX_FILE\"\n",
    "#response <- GET(url)\n",
    "\n",
    "# Check if the download was successful\n",
    "#if (response$status_code == 200) {\n",
    "  #content <- content(response, \"raw\")\n",
    "  #file_path <- \"downloaded_file.xlsx\"\n",
    "  #writeBin(content, file_path)\n",
    "#} else {\n",
    "  #stop(\"Failed to download the file.\")\n",
    "#}"
   ]
  },
  {
   "cell_type": "markdown",
   "id": "60daa174",
   "metadata": {},
   "source": [
    "Read the downloaded Excel file using the **read_xlsx** function from the **readxl** package."
   ]
  },
  {
   "cell_type": "code",
   "execution_count": null,
   "id": "8e664a77",
   "metadata": {},
   "outputs": [],
   "source": [
    "# Read the Excel file\n",
    "#xlsx_data <- read_xlsx(file_path)"
   ]
  },
  {
   "cell_type": "markdown",
   "id": "71f52d7d",
   "metadata": {},
   "source": [
    "Convert the Excel data to a CSV file using the **write_csv** function from the **readr** package."
   ]
  },
  {
   "cell_type": "code",
   "execution_count": null,
   "id": "0f193d72",
   "metadata": {},
   "outputs": [],
   "source": [
    "# Convert the data to a CSV file\n",
    "#csv_file_path <- \"converted_data.csv\"\n",
    "#write_csv(xlsx_data, csv_file_path)"
   ]
  },
  {
   "cell_type": "markdown",
   "id": "f01c65eb",
   "metadata": {},
   "source": [
    "Read the CSV file that we have converted from an Excel file with the **read.csv** function."
   ]
  },
  {
   "cell_type": "markdown",
   "id": "4bbc5462",
   "metadata": {},
   "source": [
    "##### Load data (NRI Table Census Tracts Subset) from Local Drive"
   ]
  },
  {
   "cell_type": "code",
   "execution_count": null,
   "id": "6e26b2b5",
   "metadata": {},
   "outputs": [],
   "source": [
    "# Replace 'your_excel_file.xlsx' with the path to your Excel file\n",
    "#excel_file_path = 'NRI_Table_CensusTracts_Subset.xlsx'\n",
    "\n",
    "# Load the Excel file into a DataFrame\n",
    "#try:\n",
    "    #df = pd.read_excel(excel_file_path)\n",
    "    \n",
    "    # Save the DataFrame as a CSV file\n",
    "    #csv_file = 'data.csv'\n",
    "    #df.to_csv(csv_file, index=False)\n",
    "\n",
    "    #print(f'Excel file successfully converted to CSV: {csv_file}')\n",
    "\n",
    "#except Exception as e:\n",
    "    #print(f'An error occurred: {e}')"
   ]
  },
  {
   "cell_type": "code",
   "execution_count": 1,
   "id": "7d3f3100",
   "metadata": {},
   "outputs": [],
   "source": [
    "# Load data from a CSV file\n",
    "df <- read.csv(\"data.csv\")"
   ]
  },
  {
   "cell_type": "code",
   "execution_count": 2,
   "id": "4707ca17",
   "metadata": {},
   "outputs": [
    {
     "data": {
      "text/html": [
       "<table>\n",
       "<thead><tr><th scope=col>OID_</th><th scope=col>NRI_ID</th><th scope=col>STATE</th><th scope=col>STATEABBRV</th><th scope=col>STATEFIPS</th><th scope=col>COUNTY</th><th scope=col>COUNTYTYPE</th><th scope=col>COUNTYFIPS</th><th scope=col>STCOFIPS</th><th scope=col>TRACT</th><th scope=col>...</th><th scope=col>WFIR_EALS</th><th scope=col>WFIR_EALR</th><th scope=col>WFIR_ALRB</th><th scope=col>WFIR_ALRP</th><th scope=col>WFIR_ALRA</th><th scope=col>WFIR_ALR_NPCTL</th><th scope=col>WFIR_RISKV</th><th scope=col>WFIR_RISKS</th><th scope=col>WFIR_RISKR</th><th scope=col>NRI_VER</th></tr></thead>\n",
       "<tbody>\n",
       "\t<tr><td>1613               </td><td>T04001942600       </td><td>Arizona            </td><td>AZ                 </td><td>4                  </td><td>Apache             </td><td>County             </td><td>1                  </td><td>4001               </td><td>942600             </td><td>...                </td><td>48.76981           </td><td>Very Low           </td><td>1.12110e-06        </td><td>5.7690e-12         </td><td>0.00000e+00        </td><td>62.60806           </td><td>  510.9595         </td><td>55.34771           </td><td>Relatively Low     </td><td>45008              </td></tr>\n",
       "\t<tr><td>1614               </td><td>T04001942700       </td><td>Arizona            </td><td>AZ                 </td><td>4                  </td><td>Apache             </td><td>County             </td><td>1                  </td><td>4001               </td><td>942700             </td><td>...                </td><td>81.13636           </td><td>Relatively Low     </td><td>8.57240e-06        </td><td>4.0264e-11         </td><td>1.17565e-06        </td><td>81.46100           </td><td>10189.7375         </td><td>83.96161           </td><td>Relatively Low     </td><td>45008              </td></tr>\n",
       "\t<tr><td>1615               </td><td>T04001944000       </td><td>Arizona            </td><td>AZ                 </td><td>4                  </td><td>Apache             </td><td>County             </td><td>1                  </td><td>4001               </td><td>944000             </td><td>...                </td><td>83.77630           </td><td>Relatively Low     </td><td>1.36875e-05        </td><td>8.8702e-11         </td><td>0.00000e+00        </td><td>83.66927           </td><td>17050.6658         </td><td>86.36850           </td><td>Relatively Moderate</td><td>45008              </td></tr>\n",
       "\t<tr><td>1616               </td><td>T04001944100       </td><td>Arizona            </td><td>AZ                 </td><td>4                  </td><td>Apache             </td><td>County             </td><td>1                  </td><td>4001               </td><td>944100             </td><td>...                </td><td>83.05448           </td><td>Relatively Low     </td><td>1.32035e-05        </td><td>6.5821e-11         </td><td>5.60708e-07        </td><td>83.55511           </td><td>15203.8477         </td><td>85.84170           </td><td>Relatively Moderate</td><td>45008              </td></tr>\n",
       "\t<tr><td>1617               </td><td>T04001944201       </td><td>Arizona            </td><td>AZ                 </td><td>4                  </td><td>Apache             </td><td>County             </td><td>1                  </td><td>4001               </td><td>944201             </td><td>...                </td><td>45.63043           </td><td>Very Low           </td><td>5.09107e-07        </td><td>4.9780e-12         </td><td>0.00000e+00        </td><td>50.11119           </td><td>  437.9023         </td><td>53.12634           </td><td>Relatively Low     </td><td>45008              </td></tr>\n",
       "\t<tr><td>1618               </td><td>T04001944202       </td><td>Arizona            </td><td>AZ                 </td><td>4                  </td><td>Apache             </td><td>County             </td><td>1                  </td><td>4001               </td><td>944202             </td><td>...                </td><td>65.89609           </td><td>Relatively Low     </td><td>2.99725e-06        </td><td>2.1238e-11         </td><td>0.00000e+00        </td><td>75.86482           </td><td> 1860.9492         </td><td>73.41721           </td><td>Relatively Low     </td><td>45008              </td></tr>\n",
       "</tbody>\n",
       "</table>\n"
      ],
      "text/latex": [
       "\\begin{tabular}{r|lllllllllllllllllllllllllllllllllllllllllllllllllllllllllllllllllllllllllllllllllllllllllllllllllllllllllllllllllllllllllllllllllllllllllllllllllllllllllllllllllllllllllllllllllllllll}\n",
       " OID\\_ & NRI\\_ID & STATE & STATEABBRV & STATEFIPS & COUNTY & COUNTYTYPE & COUNTYFIPS & STCOFIPS & TRACT & ... & WFIR\\_EALS & WFIR\\_EALR & WFIR\\_ALRB & WFIR\\_ALRP & WFIR\\_ALRA & WFIR\\_ALR\\_NPCTL & WFIR\\_RISKV & WFIR\\_RISKS & WFIR\\_RISKR & NRI\\_VER\\\\\n",
       "\\hline\n",
       "\t 1613                & T04001942600        & Arizona             & AZ                  & 4                   & Apache              & County              & 1                   & 4001                & 942600              & ...                 & 48.76981            & Very Low            & 1.12110e-06         & 5.7690e-12          & 0.00000e+00         & 62.60806            &   510.9595          & 55.34771            & Relatively Low      & 45008              \\\\\n",
       "\t 1614                & T04001942700        & Arizona             & AZ                  & 4                   & Apache              & County              & 1                   & 4001                & 942700              & ...                 & 81.13636            & Relatively Low      & 8.57240e-06         & 4.0264e-11          & 1.17565e-06         & 81.46100            & 10189.7375          & 83.96161            & Relatively Low      & 45008              \\\\\n",
       "\t 1615                & T04001944000        & Arizona             & AZ                  & 4                   & Apache              & County              & 1                   & 4001                & 944000              & ...                 & 83.77630            & Relatively Low      & 1.36875e-05         & 8.8702e-11          & 0.00000e+00         & 83.66927            & 17050.6658          & 86.36850            & Relatively Moderate & 45008              \\\\\n",
       "\t 1616                & T04001944100        & Arizona             & AZ                  & 4                   & Apache              & County              & 1                   & 4001                & 944100              & ...                 & 83.05448            & Relatively Low      & 1.32035e-05         & 6.5821e-11          & 5.60708e-07         & 83.55511            & 15203.8477          & 85.84170            & Relatively Moderate & 45008              \\\\\n",
       "\t 1617                & T04001944201        & Arizona             & AZ                  & 4                   & Apache              & County              & 1                   & 4001                & 944201              & ...                 & 45.63043            & Very Low            & 5.09107e-07         & 4.9780e-12          & 0.00000e+00         & 50.11119            &   437.9023          & 53.12634            & Relatively Low      & 45008              \\\\\n",
       "\t 1618                & T04001944202        & Arizona             & AZ                  & 4                   & Apache              & County              & 1                   & 4001                & 944202              & ...                 & 65.89609            & Relatively Low      & 2.99725e-06         & 2.1238e-11          & 0.00000e+00         & 75.86482            &  1860.9492          & 73.41721            & Relatively Low      & 45008              \\\\\n",
       "\\end{tabular}\n"
      ],
      "text/markdown": [
       "\n",
       "| OID_ | NRI_ID | STATE | STATEABBRV | STATEFIPS | COUNTY | COUNTYTYPE | COUNTYFIPS | STCOFIPS | TRACT | ... | WFIR_EALS | WFIR_EALR | WFIR_ALRB | WFIR_ALRP | WFIR_ALRA | WFIR_ALR_NPCTL | WFIR_RISKV | WFIR_RISKS | WFIR_RISKR | NRI_VER |\n",
       "|---|---|---|---|---|---|---|---|---|---|---|---|---|---|---|---|---|---|---|---|---|\n",
       "| 1613                | T04001942600        | Arizona             | AZ                  | 4                   | Apache              | County              | 1                   | 4001                | 942600              | ...                 | 48.76981            | Very Low            | 1.12110e-06         | 5.7690e-12          | 0.00000e+00         | 62.60806            |   510.9595          | 55.34771            | Relatively Low      | 45008               |\n",
       "| 1614                | T04001942700        | Arizona             | AZ                  | 4                   | Apache              | County              | 1                   | 4001                | 942700              | ...                 | 81.13636            | Relatively Low      | 8.57240e-06         | 4.0264e-11          | 1.17565e-06         | 81.46100            | 10189.7375          | 83.96161            | Relatively Low      | 45008               |\n",
       "| 1615                | T04001944000        | Arizona             | AZ                  | 4                   | Apache              | County              | 1                   | 4001                | 944000              | ...                 | 83.77630            | Relatively Low      | 1.36875e-05         | 8.8702e-11          | 0.00000e+00         | 83.66927            | 17050.6658          | 86.36850            | Relatively Moderate | 45008               |\n",
       "| 1616                | T04001944100        | Arizona             | AZ                  | 4                   | Apache              | County              | 1                   | 4001                | 944100              | ...                 | 83.05448            | Relatively Low      | 1.32035e-05         | 6.5821e-11          | 5.60708e-07         | 83.55511            | 15203.8477          | 85.84170            | Relatively Moderate | 45008               |\n",
       "| 1617                | T04001944201        | Arizona             | AZ                  | 4                   | Apache              | County              | 1                   | 4001                | 944201              | ...                 | 45.63043            | Very Low            | 5.09107e-07         | 4.9780e-12          | 0.00000e+00         | 50.11119            |   437.9023          | 53.12634            | Relatively Low      | 45008               |\n",
       "| 1618                | T04001944202        | Arizona             | AZ                  | 4                   | Apache              | County              | 1                   | 4001                | 944202              | ...                 | 65.89609            | Relatively Low      | 2.99725e-06         | 2.1238e-11          | 0.00000e+00         | 75.86482            |  1860.9492          | 73.41721            | Relatively Low      | 45008               |\n",
       "\n"
      ],
      "text/plain": [
       "  OID_ NRI_ID       STATE   STATEABBRV STATEFIPS COUNTY COUNTYTYPE COUNTYFIPS\n",
       "1 1613 T04001942600 Arizona AZ         4         Apache County     1         \n",
       "2 1614 T04001942700 Arizona AZ         4         Apache County     1         \n",
       "3 1615 T04001944000 Arizona AZ         4         Apache County     1         \n",
       "4 1616 T04001944100 Arizona AZ         4         Apache County     1         \n",
       "5 1617 T04001944201 Arizona AZ         4         Apache County     1         \n",
       "6 1618 T04001944202 Arizona AZ         4         Apache County     1         \n",
       "  STCOFIPS TRACT  ... WFIR_EALS WFIR_EALR      WFIR_ALRB   WFIR_ALRP \n",
       "1 4001     942600 ... 48.76981  Very Low       1.12110e-06 5.7690e-12\n",
       "2 4001     942700 ... 81.13636  Relatively Low 8.57240e-06 4.0264e-11\n",
       "3 4001     944000 ... 83.77630  Relatively Low 1.36875e-05 8.8702e-11\n",
       "4 4001     944100 ... 83.05448  Relatively Low 1.32035e-05 6.5821e-11\n",
       "5 4001     944201 ... 45.63043  Very Low       5.09107e-07 4.9780e-12\n",
       "6 4001     944202 ... 65.89609  Relatively Low 2.99725e-06 2.1238e-11\n",
       "  WFIR_ALRA   WFIR_ALR_NPCTL WFIR_RISKV WFIR_RISKS WFIR_RISKR          NRI_VER\n",
       "1 0.00000e+00 62.60806         510.9595 55.34771   Relatively Low      45008  \n",
       "2 1.17565e-06 81.46100       10189.7375 83.96161   Relatively Low      45008  \n",
       "3 0.00000e+00 83.66927       17050.6658 86.36850   Relatively Moderate 45008  \n",
       "4 5.60708e-07 83.55511       15203.8477 85.84170   Relatively Moderate 45008  \n",
       "5 0.00000e+00 50.11119         437.9023 53.12634   Relatively Low      45008  \n",
       "6 0.00000e+00 75.86482        1860.9492 73.41721   Relatively Low      45008  "
      ]
     },
     "metadata": {},
     "output_type": "display_data"
    }
   ],
   "source": [
    "# Print the first n rows of the dataset\n",
    "head(df)"
   ]
  },
  {
   "cell_type": "code",
   "execution_count": 3,
   "id": "a36bafaf",
   "metadata": {},
   "outputs": [
    {
     "data": {
      "text/html": [
       "<ol class=list-inline>\n",
       "\t<li>15280</li>\n",
       "\t<li>183</li>\n",
       "</ol>\n"
      ],
      "text/latex": [
       "\\begin{enumerate*}\n",
       "\\item 15280\n",
       "\\item 183\n",
       "\\end{enumerate*}\n"
      ],
      "text/markdown": [
       "1. 15280\n",
       "2. 183\n",
       "\n",
       "\n"
      ],
      "text/plain": [
       "[1] 15280   183"
      ]
     },
     "metadata": {},
     "output_type": "display_data"
    }
   ],
   "source": [
    "# Print the dimensions of the dataset\n",
    "dim(df)"
   ]
  },
  {
   "cell_type": "markdown",
   "id": "a94f8dd1",
   "metadata": {},
   "source": [
    "### Load a CSV file from Github"
   ]
  },
  {
   "cell_type": "markdown",
   "id": "c6422e3b",
   "metadata": {},
   "source": [
    "Use the **read.csv** function along with the URL of the raw CSV file on Github."
   ]
  },
  {
   "cell_type": "code",
   "execution_count": null,
   "id": "97e8ce45",
   "metadata": {},
   "outputs": [],
   "source": [
    "# Replace 'URL_TO_RAW_CSV_FILE' with the actual URL of the raw CSV file on GitHub\n",
    "#url <- \"URL_TO_RAW_CSV_FILE\"\n",
    "\n",
    "# Read the CSV file from the URL\n",
    "#csv_data <- read.csv(url)"
   ]
  },
  {
   "cell_type": "markdown",
   "id": "a2208b55",
   "metadata": {},
   "source": [
    "#### Load data (caliTracts_features.csv) from Local Drive"
   ]
  },
  {
   "cell_type": "code",
   "execution_count": 4,
   "id": "4ffeaca1",
   "metadata": {},
   "outputs": [
    {
     "data": {
      "text/html": [
       "<table>\n",
       "<thead><tr><th scope=col>X</th><th scope=col>countyID</th><th scope=col>STATEFP</th><th scope=col>COUNTYFP</th><th scope=col>TRACTCE</th><th scope=col>GEOID</th><th scope=col>tractID</th><th scope=col>NAMELSAD</th><th scope=col>land_Area</th><th scope=col>water_Area</th><th scope=col>latitude</th><th scope=col>longitude</th><th scope=col>tract_avgSlope</th><th scope=col>County</th><th scope=col>county_avgElevation</th><th scope=col>avg_tempeture</th><th scope=col>avg_precipitation</th><th scope=col>EVT_LF</th></tr></thead>\n",
       "<tbody>\n",
       "\t<tr><td>1                   </td><td>6037                </td><td>6                   </td><td>37                  </td><td>137504              </td><td>6037137504          </td><td>1375.04             </td><td>Census Tract 1375.04</td><td> 3837562            </td><td>      0             </td><td>34.14804            </td><td>-118.5721           </td><td>6.1882601           </td><td>Los Angeles County  </td><td>149                 </td><td>63.7                </td><td> 7.64               </td><td>Tree                </td></tr>\n",
       "\t<tr><td>2                   </td><td>6037                </td><td>6                   </td><td>37                  </td><td>138000              </td><td>6037138000          </td><td>1380.00             </td><td>Census Tract 1380   </td><td> 4472196            </td><td>      0             </td><td>34.14880            </td><td>-118.5910           </td><td>5.2150257           </td><td>Los Angeles County  </td><td>499                 </td><td>63.7                </td><td> 7.64               </td><td>Tree                </td></tr>\n",
       "\t<tr><td>3                   </td><td>6037                </td><td>6                   </td><td>37                  </td><td>139200              </td><td>6037139200          </td><td>1392.00             </td><td>Census Tract 1392   </td><td> 1152028            </td><td>      0             </td><td>34.17570            </td><td>-118.5246           </td><td>0.4685362           </td><td>Los Angeles County  </td><td>494                 </td><td>63.7                </td><td> 7.64               </td><td>Developed           </td></tr>\n",
       "\t<tr><td>4                   </td><td>6087                </td><td>6                   </td><td>87                  </td><td>120901              </td><td>6087120901          </td><td>1209.01             </td><td>Census Tract 1209.01</td><td>18372491            </td><td>      0             </td><td>37.07816            </td><td>-122.0154           </td><td>7.3366886           </td><td>Santa Cruz County   </td><td>176                 </td><td>58.6                </td><td>27.14               </td><td>Shrub               </td></tr>\n",
       "\t<tr><td>5                   </td><td>6087                </td><td>6                   </td><td>87                  </td><td>120902              </td><td>6087120902          </td><td>1209.02             </td><td>Census Tract 1209.02</td><td> 6474889            </td><td>      0             </td><td>37.06285            </td><td>-122.0106           </td><td>5.0575136           </td><td>Santa Cruz County   </td><td> 89                 </td><td>58.6                </td><td>27.14               </td><td>Herb                </td></tr>\n",
       "\t<tr><td>6                   </td><td>6087                </td><td>6                   </td><td>87                  </td><td>121601              </td><td>6087121601          </td><td>1216.01             </td><td>Census Tract 1216.01</td><td> 1171521            </td><td>1165471             </td><td>36.95647            </td><td>-121.9752           </td><td>1.1932791           </td><td>Santa Cruz County   </td><td> 19                 </td><td>58.6                </td><td>27.14               </td><td>Tree                </td></tr>\n",
       "</tbody>\n",
       "</table>\n"
      ],
      "text/latex": [
       "\\begin{tabular}{r|llllllllllllllllll}\n",
       " X & countyID & STATEFP & COUNTYFP & TRACTCE & GEOID & tractID & NAMELSAD & land\\_Area & water\\_Area & latitude & longitude & tract\\_avgSlope & County & county\\_avgElevation & avg\\_tempeture & avg\\_precipitation & EVT\\_LF\\\\\n",
       "\\hline\n",
       "\t 1                    & 6037                 & 6                    & 37                   & 137504               & 6037137504           & 1375.04              & Census Tract 1375.04 &  3837562             &       0              & 34.14804             & -118.5721            & 6.1882601            & Los Angeles County   & 149                  & 63.7                 &  7.64                & Tree                \\\\\n",
       "\t 2                    & 6037                 & 6                    & 37                   & 138000               & 6037138000           & 1380.00              & Census Tract 1380    &  4472196             &       0              & 34.14880             & -118.5910            & 5.2150257            & Los Angeles County   & 499                  & 63.7                 &  7.64                & Tree                \\\\\n",
       "\t 3                    & 6037                 & 6                    & 37                   & 139200               & 6037139200           & 1392.00              & Census Tract 1392    &  1152028             &       0              & 34.17570             & -118.5246            & 0.4685362            & Los Angeles County   & 494                  & 63.7                 &  7.64                & Developed           \\\\\n",
       "\t 4                    & 6087                 & 6                    & 87                   & 120901               & 6087120901           & 1209.01              & Census Tract 1209.01 & 18372491             &       0              & 37.07816             & -122.0154            & 7.3366886            & Santa Cruz County    & 176                  & 58.6                 & 27.14                & Shrub               \\\\\n",
       "\t 5                    & 6087                 & 6                    & 87                   & 120902               & 6087120902           & 1209.02              & Census Tract 1209.02 &  6474889             &       0              & 37.06285             & -122.0106            & 5.0575136            & Santa Cruz County    &  89                  & 58.6                 & 27.14                & Herb                \\\\\n",
       "\t 6                    & 6087                 & 6                    & 87                   & 121601               & 6087121601           & 1216.01              & Census Tract 1216.01 &  1171521             & 1165471              & 36.95647             & -121.9752            & 1.1932791            & Santa Cruz County    &  19                  & 58.6                 & 27.14                & Tree                \\\\\n",
       "\\end{tabular}\n"
      ],
      "text/markdown": [
       "\n",
       "| X | countyID | STATEFP | COUNTYFP | TRACTCE | GEOID | tractID | NAMELSAD | land_Area | water_Area | latitude | longitude | tract_avgSlope | County | county_avgElevation | avg_tempeture | avg_precipitation | EVT_LF |\n",
       "|---|---|---|---|---|---|---|---|---|---|---|---|---|---|---|---|---|---|\n",
       "| 1                    | 6037                 | 6                    | 37                   | 137504               | 6037137504           | 1375.04              | Census Tract 1375.04 |  3837562             |       0              | 34.14804             | -118.5721            | 6.1882601            | Los Angeles County   | 149                  | 63.7                 |  7.64                | Tree                 |\n",
       "| 2                    | 6037                 | 6                    | 37                   | 138000               | 6037138000           | 1380.00              | Census Tract 1380    |  4472196             |       0              | 34.14880             | -118.5910            | 5.2150257            | Los Angeles County   | 499                  | 63.7                 |  7.64                | Tree                 |\n",
       "| 3                    | 6037                 | 6                    | 37                   | 139200               | 6037139200           | 1392.00              | Census Tract 1392    |  1152028             |       0              | 34.17570             | -118.5246            | 0.4685362            | Los Angeles County   | 494                  | 63.7                 |  7.64                | Developed            |\n",
       "| 4                    | 6087                 | 6                    | 87                   | 120901               | 6087120901           | 1209.01              | Census Tract 1209.01 | 18372491             |       0              | 37.07816             | -122.0154            | 7.3366886            | Santa Cruz County    | 176                  | 58.6                 | 27.14                | Shrub                |\n",
       "| 5                    | 6087                 | 6                    | 87                   | 120902               | 6087120902           | 1209.02              | Census Tract 1209.02 |  6474889             |       0              | 37.06285             | -122.0106            | 5.0575136            | Santa Cruz County    |  89                  | 58.6                 | 27.14                | Herb                 |\n",
       "| 6                    | 6087                 | 6                    | 87                   | 121601               | 6087121601           | 1216.01              | Census Tract 1216.01 |  1171521             | 1165471              | 36.95647             | -121.9752            | 1.1932791            | Santa Cruz County    |  19                  | 58.6                 | 27.14                | Tree                 |\n",
       "\n"
      ],
      "text/plain": [
       "  X countyID STATEFP COUNTYFP TRACTCE GEOID      tractID NAMELSAD            \n",
       "1 1 6037     6       37       137504  6037137504 1375.04 Census Tract 1375.04\n",
       "2 2 6037     6       37       138000  6037138000 1380.00 Census Tract 1380   \n",
       "3 3 6037     6       37       139200  6037139200 1392.00 Census Tract 1392   \n",
       "4 4 6087     6       87       120901  6087120901 1209.01 Census Tract 1209.01\n",
       "5 5 6087     6       87       120902  6087120902 1209.02 Census Tract 1209.02\n",
       "6 6 6087     6       87       121601  6087121601 1216.01 Census Tract 1216.01\n",
       "  land_Area water_Area latitude longitude tract_avgSlope County            \n",
       "1  3837562        0    34.14804 -118.5721 6.1882601      Los Angeles County\n",
       "2  4472196        0    34.14880 -118.5910 5.2150257      Los Angeles County\n",
       "3  1152028        0    34.17570 -118.5246 0.4685362      Los Angeles County\n",
       "4 18372491        0    37.07816 -122.0154 7.3366886      Santa Cruz County \n",
       "5  6474889        0    37.06285 -122.0106 5.0575136      Santa Cruz County \n",
       "6  1171521  1165471    36.95647 -121.9752 1.1932791      Santa Cruz County \n",
       "  county_avgElevation avg_tempeture avg_precipitation EVT_LF   \n",
       "1 149                 63.7           7.64             Tree     \n",
       "2 499                 63.7           7.64             Tree     \n",
       "3 494                 63.7           7.64             Developed\n",
       "4 176                 58.6          27.14             Shrub    \n",
       "5  89                 58.6          27.14             Herb     \n",
       "6  19                 58.6          27.14             Tree     "
      ]
     },
     "metadata": {},
     "output_type": "display_data"
    }
   ],
   "source": [
    "# Load data from a CSV file\n",
    "df2 <- read.csv(\"caliTracts_features.csv\")\n",
    "head(df2)"
   ]
  },
  {
   "cell_type": "code",
   "execution_count": 5,
   "id": "ac57355a",
   "metadata": {},
   "outputs": [
    {
     "data": {
      "text/html": [
       "<ol class=list-inline>\n",
       "\t<li>9119</li>\n",
       "\t<li>18</li>\n",
       "</ol>\n"
      ],
      "text/latex": [
       "\\begin{enumerate*}\n",
       "\\item 9119\n",
       "\\item 18\n",
       "\\end{enumerate*}\n"
      ],
      "text/markdown": [
       "1. 9119\n",
       "2. 18\n",
       "\n",
       "\n"
      ],
      "text/plain": [
       "[1] 9119   18"
      ]
     },
     "metadata": {},
     "output_type": "display_data"
    }
   ],
   "source": [
    "# Print the dimensions of the dataset\n",
    "dim(df2)"
   ]
  },
  {
   "cell_type": "code",
   "execution_count": 6,
   "id": "587418a9",
   "metadata": {},
   "outputs": [
    {
     "data": {
      "text/html": [
       "<table>\n",
       "<thead><tr><th scope=col>countyID</th><th scope=col>STATEFP</th><th scope=col>COUNTYFP</th><th scope=col>TRACTCE</th><th scope=col>GEOID</th><th scope=col>tractID</th><th scope=col>NAMELSAD</th><th scope=col>land_Area</th><th scope=col>water_Area</th><th scope=col>latitude</th><th scope=col>longitude</th><th scope=col>tract_avgSlope</th><th scope=col>County</th><th scope=col>county_avgElevation</th><th scope=col>avg_tempeture</th><th scope=col>avg_precipitation</th><th scope=col>EVT_LF</th></tr></thead>\n",
       "<tbody>\n",
       "\t<tr><td>6037                </td><td>6                   </td><td>37                  </td><td>137504              </td><td>6037137504          </td><td>1375.04             </td><td>Census Tract 1375.04</td><td> 3837562            </td><td>      0             </td><td>34.14804            </td><td>-118.5721           </td><td>6.1882601           </td><td>Los Angeles County  </td><td>149                 </td><td>63.7                </td><td> 7.64               </td><td>Tree                </td></tr>\n",
       "\t<tr><td>6037                </td><td>6                   </td><td>37                  </td><td>138000              </td><td>6037138000          </td><td>1380.00             </td><td>Census Tract 1380   </td><td> 4472196            </td><td>      0             </td><td>34.14880            </td><td>-118.5910           </td><td>5.2150257           </td><td>Los Angeles County  </td><td>499                 </td><td>63.7                </td><td> 7.64               </td><td>Tree                </td></tr>\n",
       "\t<tr><td>6037                </td><td>6                   </td><td>37                  </td><td>139200              </td><td>6037139200          </td><td>1392.00             </td><td>Census Tract 1392   </td><td> 1152028            </td><td>      0             </td><td>34.17570            </td><td>-118.5246           </td><td>0.4685362           </td><td>Los Angeles County  </td><td>494                 </td><td>63.7                </td><td> 7.64               </td><td>Developed           </td></tr>\n",
       "\t<tr><td>6087                </td><td>6                   </td><td>87                  </td><td>120901              </td><td>6087120901          </td><td>1209.01             </td><td>Census Tract 1209.01</td><td>18372491            </td><td>      0             </td><td>37.07816            </td><td>-122.0154           </td><td>7.3366886           </td><td>Santa Cruz County   </td><td>176                 </td><td>58.6                </td><td>27.14               </td><td>Shrub               </td></tr>\n",
       "\t<tr><td>6087                </td><td>6                   </td><td>87                  </td><td>120902              </td><td>6087120902          </td><td>1209.02             </td><td>Census Tract 1209.02</td><td> 6474889            </td><td>      0             </td><td>37.06285            </td><td>-122.0106           </td><td>5.0575136           </td><td>Santa Cruz County   </td><td> 89                 </td><td>58.6                </td><td>27.14               </td><td>Herb                </td></tr>\n",
       "\t<tr><td>6087                </td><td>6                   </td><td>87                  </td><td>121601              </td><td>6087121601          </td><td>1216.01             </td><td>Census Tract 1216.01</td><td> 1171521            </td><td>1165471             </td><td>36.95647            </td><td>-121.9752           </td><td>1.1932791           </td><td>Santa Cruz County   </td><td> 19                 </td><td>58.6                </td><td>27.14               </td><td>Tree                </td></tr>\n",
       "</tbody>\n",
       "</table>\n"
      ],
      "text/latex": [
       "\\begin{tabular}{r|lllllllllllllllll}\n",
       " countyID & STATEFP & COUNTYFP & TRACTCE & GEOID & tractID & NAMELSAD & land\\_Area & water\\_Area & latitude & longitude & tract\\_avgSlope & County & county\\_avgElevation & avg\\_tempeture & avg\\_precipitation & EVT\\_LF\\\\\n",
       "\\hline\n",
       "\t 6037                 & 6                    & 37                   & 137504               & 6037137504           & 1375.04              & Census Tract 1375.04 &  3837562             &       0              & 34.14804             & -118.5721            & 6.1882601            & Los Angeles County   & 149                  & 63.7                 &  7.64                & Tree                \\\\\n",
       "\t 6037                 & 6                    & 37                   & 138000               & 6037138000           & 1380.00              & Census Tract 1380    &  4472196             &       0              & 34.14880             & -118.5910            & 5.2150257            & Los Angeles County   & 499                  & 63.7                 &  7.64                & Tree                \\\\\n",
       "\t 6037                 & 6                    & 37                   & 139200               & 6037139200           & 1392.00              & Census Tract 1392    &  1152028             &       0              & 34.17570             & -118.5246            & 0.4685362            & Los Angeles County   & 494                  & 63.7                 &  7.64                & Developed           \\\\\n",
       "\t 6087                 & 6                    & 87                   & 120901               & 6087120901           & 1209.01              & Census Tract 1209.01 & 18372491             &       0              & 37.07816             & -122.0154            & 7.3366886            & Santa Cruz County    & 176                  & 58.6                 & 27.14                & Shrub               \\\\\n",
       "\t 6087                 & 6                    & 87                   & 120902               & 6087120902           & 1209.02              & Census Tract 1209.02 &  6474889             &       0              & 37.06285             & -122.0106            & 5.0575136            & Santa Cruz County    &  89                  & 58.6                 & 27.14                & Herb                \\\\\n",
       "\t 6087                 & 6                    & 87                   & 121601               & 6087121601           & 1216.01              & Census Tract 1216.01 &  1171521             & 1165471              & 36.95647             & -121.9752            & 1.1932791            & Santa Cruz County    &  19                  & 58.6                 & 27.14                & Tree                \\\\\n",
       "\\end{tabular}\n"
      ],
      "text/markdown": [
       "\n",
       "| countyID | STATEFP | COUNTYFP | TRACTCE | GEOID | tractID | NAMELSAD | land_Area | water_Area | latitude | longitude | tract_avgSlope | County | county_avgElevation | avg_tempeture | avg_precipitation | EVT_LF |\n",
       "|---|---|---|---|---|---|---|---|---|---|---|---|---|---|---|---|---|\n",
       "| 6037                 | 6                    | 37                   | 137504               | 6037137504           | 1375.04              | Census Tract 1375.04 |  3837562             |       0              | 34.14804             | -118.5721            | 6.1882601            | Los Angeles County   | 149                  | 63.7                 |  7.64                | Tree                 |\n",
       "| 6037                 | 6                    | 37                   | 138000               | 6037138000           | 1380.00              | Census Tract 1380    |  4472196             |       0              | 34.14880             | -118.5910            | 5.2150257            | Los Angeles County   | 499                  | 63.7                 |  7.64                | Tree                 |\n",
       "| 6037                 | 6                    | 37                   | 139200               | 6037139200           | 1392.00              | Census Tract 1392    |  1152028             |       0              | 34.17570             | -118.5246            | 0.4685362            | Los Angeles County   | 494                  | 63.7                 |  7.64                | Developed            |\n",
       "| 6087                 | 6                    | 87                   | 120901               | 6087120901           | 1209.01              | Census Tract 1209.01 | 18372491             |       0              | 37.07816             | -122.0154            | 7.3366886            | Santa Cruz County    | 176                  | 58.6                 | 27.14                | Shrub                |\n",
       "| 6087                 | 6                    | 87                   | 120902               | 6087120902           | 1209.02              | Census Tract 1209.02 |  6474889             |       0              | 37.06285             | -122.0106            | 5.0575136            | Santa Cruz County    |  89                  | 58.6                 | 27.14                | Herb                 |\n",
       "| 6087                 | 6                    | 87                   | 121601               | 6087121601           | 1216.01              | Census Tract 1216.01 |  1171521             | 1165471              | 36.95647             | -121.9752            | 1.1932791            | Santa Cruz County    |  19                  | 58.6                 | 27.14                | Tree                 |\n",
       "\n"
      ],
      "text/plain": [
       "  countyID STATEFP COUNTYFP TRACTCE GEOID      tractID NAMELSAD            \n",
       "1 6037     6       37       137504  6037137504 1375.04 Census Tract 1375.04\n",
       "2 6037     6       37       138000  6037138000 1380.00 Census Tract 1380   \n",
       "3 6037     6       37       139200  6037139200 1392.00 Census Tract 1392   \n",
       "4 6087     6       87       120901  6087120901 1209.01 Census Tract 1209.01\n",
       "5 6087     6       87       120902  6087120902 1209.02 Census Tract 1209.02\n",
       "6 6087     6       87       121601  6087121601 1216.01 Census Tract 1216.01\n",
       "  land_Area water_Area latitude longitude tract_avgSlope County            \n",
       "1  3837562        0    34.14804 -118.5721 6.1882601      Los Angeles County\n",
       "2  4472196        0    34.14880 -118.5910 5.2150257      Los Angeles County\n",
       "3  1152028        0    34.17570 -118.5246 0.4685362      Los Angeles County\n",
       "4 18372491        0    37.07816 -122.0154 7.3366886      Santa Cruz County \n",
       "5  6474889        0    37.06285 -122.0106 5.0575136      Santa Cruz County \n",
       "6  1171521  1165471    36.95647 -121.9752 1.1932791      Santa Cruz County \n",
       "  county_avgElevation avg_tempeture avg_precipitation EVT_LF   \n",
       "1 149                 63.7           7.64             Tree     \n",
       "2 499                 63.7           7.64             Tree     \n",
       "3 494                 63.7           7.64             Developed\n",
       "4 176                 58.6          27.14             Shrub    \n",
       "5  89                 58.6          27.14             Herb     \n",
       "6  19                 58.6          27.14             Tree     "
      ]
     },
     "metadata": {},
     "output_type": "display_data"
    }
   ],
   "source": [
    "# Delete the first column (column 1)\n",
    "df2 <- df2[, -1]\n",
    "\n",
    "# Print the resulting data frame\n",
    "head(df2)\n"
   ]
  },
  {
   "cell_type": "code",
   "execution_count": 7,
   "id": "b8be8bc0",
   "metadata": {},
   "outputs": [
    {
     "data": {
      "text/html": [
       "<ol class=list-inline>\n",
       "\t<li>9119</li>\n",
       "\t<li>17</li>\n",
       "</ol>\n"
      ],
      "text/latex": [
       "\\begin{enumerate*}\n",
       "\\item 9119\n",
       "\\item 17\n",
       "\\end{enumerate*}\n"
      ],
      "text/markdown": [
       "1. 9119\n",
       "2. 17\n",
       "\n",
       "\n"
      ],
      "text/plain": [
       "[1] 9119   17"
      ]
     },
     "metadata": {},
     "output_type": "display_data"
    }
   ],
   "source": [
    "# Print the dimensions of the dataset\n",
    "dim(df2)"
   ]
  },
  {
   "cell_type": "markdown",
   "id": "ba0d1bb7",
   "metadata": {},
   "source": [
    "### Merge datasets (NRI Table Census Tracts Subset and caliTracts_features)"
   ]
  },
  {
   "cell_type": "code",
   "execution_count": 8,
   "id": "4651d8a6",
   "metadata": {},
   "outputs": [],
   "source": [
    "# Merge datasets based on different key columns with an inner join\n",
    "merged_dataset <- merge(df, df2, by.x = \"TRACT\", by.y = \"TRACTCE\", all = FALSE)\n",
    "\n",
    "# The 'all' parameter specifies the type of merge ('FALSE' for inner join)\n",
    "# 'inner' merge keeps only rows with matching values in both key columns\n",
    "\n",
    "# 'all = TRUE': The 'all' parameter determines the type of merge to be performed. \n",
    "# Setting 'all = TRUE' means that it's an outer join. \n",
    "# An outer join combines rows from both data frames, including those with non-matching \n",
    "# values in the key columns. Rows with matching values are included as well. \n",
    "# This ensures that all rows from both data frames are retained in the result."
   ]
  },
  {
   "cell_type": "code",
   "execution_count": 9,
   "id": "0fe4b936",
   "metadata": {},
   "outputs": [
    {
     "data": {
      "text/html": [
       "<table>\n",
       "<thead><tr><th scope=col>TRACT</th><th scope=col>OID_</th><th scope=col>NRI_ID</th><th scope=col>STATE</th><th scope=col>STATEABBRV</th><th scope=col>STATEFIPS</th><th scope=col>COUNTY</th><th scope=col>COUNTYTYPE</th><th scope=col>COUNTYFIPS</th><th scope=col>STCOFIPS</th><th scope=col>...</th><th scope=col>land_Area</th><th scope=col>water_Area</th><th scope=col>latitude</th><th scope=col>longitude</th><th scope=col>tract_avgSlope</th><th scope=col>County</th><th scope=col>county_avgElevation</th><th scope=col>avg_tempeture</th><th scope=col>avg_precipitation</th><th scope=col>EVT_LF</th></tr></thead>\n",
       "<tbody>\n",
       "\t<tr><td>100              </td><td>71399            </td><td>T48113000100     </td><td>Texas            </td><td>TX               </td><td>48               </td><td>Dallas           </td><td>County           </td><td>113              </td><td>48113            </td><td>...              </td><td> 255205740       </td><td>   75237         </td><td>36.39289         </td><td>-119.5984        </td><td>0.05901829       </td><td>Kings County     </td><td>  81             </td><td>65.3             </td><td> 4.48            </td><td>Herb             </td></tr>\n",
       "\t<tr><td>100              </td><td>71399            </td><td>T48113000100     </td><td>Texas            </td><td>TX               </td><td>48               </td><td>Dallas           </td><td>County           </td><td>113              </td><td>48113            </td><td>...              </td><td>   1536251       </td><td>       0         </td><td>32.75299         </td><td>-117.1859        </td><td>4.95426757       </td><td>San Diego County </td><td> 233             </td><td>64.2             </td><td> 8.64            </td><td>Shrub            </td></tr>\n",
       "\t<tr><td>100              </td><td>71399            </td><td>T48113000100     </td><td>Texas            </td><td>TX               </td><td>48               </td><td>Dallas           </td><td>County           </td><td>113              </td><td>48113            </td><td>...              </td><td> 394460134       </td><td> 1068980         </td><td>36.90117         </td><td>-121.3587        </td><td>3.04007930       </td><td>San Benito County</td><td> 149             </td><td>60.8             </td><td>10.24            </td><td>Agriculture      </td></tr>\n",
       "\t<tr><td>100              </td><td>71399            </td><td>T48113000100     </td><td>Texas            </td><td>TX               </td><td>48               </td><td>Dallas           </td><td>County           </td><td>113              </td><td>48113            </td><td>...              </td><td>   2030976       </td><td>  188167         </td><td>38.57777         </td><td>-121.4326        </td><td>1.16534486       </td><td>Sacramento County</td><td>  12             </td><td>63.7             </td><td>12.80            </td><td>Tree             </td></tr>\n",
       "\t<tr><td>100              </td><td>71399            </td><td>T48113000100     </td><td>Texas            </td><td>TX               </td><td>48               </td><td>Dallas           </td><td>County           </td><td>113              </td><td>48113            </td><td>...              </td><td>2992366306       </td><td> 9139794         </td><td>40.19430         </td><td>-121.8565        </td><td>3.81188123       </td><td>Tehama County    </td><td> 816             </td><td>60.7             </td><td>19.69            </td><td>Tree             </td></tr>\n",
       "\t<tr><td>100              </td><td>71399            </td><td>T48113000100     </td><td>Texas            </td><td>TX               </td><td>48               </td><td>Dallas           </td><td>County           </td><td>113              </td><td>48113            </td><td>...              </td><td> 860405316       </td><td>44664518         </td><td>41.81993         </td><td>-121.6338        </td><td>1.57069978       </td><td>Siskiyou County  </td><td>1405             </td><td>50.5             </td><td>24.08            </td><td>Tree             </td></tr>\n",
       "</tbody>\n",
       "</table>\n"
      ],
      "text/latex": [
       "\\begin{tabular}{r|lllllllllllllllllllllllllllllllllllllllllllllllllllllllllllllllllllllllllllllllllllllllllllllllllllllllllllllllllllllllllllllllllllllllllllllllllllllllllllllllllllllllllllllllllllllllllllllllllllllll}\n",
       " TRACT & OID\\_ & NRI\\_ID & STATE & STATEABBRV & STATEFIPS & COUNTY & COUNTYTYPE & COUNTYFIPS & STCOFIPS & ... & land\\_Area & water\\_Area & latitude & longitude & tract\\_avgSlope & County & county\\_avgElevation & avg\\_tempeture & avg\\_precipitation & EVT\\_LF\\\\\n",
       "\\hline\n",
       "\t 100               & 71399             & T48113000100      & Texas             & TX                & 48                & Dallas            & County            & 113               & 48113             & ...               &  255205740        &    75237          & 36.39289          & -119.5984         & 0.05901829        & Kings County      &   81              & 65.3              &  4.48             & Herb             \\\\\n",
       "\t 100               & 71399             & T48113000100      & Texas             & TX                & 48                & Dallas            & County            & 113               & 48113             & ...               &    1536251        &        0          & 32.75299          & -117.1859         & 4.95426757        & San Diego County  &  233              & 64.2              &  8.64             & Shrub            \\\\\n",
       "\t 100               & 71399             & T48113000100      & Texas             & TX                & 48                & Dallas            & County            & 113               & 48113             & ...               &  394460134        &  1068980          & 36.90117          & -121.3587         & 3.04007930        & San Benito County &  149              & 60.8              & 10.24             & Agriculture      \\\\\n",
       "\t 100               & 71399             & T48113000100      & Texas             & TX                & 48                & Dallas            & County            & 113               & 48113             & ...               &    2030976        &   188167          & 38.57777          & -121.4326         & 1.16534486        & Sacramento County &   12              & 63.7              & 12.80             & Tree             \\\\\n",
       "\t 100               & 71399             & T48113000100      & Texas             & TX                & 48                & Dallas            & County            & 113               & 48113             & ...               & 2992366306        &  9139794          & 40.19430          & -121.8565         & 3.81188123        & Tehama County     &  816              & 60.7              & 19.69             & Tree             \\\\\n",
       "\t 100               & 71399             & T48113000100      & Texas             & TX                & 48                & Dallas            & County            & 113               & 48113             & ...               &  860405316        & 44664518          & 41.81993          & -121.6338         & 1.57069978        & Siskiyou County   & 1405              & 50.5              & 24.08             & Tree             \\\\\n",
       "\\end{tabular}\n"
      ],
      "text/markdown": [
       "\n",
       "| TRACT | OID_ | NRI_ID | STATE | STATEABBRV | STATEFIPS | COUNTY | COUNTYTYPE | COUNTYFIPS | STCOFIPS | ... | land_Area | water_Area | latitude | longitude | tract_avgSlope | County | county_avgElevation | avg_tempeture | avg_precipitation | EVT_LF |\n",
       "|---|---|---|---|---|---|---|---|---|---|---|---|---|---|---|---|---|---|---|---|---|\n",
       "| 100               | 71399             | T48113000100      | Texas             | TX                | 48                | Dallas            | County            | 113               | 48113             | ...               |  255205740        |    75237          | 36.39289          | -119.5984         | 0.05901829        | Kings County      |   81              | 65.3              |  4.48             | Herb              |\n",
       "| 100               | 71399             | T48113000100      | Texas             | TX                | 48                | Dallas            | County            | 113               | 48113             | ...               |    1536251        |        0          | 32.75299          | -117.1859         | 4.95426757        | San Diego County  |  233              | 64.2              |  8.64             | Shrub             |\n",
       "| 100               | 71399             | T48113000100      | Texas             | TX                | 48                | Dallas            | County            | 113               | 48113             | ...               |  394460134        |  1068980          | 36.90117          | -121.3587         | 3.04007930        | San Benito County |  149              | 60.8              | 10.24             | Agriculture       |\n",
       "| 100               | 71399             | T48113000100      | Texas             | TX                | 48                | Dallas            | County            | 113               | 48113             | ...               |    2030976        |   188167          | 38.57777          | -121.4326         | 1.16534486        | Sacramento County |   12              | 63.7              | 12.80             | Tree              |\n",
       "| 100               | 71399             | T48113000100      | Texas             | TX                | 48                | Dallas            | County            | 113               | 48113             | ...               | 2992366306        |  9139794          | 40.19430          | -121.8565         | 3.81188123        | Tehama County     |  816              | 60.7              | 19.69             | Tree              |\n",
       "| 100               | 71399             | T48113000100      | Texas             | TX                | 48                | Dallas            | County            | 113               | 48113             | ...               |  860405316        | 44664518          | 41.81993          | -121.6338         | 1.57069978        | Siskiyou County   | 1405              | 50.5              | 24.08             | Tree              |\n",
       "\n"
      ],
      "text/plain": [
       "  TRACT OID_  NRI_ID       STATE STATEABBRV STATEFIPS COUNTY COUNTYTYPE\n",
       "1 100   71399 T48113000100 Texas TX         48        Dallas County    \n",
       "2 100   71399 T48113000100 Texas TX         48        Dallas County    \n",
       "3 100   71399 T48113000100 Texas TX         48        Dallas County    \n",
       "4 100   71399 T48113000100 Texas TX         48        Dallas County    \n",
       "5 100   71399 T48113000100 Texas TX         48        Dallas County    \n",
       "6 100   71399 T48113000100 Texas TX         48        Dallas County    \n",
       "  COUNTYFIPS STCOFIPS ... land_Area  water_Area latitude longitude\n",
       "1 113        48113    ...  255205740    75237   36.39289 -119.5984\n",
       "2 113        48113    ...    1536251        0   32.75299 -117.1859\n",
       "3 113        48113    ...  394460134  1068980   36.90117 -121.3587\n",
       "4 113        48113    ...    2030976   188167   38.57777 -121.4326\n",
       "5 113        48113    ... 2992366306  9139794   40.19430 -121.8565\n",
       "6 113        48113    ...  860405316 44664518   41.81993 -121.6338\n",
       "  tract_avgSlope County            county_avgElevation avg_tempeture\n",
       "1 0.05901829     Kings County        81                65.3         \n",
       "2 4.95426757     San Diego County   233                64.2         \n",
       "3 3.04007930     San Benito County  149                60.8         \n",
       "4 1.16534486     Sacramento County   12                63.7         \n",
       "5 3.81188123     Tehama County      816                60.7         \n",
       "6 1.57069978     Siskiyou County   1405                50.5         \n",
       "  avg_precipitation EVT_LF     \n",
       "1  4.48             Herb       \n",
       "2  8.64             Shrub      \n",
       "3 10.24             Agriculture\n",
       "4 12.80             Tree       \n",
       "5 19.69             Tree       \n",
       "6 24.08             Tree       "
      ]
     },
     "metadata": {},
     "output_type": "display_data"
    }
   ],
   "source": [
    "# Print the resulting merged data frame\n",
    "head(merged_dataset)"
   ]
  },
  {
   "cell_type": "code",
   "execution_count": 10,
   "id": "fcdc52ec",
   "metadata": {},
   "outputs": [
    {
     "data": {
      "text/html": [
       "<ol class=list-inline>\n",
       "\t<li>25500</li>\n",
       "\t<li>199</li>\n",
       "</ol>\n"
      ],
      "text/latex": [
       "\\begin{enumerate*}\n",
       "\\item 25500\n",
       "\\item 199\n",
       "\\end{enumerate*}\n"
      ],
      "text/markdown": [
       "1. 25500\n",
       "2. 199\n",
       "\n",
       "\n"
      ],
      "text/plain": [
       "[1] 25500   199"
      ]
     },
     "metadata": {},
     "output_type": "display_data"
    }
   ],
   "source": [
    "# Print the dimensions of the dataset\n",
    "dim(merged_dataset)"
   ]
  },
  {
   "cell_type": "markdown",
   "id": "18beef4d",
   "metadata": {},
   "source": [
    "## Checkpoint 1 (cali_data)"
   ]
  },
  {
   "cell_type": "markdown",
   "id": "1a8cece7",
   "metadata": {},
   "source": [
    "### Filter and Select ONLY \"California\" State "
   ]
  },
  {
   "cell_type": "code",
   "execution_count": 11,
   "id": "2a4638e7",
   "metadata": {},
   "outputs": [
    {
     "data": {
      "text/html": [
       "<table>\n",
       "<thead><tr><th></th><th scope=col>TRACT</th><th scope=col>OID_</th><th scope=col>NRI_ID</th><th scope=col>STATE</th><th scope=col>STATEABBRV</th><th scope=col>STATEFIPS</th><th scope=col>COUNTY</th><th scope=col>COUNTYTYPE</th><th scope=col>COUNTYFIPS</th><th scope=col>STCOFIPS</th><th scope=col>...</th><th scope=col>land_Area</th><th scope=col>water_Area</th><th scope=col>latitude</th><th scope=col>longitude</th><th scope=col>tract_avgSlope</th><th scope=col>County</th><th scope=col>county_avgElevation</th><th scope=col>avg_tempeture</th><th scope=col>avg_precipitation</th><th scope=col>EVT_LF</th></tr></thead>\n",
       "<tbody>\n",
       "\t<tr><th scope=row>14</th><td>100              </td><td>5517             </td><td>T06031000100     </td><td>California       </td><td>CA               </td><td>6                </td><td>Kings            </td><td>County           </td><td>31               </td><td>6031             </td><td>...              </td><td> 255205740       </td><td>   75237         </td><td>36.39289         </td><td>-119.5984        </td><td>0.05901829       </td><td>Kings County     </td><td>  81             </td><td>65.3             </td><td> 4.48            </td><td>Herb             </td></tr>\n",
       "\t<tr><th scope=row>15</th><td>100              </td><td>5517             </td><td>T06031000100     </td><td>California       </td><td>CA               </td><td>6                </td><td>Kings            </td><td>County           </td><td>31               </td><td>6031             </td><td>...              </td><td>   1536251       </td><td>       0         </td><td>32.75299         </td><td>-117.1859        </td><td>4.95426757       </td><td>San Diego County </td><td> 233             </td><td>64.2             </td><td> 8.64            </td><td>Shrub            </td></tr>\n",
       "\t<tr><th scope=row>16</th><td>100              </td><td>5517             </td><td>T06031000100     </td><td>California       </td><td>CA               </td><td>6                </td><td>Kings            </td><td>County           </td><td>31               </td><td>6031             </td><td>...              </td><td> 394460134       </td><td> 1068980         </td><td>36.90117         </td><td>-121.3587        </td><td>3.04007930       </td><td>San Benito County</td><td> 149             </td><td>60.8             </td><td>10.24            </td><td>Agriculture      </td></tr>\n",
       "\t<tr><th scope=row>17</th><td>100              </td><td>5517             </td><td>T06031000100     </td><td>California       </td><td>CA               </td><td>6                </td><td>Kings            </td><td>County           </td><td>31               </td><td>6031             </td><td>...              </td><td>   2030976       </td><td>  188167         </td><td>38.57777         </td><td>-121.4326        </td><td>1.16534486       </td><td>Sacramento County</td><td>  12             </td><td>63.7             </td><td>12.80            </td><td>Tree             </td></tr>\n",
       "\t<tr><th scope=row>18</th><td>100              </td><td>5517             </td><td>T06031000100     </td><td>California       </td><td>CA               </td><td>6                </td><td>Kings            </td><td>County           </td><td>31               </td><td>6031             </td><td>...              </td><td>2992366306       </td><td> 9139794         </td><td>40.19430         </td><td>-121.8565        </td><td>3.81188123       </td><td>Tehama County    </td><td> 816             </td><td>60.7             </td><td>19.69            </td><td>Tree             </td></tr>\n",
       "\t<tr><th scope=row>19</th><td>100              </td><td>5517             </td><td>T06031000100     </td><td>California       </td><td>CA               </td><td>6                </td><td>Kings            </td><td>County           </td><td>31               </td><td>6031             </td><td>...              </td><td> 860405316       </td><td>44664518         </td><td>41.81993         </td><td>-121.6338        </td><td>1.57069978       </td><td>Siskiyou County  </td><td>1405             </td><td>50.5             </td><td>24.08            </td><td>Tree             </td></tr>\n",
       "</tbody>\n",
       "</table>\n"
      ],
      "text/latex": [
       "\\begin{tabular}{r|lllllllllllllllllllllllllllllllllllllllllllllllllllllllllllllllllllllllllllllllllllllllllllllllllllllllllllllllllllllllllllllllllllllllllllllllllllllllllllllllllllllllllllllllllllllllllllllllllllllll}\n",
       "  & TRACT & OID\\_ & NRI\\_ID & STATE & STATEABBRV & STATEFIPS & COUNTY & COUNTYTYPE & COUNTYFIPS & STCOFIPS & ... & land\\_Area & water\\_Area & latitude & longitude & tract\\_avgSlope & County & county\\_avgElevation & avg\\_tempeture & avg\\_precipitation & EVT\\_LF\\\\\n",
       "\\hline\n",
       "\t14 & 100               & 5517              & T06031000100      & California        & CA                & 6                 & Kings             & County            & 31                & 6031              & ...               &  255205740        &    75237          & 36.39289          & -119.5984         & 0.05901829        & Kings County      &   81              & 65.3              &  4.48             & Herb             \\\\\n",
       "\t15 & 100               & 5517              & T06031000100      & California        & CA                & 6                 & Kings             & County            & 31                & 6031              & ...               &    1536251        &        0          & 32.75299          & -117.1859         & 4.95426757        & San Diego County  &  233              & 64.2              &  8.64             & Shrub            \\\\\n",
       "\t16 & 100               & 5517              & T06031000100      & California        & CA                & 6                 & Kings             & County            & 31                & 6031              & ...               &  394460134        &  1068980          & 36.90117          & -121.3587         & 3.04007930        & San Benito County &  149              & 60.8              & 10.24             & Agriculture      \\\\\n",
       "\t17 & 100               & 5517              & T06031000100      & California        & CA                & 6                 & Kings             & County            & 31                & 6031              & ...               &    2030976        &   188167          & 38.57777          & -121.4326         & 1.16534486        & Sacramento County &   12              & 63.7              & 12.80             & Tree             \\\\\n",
       "\t18 & 100               & 5517              & T06031000100      & California        & CA                & 6                 & Kings             & County            & 31                & 6031              & ...               & 2992366306        &  9139794          & 40.19430          & -121.8565         & 3.81188123        & Tehama County     &  816              & 60.7              & 19.69             & Tree             \\\\\n",
       "\t19 & 100               & 5517              & T06031000100      & California        & CA                & 6                 & Kings             & County            & 31                & 6031              & ...               &  860405316        & 44664518          & 41.81993          & -121.6338         & 1.57069978        & Siskiyou County   & 1405              & 50.5              & 24.08             & Tree             \\\\\n",
       "\\end{tabular}\n"
      ],
      "text/markdown": [
       "\n",
       "| <!--/--> | TRACT | OID_ | NRI_ID | STATE | STATEABBRV | STATEFIPS | COUNTY | COUNTYTYPE | COUNTYFIPS | STCOFIPS | ... | land_Area | water_Area | latitude | longitude | tract_avgSlope | County | county_avgElevation | avg_tempeture | avg_precipitation | EVT_LF |\n",
       "|---|---|---|---|---|---|---|---|---|---|---|---|---|---|---|---|---|---|---|---|---|---|\n",
       "| 14 | 100               | 5517              | T06031000100      | California        | CA                | 6                 | Kings             | County            | 31                | 6031              | ...               |  255205740        |    75237          | 36.39289          | -119.5984         | 0.05901829        | Kings County      |   81              | 65.3              |  4.48             | Herb              |\n",
       "| 15 | 100               | 5517              | T06031000100      | California        | CA                | 6                 | Kings             | County            | 31                | 6031              | ...               |    1536251        |        0          | 32.75299          | -117.1859         | 4.95426757        | San Diego County  |  233              | 64.2              |  8.64             | Shrub             |\n",
       "| 16 | 100               | 5517              | T06031000100      | California        | CA                | 6                 | Kings             | County            | 31                | 6031              | ...               |  394460134        |  1068980          | 36.90117          | -121.3587         | 3.04007930        | San Benito County |  149              | 60.8              | 10.24             | Agriculture       |\n",
       "| 17 | 100               | 5517              | T06031000100      | California        | CA                | 6                 | Kings             | County            | 31                | 6031              | ...               |    2030976        |   188167          | 38.57777          | -121.4326         | 1.16534486        | Sacramento County |   12              | 63.7              | 12.80             | Tree              |\n",
       "| 18 | 100               | 5517              | T06031000100      | California        | CA                | 6                 | Kings             | County            | 31                | 6031              | ...               | 2992366306        |  9139794          | 40.19430          | -121.8565         | 3.81188123        | Tehama County     |  816              | 60.7              | 19.69             | Tree              |\n",
       "| 19 | 100               | 5517              | T06031000100      | California        | CA                | 6                 | Kings             | County            | 31                | 6031              | ...               |  860405316        | 44664518          | 41.81993          | -121.6338         | 1.57069978        | Siskiyou County   | 1405              | 50.5              | 24.08             | Tree              |\n",
       "\n"
      ],
      "text/plain": [
       "   TRACT OID_ NRI_ID       STATE      STATEABBRV STATEFIPS COUNTY COUNTYTYPE\n",
       "14 100   5517 T06031000100 California CA         6         Kings  County    \n",
       "15 100   5517 T06031000100 California CA         6         Kings  County    \n",
       "16 100   5517 T06031000100 California CA         6         Kings  County    \n",
       "17 100   5517 T06031000100 California CA         6         Kings  County    \n",
       "18 100   5517 T06031000100 California CA         6         Kings  County    \n",
       "19 100   5517 T06031000100 California CA         6         Kings  County    \n",
       "   COUNTYFIPS STCOFIPS ... land_Area  water_Area latitude longitude\n",
       "14 31         6031     ...  255205740    75237   36.39289 -119.5984\n",
       "15 31         6031     ...    1536251        0   32.75299 -117.1859\n",
       "16 31         6031     ...  394460134  1068980   36.90117 -121.3587\n",
       "17 31         6031     ...    2030976   188167   38.57777 -121.4326\n",
       "18 31         6031     ... 2992366306  9139794   40.19430 -121.8565\n",
       "19 31         6031     ...  860405316 44664518   41.81993 -121.6338\n",
       "   tract_avgSlope County            county_avgElevation avg_tempeture\n",
       "14 0.05901829     Kings County        81                65.3         \n",
       "15 4.95426757     San Diego County   233                64.2         \n",
       "16 3.04007930     San Benito County  149                60.8         \n",
       "17 1.16534486     Sacramento County   12                63.7         \n",
       "18 3.81188123     Tehama County      816                60.7         \n",
       "19 1.57069978     Siskiyou County   1405                50.5         \n",
       "   avg_precipitation EVT_LF     \n",
       "14  4.48             Herb       \n",
       "15  8.64             Shrub      \n",
       "16 10.24             Agriculture\n",
       "17 12.80             Tree       \n",
       "18 19.69             Tree       \n",
       "19 24.08             Tree       "
      ]
     },
     "metadata": {},
     "output_type": "display_data"
    }
   ],
   "source": [
    "# Select rows where the 'STATE' column is 'California'\n",
    "cali_data <- merged_dataset[merged_dataset$STATE == \"California\", ]\n",
    "\n",
    "# Display or work with the California data\n",
    "head(cali_data)"
   ]
  },
  {
   "cell_type": "code",
   "execution_count": 12,
   "id": "39c2200b",
   "metadata": {},
   "outputs": [
    {
     "data": {
      "text/html": [
       "<ol class=list-inline>\n",
       "\t<li>17422</li>\n",
       "\t<li>199</li>\n",
       "</ol>\n"
      ],
      "text/latex": [
       "\\begin{enumerate*}\n",
       "\\item 17422\n",
       "\\item 199\n",
       "\\end{enumerate*}\n"
      ],
      "text/markdown": [
       "1. 17422\n",
       "2. 199\n",
       "\n",
       "\n"
      ],
      "text/plain": [
       "[1] 17422   199"
      ]
     },
     "metadata": {},
     "output_type": "display_data"
    }
   ],
   "source": [
    "# Print the dimensions of the dataset\n",
    "dim(cali_data)"
   ]
  },
  {
   "cell_type": "markdown",
   "id": "ffa20f10",
   "metadata": {},
   "source": [
    "#### Validate merged dataset"
   ]
  },
  {
   "cell_type": "code",
   "execution_count": 13,
   "id": "f42cff30",
   "metadata": {},
   "outputs": [
    {
     "data": {
      "text/html": [
       "<table>\n",
       "<thead><tr><th></th><th scope=col>TRACT</th><th scope=col>County</th><th scope=col>COUNTY</th></tr></thead>\n",
       "<tbody>\n",
       "\t<tr><th scope=row>14</th><td>100              </td><td>Kings County     </td><td>Kings            </td></tr>\n",
       "\t<tr><th scope=row>15</th><td>100              </td><td>San Diego County </td><td>Kings            </td></tr>\n",
       "\t<tr><th scope=row>16</th><td>100              </td><td>San Benito County</td><td>Kings            </td></tr>\n",
       "\t<tr><th scope=row>17</th><td>100              </td><td>Sacramento County</td><td>Kings            </td></tr>\n",
       "\t<tr><th scope=row>18</th><td>100              </td><td>Tehama County    </td><td>Kings            </td></tr>\n",
       "\t<tr><th scope=row>19</th><td>100              </td><td>Siskiyou County  </td><td>Kings            </td></tr>\n",
       "</tbody>\n",
       "</table>\n"
      ],
      "text/latex": [
       "\\begin{tabular}{r|lll}\n",
       "  & TRACT & County & COUNTY\\\\\n",
       "\\hline\n",
       "\t14 & 100               & Kings County      & Kings            \\\\\n",
       "\t15 & 100               & San Diego County  & Kings            \\\\\n",
       "\t16 & 100               & San Benito County & Kings            \\\\\n",
       "\t17 & 100               & Sacramento County & Kings            \\\\\n",
       "\t18 & 100               & Tehama County     & Kings            \\\\\n",
       "\t19 & 100               & Siskiyou County   & Kings            \\\\\n",
       "\\end{tabular}\n"
      ],
      "text/markdown": [
       "\n",
       "| <!--/--> | TRACT | County | COUNTY |\n",
       "|---|---|---|---|\n",
       "| 14 | 100               | Kings County      | Kings             |\n",
       "| 15 | 100               | San Diego County  | Kings             |\n",
       "| 16 | 100               | San Benito County | Kings             |\n",
       "| 17 | 100               | Sacramento County | Kings             |\n",
       "| 18 | 100               | Tehama County     | Kings             |\n",
       "| 19 | 100               | Siskiyou County   | Kings             |\n",
       "\n"
      ],
      "text/plain": [
       "   TRACT County            COUNTY\n",
       "14 100   Kings County      Kings \n",
       "15 100   San Diego County  Kings \n",
       "16 100   San Benito County Kings \n",
       "17 100   Sacramento County Kings \n",
       "18 100   Tehama County     Kings \n",
       "19 100   Siskiyou County   Kings "
      ]
     },
     "metadata": {},
     "output_type": "display_data"
    }
   ],
   "source": [
    "# Choose two columns to view (replace 'Column1' and 'Column2' with the actual column names)\n",
    "columns_to_view <- c(\"TRACT\", \"County\", \"COUNTY\")\n",
    "\n",
    "# View the selected columns\n",
    "viewed_data <- cali_data[columns_to_view]\n",
    "\n",
    "# Display the selected columns\n",
    "head(viewed_data)\n"
   ]
  },
  {
   "cell_type": "markdown",
   "id": "f9a346fe",
   "metadata": {},
   "source": [
    "## Feature Engineering "
   ]
  },
  {
   "cell_type": "markdown",
   "id": "5b97651a",
   "metadata": {},
   "source": [
    "#### Convert TARGET Variable (Numeric Value) to Binary for a Classification Algorithm"
   ]
  },
  {
   "cell_type": "code",
   "execution_count": 14,
   "id": "06f91c42",
   "metadata": {},
   "outputs": [
    {
     "data": {
      "text/plain": [
       "   Min. 1st Qu.  Median    Mean 3rd Qu.    Max. \n",
       "   0.00    0.00    0.00   36.18   86.78  100.00 "
      ]
     },
     "metadata": {},
     "output_type": "display_data"
    }
   ],
   "source": [
    "summary(cali_data$WFIR_RISKS)\n"
   ]
  },
  {
   "cell_type": "markdown",
   "id": "201d42a3",
   "metadata": {},
   "source": [
    "In this code, we first create the new binary column, **WFIR_BIN**, using the ifelse function. Where the values are 1 if the corresponding value in numeric_column is greater than the threshold and 0 otherwise.\n",
    "\n",
    "Then, we remove the old numeric column from the data frame using indexing and the ! operator along with the names function to identify the column to remove."
   ]
  },
  {
   "cell_type": "code",
   "execution_count": 15,
   "id": "660d1569",
   "metadata": {},
   "outputs": [],
   "source": [
    "# Set a threshold value\n",
    "threshold <- 0   # You can adjust this value based on your problem.\n",
    "\n",
    "# Create a new binary column based on the threshold\n",
    "cali_data$WFIR_BIN <- ifelse(cali_data$WFIR_RISKS > threshold, \"1\", \"0\")\n",
    "\n",
    "# Remove the old numeric column\n",
    "cali_data <- cali_data[, !(names(cali_data) %in% \"WFIR_RISKS\")]\n"
   ]
  },
  {
   "cell_type": "code",
   "execution_count": 16,
   "id": "26e6a194",
   "metadata": {},
   "outputs": [],
   "source": [
    "# Change the column type to a factor:\n",
    "cali_data$WFIR_BIN <- as.factor(cali_data$WFIR_BIN)\n"
   ]
  },
  {
   "cell_type": "code",
   "execution_count": 17,
   "id": "635b608f",
   "metadata": {},
   "outputs": [
    {
     "data": {
      "text/html": [
       "<table>\n",
       "<thead><tr><th></th><th scope=col>TRACT</th><th scope=col>OID_</th><th scope=col>NRI_ID</th><th scope=col>STATE</th><th scope=col>STATEABBRV</th><th scope=col>STATEFIPS</th><th scope=col>COUNTY</th><th scope=col>COUNTYTYPE</th><th scope=col>COUNTYFIPS</th><th scope=col>STCOFIPS</th><th scope=col>...</th><th scope=col>water_Area</th><th scope=col>latitude</th><th scope=col>longitude</th><th scope=col>tract_avgSlope</th><th scope=col>County</th><th scope=col>county_avgElevation</th><th scope=col>avg_tempeture</th><th scope=col>avg_precipitation</th><th scope=col>EVT_LF</th><th scope=col>WFIR_BIN</th></tr></thead>\n",
       "<tbody>\n",
       "\t<tr><th scope=row>14</th><td>100              </td><td>5517             </td><td>T06031000100     </td><td>California       </td><td>CA               </td><td>6                </td><td>Kings            </td><td>County           </td><td>31               </td><td>6031             </td><td>...              </td><td>   75237         </td><td>36.39289         </td><td>-119.5984        </td><td>0.05901829       </td><td>Kings County     </td><td>  81             </td><td>65.3             </td><td> 4.48            </td><td>Herb             </td><td>1                </td></tr>\n",
       "\t<tr><th scope=row>15</th><td>100              </td><td>5517             </td><td>T06031000100     </td><td>California       </td><td>CA               </td><td>6                </td><td>Kings            </td><td>County           </td><td>31               </td><td>6031             </td><td>...              </td><td>       0         </td><td>32.75299         </td><td>-117.1859        </td><td>4.95426757       </td><td>San Diego County </td><td> 233             </td><td>64.2             </td><td> 8.64            </td><td>Shrub            </td><td>1                </td></tr>\n",
       "\t<tr><th scope=row>16</th><td>100              </td><td>5517             </td><td>T06031000100     </td><td>California       </td><td>CA               </td><td>6                </td><td>Kings            </td><td>County           </td><td>31               </td><td>6031             </td><td>...              </td><td> 1068980         </td><td>36.90117         </td><td>-121.3587        </td><td>3.04007930       </td><td>San Benito County</td><td> 149             </td><td>60.8             </td><td>10.24            </td><td>Agriculture      </td><td>1                </td></tr>\n",
       "\t<tr><th scope=row>17</th><td>100              </td><td>5517             </td><td>T06031000100     </td><td>California       </td><td>CA               </td><td>6                </td><td>Kings            </td><td>County           </td><td>31               </td><td>6031             </td><td>...              </td><td>  188167         </td><td>38.57777         </td><td>-121.4326        </td><td>1.16534486       </td><td>Sacramento County</td><td>  12             </td><td>63.7             </td><td>12.80            </td><td>Tree             </td><td>1                </td></tr>\n",
       "\t<tr><th scope=row>18</th><td>100              </td><td>5517             </td><td>T06031000100     </td><td>California       </td><td>CA               </td><td>6                </td><td>Kings            </td><td>County           </td><td>31               </td><td>6031             </td><td>...              </td><td> 9139794         </td><td>40.19430         </td><td>-121.8565        </td><td>3.81188123       </td><td>Tehama County    </td><td> 816             </td><td>60.7             </td><td>19.69            </td><td>Tree             </td><td>1                </td></tr>\n",
       "\t<tr><th scope=row>19</th><td>100              </td><td>5517             </td><td>T06031000100     </td><td>California       </td><td>CA               </td><td>6                </td><td>Kings            </td><td>County           </td><td>31               </td><td>6031             </td><td>...              </td><td>44664518         </td><td>41.81993         </td><td>-121.6338        </td><td>1.57069978       </td><td>Siskiyou County  </td><td>1405             </td><td>50.5             </td><td>24.08            </td><td>Tree             </td><td>1                </td></tr>\n",
       "</tbody>\n",
       "</table>\n"
      ],
      "text/latex": [
       "\\begin{tabular}{r|lllllllllllllllllllllllllllllllllllllllllllllllllllllllllllllllllllllllllllllllllllllllllllllllllllllllllllllllllllllllllllllllllllllllllllllllllllllllllllllllllllllllllllllllllllllllllllllllllllllll}\n",
       "  & TRACT & OID\\_ & NRI\\_ID & STATE & STATEABBRV & STATEFIPS & COUNTY & COUNTYTYPE & COUNTYFIPS & STCOFIPS & ... & water\\_Area & latitude & longitude & tract\\_avgSlope & County & county\\_avgElevation & avg\\_tempeture & avg\\_precipitation & EVT\\_LF & WFIR\\_BIN\\\\\n",
       "\\hline\n",
       "\t14 & 100               & 5517              & T06031000100      & California        & CA                & 6                 & Kings             & County            & 31                & 6031              & ...               &    75237          & 36.39289          & -119.5984         & 0.05901829        & Kings County      &   81              & 65.3              &  4.48             & Herb              & 1                \\\\\n",
       "\t15 & 100               & 5517              & T06031000100      & California        & CA                & 6                 & Kings             & County            & 31                & 6031              & ...               &        0          & 32.75299          & -117.1859         & 4.95426757        & San Diego County  &  233              & 64.2              &  8.64             & Shrub             & 1                \\\\\n",
       "\t16 & 100               & 5517              & T06031000100      & California        & CA                & 6                 & Kings             & County            & 31                & 6031              & ...               &  1068980          & 36.90117          & -121.3587         & 3.04007930        & San Benito County &  149              & 60.8              & 10.24             & Agriculture       & 1                \\\\\n",
       "\t17 & 100               & 5517              & T06031000100      & California        & CA                & 6                 & Kings             & County            & 31                & 6031              & ...               &   188167          & 38.57777          & -121.4326         & 1.16534486        & Sacramento County &   12              & 63.7              & 12.80             & Tree              & 1                \\\\\n",
       "\t18 & 100               & 5517              & T06031000100      & California        & CA                & 6                 & Kings             & County            & 31                & 6031              & ...               &  9139794          & 40.19430          & -121.8565         & 3.81188123        & Tehama County     &  816              & 60.7              & 19.69             & Tree              & 1                \\\\\n",
       "\t19 & 100               & 5517              & T06031000100      & California        & CA                & 6                 & Kings             & County            & 31                & 6031              & ...               & 44664518          & 41.81993          & -121.6338         & 1.57069978        & Siskiyou County   & 1405              & 50.5              & 24.08             & Tree              & 1                \\\\\n",
       "\\end{tabular}\n"
      ],
      "text/markdown": [
       "\n",
       "| <!--/--> | TRACT | OID_ | NRI_ID | STATE | STATEABBRV | STATEFIPS | COUNTY | COUNTYTYPE | COUNTYFIPS | STCOFIPS | ... | water_Area | latitude | longitude | tract_avgSlope | County | county_avgElevation | avg_tempeture | avg_precipitation | EVT_LF | WFIR_BIN |\n",
       "|---|---|---|---|---|---|---|---|---|---|---|---|---|---|---|---|---|---|---|---|---|---|\n",
       "| 14 | 100               | 5517              | T06031000100      | California        | CA                | 6                 | Kings             | County            | 31                | 6031              | ...               |    75237          | 36.39289          | -119.5984         | 0.05901829        | Kings County      |   81              | 65.3              |  4.48             | Herb              | 1                 |\n",
       "| 15 | 100               | 5517              | T06031000100      | California        | CA                | 6                 | Kings             | County            | 31                | 6031              | ...               |        0          | 32.75299          | -117.1859         | 4.95426757        | San Diego County  |  233              | 64.2              |  8.64             | Shrub             | 1                 |\n",
       "| 16 | 100               | 5517              | T06031000100      | California        | CA                | 6                 | Kings             | County            | 31                | 6031              | ...               |  1068980          | 36.90117          | -121.3587         | 3.04007930        | San Benito County |  149              | 60.8              | 10.24             | Agriculture       | 1                 |\n",
       "| 17 | 100               | 5517              | T06031000100      | California        | CA                | 6                 | Kings             | County            | 31                | 6031              | ...               |   188167          | 38.57777          | -121.4326         | 1.16534486        | Sacramento County |   12              | 63.7              | 12.80             | Tree              | 1                 |\n",
       "| 18 | 100               | 5517              | T06031000100      | California        | CA                | 6                 | Kings             | County            | 31                | 6031              | ...               |  9139794          | 40.19430          | -121.8565         | 3.81188123        | Tehama County     |  816              | 60.7              | 19.69             | Tree              | 1                 |\n",
       "| 19 | 100               | 5517              | T06031000100      | California        | CA                | 6                 | Kings             | County            | 31                | 6031              | ...               | 44664518          | 41.81993          | -121.6338         | 1.57069978        | Siskiyou County   | 1405              | 50.5              | 24.08             | Tree              | 1                 |\n",
       "\n"
      ],
      "text/plain": [
       "   TRACT OID_ NRI_ID       STATE      STATEABBRV STATEFIPS COUNTY COUNTYTYPE\n",
       "14 100   5517 T06031000100 California CA         6         Kings  County    \n",
       "15 100   5517 T06031000100 California CA         6         Kings  County    \n",
       "16 100   5517 T06031000100 California CA         6         Kings  County    \n",
       "17 100   5517 T06031000100 California CA         6         Kings  County    \n",
       "18 100   5517 T06031000100 California CA         6         Kings  County    \n",
       "19 100   5517 T06031000100 California CA         6         Kings  County    \n",
       "   COUNTYFIPS STCOFIPS ... water_Area latitude longitude tract_avgSlope\n",
       "14 31         6031     ...    75237   36.39289 -119.5984 0.05901829    \n",
       "15 31         6031     ...        0   32.75299 -117.1859 4.95426757    \n",
       "16 31         6031     ...  1068980   36.90117 -121.3587 3.04007930    \n",
       "17 31         6031     ...   188167   38.57777 -121.4326 1.16534486    \n",
       "18 31         6031     ...  9139794   40.19430 -121.8565 3.81188123    \n",
       "19 31         6031     ... 44664518   41.81993 -121.6338 1.57069978    \n",
       "   County            county_avgElevation avg_tempeture avg_precipitation\n",
       "14 Kings County        81                65.3           4.48            \n",
       "15 San Diego County   233                64.2           8.64            \n",
       "16 San Benito County  149                60.8          10.24            \n",
       "17 Sacramento County   12                63.7          12.80            \n",
       "18 Tehama County      816                60.7          19.69            \n",
       "19 Siskiyou County   1405                50.5          24.08            \n",
       "   EVT_LF      WFIR_BIN\n",
       "14 Herb        1       \n",
       "15 Shrub       1       \n",
       "16 Agriculture 1       \n",
       "17 Tree        1       \n",
       "18 Tree        1       \n",
       "19 Tree        1       "
      ]
     },
     "metadata": {},
     "output_type": "display_data"
    }
   ],
   "source": [
    "# View the resulting data frame\n",
    "head(cali_data)"
   ]
  },
  {
   "cell_type": "markdown",
   "id": "7509aacf",
   "metadata": {},
   "source": [
    "#### Evaluate the distribution of the target variable"
   ]
  },
  {
   "cell_type": "code",
   "execution_count": 18,
   "id": "e8b87f22",
   "metadata": {},
   "outputs": [
    {
     "data": {
      "image/png": "[encoded data removed]",
      "text/plain": [
       "Plot with title \"Target Column Distribution (WFIR_BIN)\""
      ]
     },
     "metadata": {},
     "output_type": "display_data"
    }
   ],
   "source": [
    "# Create a bar plot\n",
    "freq_table <- table(cali_data$WFIR_BIN)\n",
    "bar_colors <- ifelse(freq_table == max(freq_table), \"red\", \"lightblue\")\n",
    "\n",
    "# Create the bar plot with the highest value in red\n",
    "barplot(freq_table, main = \"Target Column Distribution (WFIR_BIN)\", xlab = \"Categories\", ylab = \"Frequency\", col = bar_colors)\n"
   ]
  },
  {
   "cell_type": "code",
   "execution_count": 19,
   "id": "e2017a55",
   "metadata": {},
   "outputs": [
    {
     "name": "stdout",
     "output_type": "stream",
     "text": [
      "Category Distribution:\n",
      "\n",
      "   0    1 \n",
      "9194 8228 \n"
     ]
    }
   ],
   "source": [
    "# Create a distribution table\n",
    "cat(\"Category Distribution:\\n\")\n",
    "print(freq_table)"
   ]
  },
  {
   "cell_type": "markdown",
   "id": "f11543d9",
   "metadata": {},
   "source": [
    "## Checkpoint 2 (cali_df)"
   ]
  },
  {
   "cell_type": "markdown",
   "id": "afdc8be1",
   "metadata": {},
   "source": [
    "##### Data Analysis and Exploration"
   ]
  },
  {
   "cell_type": "markdown",
   "id": "848542b8",
   "metadata": {},
   "source": [
    "Create a new dataframe called **cali_df** from the existing data structure."
   ]
  },
  {
   "cell_type": "code",
   "execution_count": 20,
   "id": "7500b053",
   "metadata": {},
   "outputs": [],
   "source": [
    "# Create a new data frame from cali_data\n",
    "cali_df <- data.frame(cali_data)\n"
   ]
  },
  {
   "cell_type": "markdown",
   "id": "02b53918",
   "metadata": {},
   "source": [
    "Describe the data types of columns in the dataset or data frame. Here's a summarized breakdown:\n",
    "\n",
    "- columns are of data type `integer,` which means they contain whole numbers and are suitable for mathematical and numerical operations.\n",
    "- columns are of data type `factor,` indicating they contain categorical data with predefined categories or levels. Factors are commonly used for storing and analyzing categorical variables."
   ]
  },
  {
   "cell_type": "code",
   "execution_count": 21,
   "id": "236d53ab",
   "metadata": {},
   "outputs": [
    {
     "data": {
      "text/html": [
       "<dl class=dl-horizontal>\n",
       "\t<dt>TRACT</dt>\n",
       "\t\t<dd>'integer'</dd>\n",
       "\t<dt>OID_</dt>\n",
       "\t\t<dd>'integer'</dd>\n",
       "\t<dt>NRI_ID</dt>\n",
       "\t\t<dd>'factor'</dd>\n",
       "\t<dt>STATE</dt>\n",
       "\t\t<dd>'factor'</dd>\n",
       "\t<dt>STATEABBRV</dt>\n",
       "\t\t<dd>'factor'</dd>\n",
       "\t<dt>STATEFIPS</dt>\n",
       "\t\t<dd>'integer'</dd>\n",
       "</dl>\n"
      ],
      "text/latex": [
       "\\begin{description*}\n",
       "\\item[TRACT] 'integer'\n",
       "\\item[OID\\textbackslash{}\\_] 'integer'\n",
       "\\item[NRI\\textbackslash{}\\_ID] 'factor'\n",
       "\\item[STATE] 'factor'\n",
       "\\item[STATEABBRV] 'factor'\n",
       "\\item[STATEFIPS] 'integer'\n",
       "\\end{description*}\n"
      ],
      "text/markdown": [
       "TRACT\n",
       ":   'integer'OID_\n",
       ":   'integer'NRI_ID\n",
       ":   'factor'STATE\n",
       ":   'factor'STATEABBRV\n",
       ":   'factor'STATEFIPS\n",
       ":   'integer'\n",
       "\n"
      ],
      "text/plain": [
       "     TRACT       OID_     NRI_ID      STATE STATEABBRV  STATEFIPS \n",
       " \"integer\"  \"integer\"   \"factor\"   \"factor\"   \"factor\"  \"integer\" "
      ]
     },
     "metadata": {},
     "output_type": "display_data"
    }
   ],
   "source": [
    "# Get data type information for each column\n",
    "data_types <- sapply(cali_df, class)\n",
    "\n",
    "# Print data type information\n",
    "head(data_types)\n"
   ]
  },
  {
   "cell_type": "markdown",
   "id": "40e862ae",
   "metadata": {},
   "source": [
    "Extract the names of categorical columns from **cali_df** dataframe, store the new data frame (**categorical_columns_df**), then view the list of categorical column names."
   ]
  },
  {
   "cell_type": "code",
   "execution_count": 22,
   "id": "d78be4fe",
   "metadata": {},
   "outputs": [
    {
     "name": "stdout",
     "output_type": "stream",
     "text": [
      "Categorical Column Names:\n",
      "   Categorical.Column.Names\n",
      "1                    NRI_ID\n",
      "2                     STATE\n",
      "3                STATEABBRV\n",
      "4                    COUNTY\n",
      "5                COUNTYTYPE\n",
      "6                RISK_RATNG\n",
      "7                 EAL_RATNG\n",
      "8                SOVI_RATNG\n",
      "9                RESL_RATNG\n",
      "10                DRGT_HLRR\n",
      "11                DRGT_EALR\n",
      "12               DRGT_RISKR\n",
      "13                HWAV_HLRR\n",
      "14                HWAV_EALR\n",
      "15               HWAV_RISKR\n",
      "16                LTNG_HLRR\n",
      "17                LTNG_EALR\n",
      "18               LTNG_RISKR\n",
      "19                RFLD_HLRR\n",
      "20                RFLD_EALR\n",
      "21               RFLD_RISKR\n",
      "22                SWND_HLRR\n",
      "23                SWND_EALR\n",
      "24               SWND_RISKR\n",
      "25                WFIR_HLRR\n",
      "26                WFIR_EALR\n",
      "27               WFIR_RISKR\n",
      "28                 NAMELSAD\n",
      "29                   County\n",
      "30                   EVT_LF\n",
      "31                 WFIR_BIN\n"
     ]
    }
   ],
   "source": [
    "# Get the names of categorical columns\n",
    "categorical_columns <- names(cali_df)[sapply(cali_df, is.factor)]\n",
    "\n",
    "# Create a data frame from the categorical column names\n",
    "categorical_columns_df <- data.frame(\"Categorical Column Names\" = categorical_columns)\n",
    "\n",
    "# Display the data frame\n",
    "cat(\"Categorical Column Names:\\n\")\n",
    "print(categorical_columns_df)\n"
   ]
  },
  {
   "cell_type": "markdown",
   "id": "e0f0a2f2",
   "metadata": {},
   "source": [
    "Inspect and display the values in a specific column of the data frame (**cali_df**)."
   ]
  },
  {
   "cell_type": "code",
   "execution_count": 23,
   "id": "63b17ca0",
   "metadata": {},
   "outputs": [
    {
     "name": "stdout",
     "output_type": "stream",
     "text": [
      "Selected column ( WFIR_BIN ):\n"
     ]
    },
    {
     "data": {
      "text/html": [
       "<ol class=list-inline>\n",
       "\t<li>1</li>\n",
       "\t<li>1</li>\n",
       "\t<li>1</li>\n",
       "\t<li>1</li>\n",
       "\t<li>1</li>\n",
       "\t<li>1</li>\n",
       "</ol>\n",
       "\n",
       "<details>\n",
       "\t<summary style=display:list-item;cursor:pointer>\n",
       "\t\t<strong>Levels</strong>:\n",
       "\t</summary>\n",
       "\t<ol class=list-inline>\n",
       "\t\t<li>'0'</li>\n",
       "\t\t<li>'1'</li>\n",
       "\t</ol>\n",
       "</details>"
      ],
      "text/latex": [
       "\\begin{enumerate*}\n",
       "\\item 1\n",
       "\\item 1\n",
       "\\item 1\n",
       "\\item 1\n",
       "\\item 1\n",
       "\\item 1\n",
       "\\end{enumerate*}\n",
       "\n",
       "\\emph{Levels}: \\begin{enumerate*}\n",
       "\\item '0'\n",
       "\\item '1'\n",
       "\\end{enumerate*}\n"
      ],
      "text/markdown": [
       "1. 1\n",
       "2. 1\n",
       "3. 1\n",
       "4. 1\n",
       "5. 1\n",
       "6. 1\n",
       "\n",
       "\n",
       "\n",
       "**Levels**: 1. '0'\n",
       "2. '1'\n",
       "\n",
       "\n"
      ],
      "text/plain": [
       "[1] 1 1 1 1 1 1\n",
       "Levels: 0 1"
      ]
     },
     "metadata": {},
     "output_type": "display_data"
    }
   ],
   "source": [
    "# Choose the column to print\n",
    "column_to_print <- \"WFIR_BIN\"\n",
    "\n",
    "# Print the selected column\n",
    "cat(paste(\"Selected column (\", column_to_print, \"):\\n\"))\n",
    "head(cali_df[[column_to_print]])\n"
   ]
  },
  {
   "cell_type": "markdown",
   "id": "c4246453",
   "metadata": {},
   "source": [
    "Select a specific column from **cali_df** data frame and find the unique values within that column."
   ]
  },
  {
   "cell_type": "code",
   "execution_count": 24,
   "id": "14429421",
   "metadata": {},
   "outputs": [
    {
     "name": "stdout",
     "output_type": "stream",
     "text": [
      "Unique values in the selected column:\n",
      "1 \n",
      "0 \n"
     ]
    }
   ],
   "source": [
    "# Choose the column to get unique values from (replace 'ColumnName' with the actual column name)\n",
    "column_to_print <- \"WFIR_BIN\"\n",
    "\n",
    "# Get unique values from the selected column\n",
    "unique_values <- unique(cali_df[[column_to_print]])\n",
    "\n",
    "# Print the unique values\n",
    "cat(\"Unique values in the selected column:\\n\")\n",
    "for (value in unique_values) {\n",
    "  cat(value, \"\\n\")\n",
    "}"
   ]
  },
  {
   "cell_type": "markdown",
   "id": "a6dc9b6a",
   "metadata": {},
   "source": [
    "## Checkpoint 3 (cali_df2)"
   ]
  },
  {
   "cell_type": "markdown",
   "id": "bc242a45",
   "metadata": {},
   "source": [
    "#### Data Cleaning and Preparation for Data Analysis"
   ]
  },
  {
   "cell_type": "markdown",
   "id": "42b31230",
   "metadata": {},
   "source": [
    "Identify columns in the **cali_df** data frame that have non-unique values (all values in a column are the same) and create a new data frame **cali_df2** with those non-unique columns removed."
   ]
  },
  {
   "cell_type": "code",
   "execution_count": 25,
   "id": "1737588e",
   "metadata": {},
   "outputs": [
    {
     "name": "stdout",
     "output_type": "stream",
     "text": [
      "Data Frame with Non-Unique Columns Removed:\n"
     ]
    },
    {
     "data": {
      "text/html": [
       "<table>\n",
       "<thead><tr><th></th><th scope=col>TRACT</th><th scope=col>OID_</th><th scope=col>NRI_ID</th><th scope=col>COUNTY</th><th scope=col>COUNTYFIPS</th><th scope=col>STCOFIPS</th><th scope=col>TRACTFIPS</th><th scope=col>POPULATION</th><th scope=col>BUILDVALUE</th><th scope=col>AGRIVALUE</th><th scope=col>...</th><th scope=col>water_Area</th><th scope=col>latitude</th><th scope=col>longitude</th><th scope=col>tract_avgSlope</th><th scope=col>County</th><th scope=col>county_avgElevation</th><th scope=col>avg_tempeture</th><th scope=col>avg_precipitation</th><th scope=col>EVT_LF</th><th scope=col>WFIR_BIN</th></tr></thead>\n",
       "<tbody>\n",
       "\t<tr><th scope=row>14</th><td>100              </td><td>5517             </td><td>T06031000100     </td><td>Kings            </td><td>31               </td><td>6031             </td><td>6.031e+09        </td><td>2910             </td><td>812611144        </td><td>103725013        </td><td>...              </td><td>   75237         </td><td>36.39289         </td><td>-119.5984        </td><td>0.05901829       </td><td>Kings County     </td><td>  81             </td><td>65.3             </td><td> 4.48            </td><td>Herb             </td><td>1                </td></tr>\n",
       "\t<tr><th scope=row>15</th><td>100              </td><td>5517             </td><td>T06031000100     </td><td>Kings            </td><td>31               </td><td>6031             </td><td>6.031e+09        </td><td>2910             </td><td>812611144        </td><td>103725013        </td><td>...              </td><td>       0         </td><td>32.75299         </td><td>-117.1859        </td><td>4.95426757       </td><td>San Diego County </td><td> 233             </td><td>64.2             </td><td> 8.64            </td><td>Shrub            </td><td>1                </td></tr>\n",
       "\t<tr><th scope=row>16</th><td>100              </td><td>5517             </td><td>T06031000100     </td><td>Kings            </td><td>31               </td><td>6031             </td><td>6.031e+09        </td><td>2910             </td><td>812611144        </td><td>103725013        </td><td>...              </td><td> 1068980         </td><td>36.90117         </td><td>-121.3587        </td><td>3.04007930       </td><td>San Benito County</td><td> 149             </td><td>60.8             </td><td>10.24            </td><td>Agriculture      </td><td>1                </td></tr>\n",
       "\t<tr><th scope=row>17</th><td>100              </td><td>5517             </td><td>T06031000100     </td><td>Kings            </td><td>31               </td><td>6031             </td><td>6.031e+09        </td><td>2910             </td><td>812611144        </td><td>103725013        </td><td>...              </td><td>  188167         </td><td>38.57777         </td><td>-121.4326        </td><td>1.16534486       </td><td>Sacramento County</td><td>  12             </td><td>63.7             </td><td>12.80            </td><td>Tree             </td><td>1                </td></tr>\n",
       "\t<tr><th scope=row>18</th><td>100              </td><td>5517             </td><td>T06031000100     </td><td>Kings            </td><td>31               </td><td>6031             </td><td>6.031e+09        </td><td>2910             </td><td>812611144        </td><td>103725013        </td><td>...              </td><td> 9139794         </td><td>40.19430         </td><td>-121.8565        </td><td>3.81188123       </td><td>Tehama County    </td><td> 816             </td><td>60.7             </td><td>19.69            </td><td>Tree             </td><td>1                </td></tr>\n",
       "\t<tr><th scope=row>19</th><td>100              </td><td>5517             </td><td>T06031000100     </td><td>Kings            </td><td>31               </td><td>6031             </td><td>6.031e+09        </td><td>2910             </td><td>812611144        </td><td>103725013        </td><td>...              </td><td>44664518         </td><td>41.81993         </td><td>-121.6338        </td><td>1.57069978       </td><td>Siskiyou County  </td><td>1405             </td><td>50.5             </td><td>24.08            </td><td>Tree             </td><td>1                </td></tr>\n",
       "</tbody>\n",
       "</table>\n"
      ],
      "text/latex": [
       "\\begin{tabular}{r|lllllllllllllllllllllllllllllllllllllllllllllllllllllllllllllllllllllllllllllllllllllllllllllllllllllllllllllllllllllllllllllllllllllllllllllllllllllllllllllllllllllllllllllllllllllllllllllll}\n",
       "  & TRACT & OID\\_ & NRI\\_ID & COUNTY & COUNTYFIPS & STCOFIPS & TRACTFIPS & POPULATION & BUILDVALUE & AGRIVALUE & ... & water\\_Area & latitude & longitude & tract\\_avgSlope & County & county\\_avgElevation & avg\\_tempeture & avg\\_precipitation & EVT\\_LF & WFIR\\_BIN\\\\\n",
       "\\hline\n",
       "\t14 & 100               & 5517              & T06031000100      & Kings             & 31                & 6031              & 6.031e+09         & 2910              & 812611144         & 103725013         & ...               &    75237          & 36.39289          & -119.5984         & 0.05901829        & Kings County      &   81              & 65.3              &  4.48             & Herb              & 1                \\\\\n",
       "\t15 & 100               & 5517              & T06031000100      & Kings             & 31                & 6031              & 6.031e+09         & 2910              & 812611144         & 103725013         & ...               &        0          & 32.75299          & -117.1859         & 4.95426757        & San Diego County  &  233              & 64.2              &  8.64             & Shrub             & 1                \\\\\n",
       "\t16 & 100               & 5517              & T06031000100      & Kings             & 31                & 6031              & 6.031e+09         & 2910              & 812611144         & 103725013         & ...               &  1068980          & 36.90117          & -121.3587         & 3.04007930        & San Benito County &  149              & 60.8              & 10.24             & Agriculture       & 1                \\\\\n",
       "\t17 & 100               & 5517              & T06031000100      & Kings             & 31                & 6031              & 6.031e+09         & 2910              & 812611144         & 103725013         & ...               &   188167          & 38.57777          & -121.4326         & 1.16534486        & Sacramento County &   12              & 63.7              & 12.80             & Tree              & 1                \\\\\n",
       "\t18 & 100               & 5517              & T06031000100      & Kings             & 31                & 6031              & 6.031e+09         & 2910              & 812611144         & 103725013         & ...               &  9139794          & 40.19430          & -121.8565         & 3.81188123        & Tehama County     &  816              & 60.7              & 19.69             & Tree              & 1                \\\\\n",
       "\t19 & 100               & 5517              & T06031000100      & Kings             & 31                & 6031              & 6.031e+09         & 2910              & 812611144         & 103725013         & ...               & 44664518          & 41.81993          & -121.6338         & 1.57069978        & Siskiyou County   & 1405              & 50.5              & 24.08             & Tree              & 1                \\\\\n",
       "\\end{tabular}\n"
      ],
      "text/markdown": [
       "\n",
       "| <!--/--> | TRACT | OID_ | NRI_ID | COUNTY | COUNTYFIPS | STCOFIPS | TRACTFIPS | POPULATION | BUILDVALUE | AGRIVALUE | ... | water_Area | latitude | longitude | tract_avgSlope | County | county_avgElevation | avg_tempeture | avg_precipitation | EVT_LF | WFIR_BIN |\n",
       "|---|---|---|---|---|---|---|---|---|---|---|---|---|---|---|---|---|---|---|---|---|---|\n",
       "| 14 | 100               | 5517              | T06031000100      | Kings             | 31                | 6031              | 6.031e+09         | 2910              | 812611144         | 103725013         | ...               |    75237          | 36.39289          | -119.5984         | 0.05901829        | Kings County      |   81              | 65.3              |  4.48             | Herb              | 1                 |\n",
       "| 15 | 100               | 5517              | T06031000100      | Kings             | 31                | 6031              | 6.031e+09         | 2910              | 812611144         | 103725013         | ...               |        0          | 32.75299          | -117.1859         | 4.95426757        | San Diego County  |  233              | 64.2              |  8.64             | Shrub             | 1                 |\n",
       "| 16 | 100               | 5517              | T06031000100      | Kings             | 31                | 6031              | 6.031e+09         | 2910              | 812611144         | 103725013         | ...               |  1068980          | 36.90117          | -121.3587         | 3.04007930        | San Benito County |  149              | 60.8              | 10.24             | Agriculture       | 1                 |\n",
       "| 17 | 100               | 5517              | T06031000100      | Kings             | 31                | 6031              | 6.031e+09         | 2910              | 812611144         | 103725013         | ...               |   188167          | 38.57777          | -121.4326         | 1.16534486        | Sacramento County |   12              | 63.7              | 12.80             | Tree              | 1                 |\n",
       "| 18 | 100               | 5517              | T06031000100      | Kings             | 31                | 6031              | 6.031e+09         | 2910              | 812611144         | 103725013         | ...               |  9139794          | 40.19430          | -121.8565         | 3.81188123        | Tehama County     |  816              | 60.7              | 19.69             | Tree              | 1                 |\n",
       "| 19 | 100               | 5517              | T06031000100      | Kings             | 31                | 6031              | 6.031e+09         | 2910              | 812611144         | 103725013         | ...               | 44664518          | 41.81993          | -121.6338         | 1.57069978        | Siskiyou County   | 1405              | 50.5              | 24.08             | Tree              | 1                 |\n",
       "\n"
      ],
      "text/plain": [
       "   TRACT OID_ NRI_ID       COUNTY COUNTYFIPS STCOFIPS TRACTFIPS POPULATION\n",
       "14 100   5517 T06031000100 Kings  31         6031     6.031e+09 2910      \n",
       "15 100   5517 T06031000100 Kings  31         6031     6.031e+09 2910      \n",
       "16 100   5517 T06031000100 Kings  31         6031     6.031e+09 2910      \n",
       "17 100   5517 T06031000100 Kings  31         6031     6.031e+09 2910      \n",
       "18 100   5517 T06031000100 Kings  31         6031     6.031e+09 2910      \n",
       "19 100   5517 T06031000100 Kings  31         6031     6.031e+09 2910      \n",
       "   BUILDVALUE AGRIVALUE ... water_Area latitude longitude tract_avgSlope\n",
       "14 812611144  103725013 ...    75237   36.39289 -119.5984 0.05901829    \n",
       "15 812611144  103725013 ...        0   32.75299 -117.1859 4.95426757    \n",
       "16 812611144  103725013 ...  1068980   36.90117 -121.3587 3.04007930    \n",
       "17 812611144  103725013 ...   188167   38.57777 -121.4326 1.16534486    \n",
       "18 812611144  103725013 ...  9139794   40.19430 -121.8565 3.81188123    \n",
       "19 812611144  103725013 ... 44664518   41.81993 -121.6338 1.57069978    \n",
       "   County            county_avgElevation avg_tempeture avg_precipitation\n",
       "14 Kings County        81                65.3           4.48            \n",
       "15 San Diego County   233                64.2           8.64            \n",
       "16 San Benito County  149                60.8          10.24            \n",
       "17 Sacramento County   12                63.7          12.80            \n",
       "18 Tehama County      816                60.7          19.69            \n",
       "19 Siskiyou County   1405                50.5          24.08            \n",
       "   EVT_LF      WFIR_BIN\n",
       "14 Herb        1       \n",
       "15 Shrub       1       \n",
       "16 Agriculture 1       \n",
       "17 Tree        1       \n",
       "18 Tree        1       \n",
       "19 Tree        1       "
      ]
     },
     "metadata": {},
     "output_type": "display_data"
    }
   ],
   "source": [
    "# Separate columns into categorical and numerical\n",
    "categorical_columns <- names(cali_df)[sapply(cali_df, is.factor)]\n",
    "numerical_columns <- names(cali_df)[!sapply(cali_df, is.factor)]\n",
    "\n",
    "# List non-unique categorical and numerical columns\n",
    "non_unique_categorical_columns <- character(0)\n",
    "non_unique_numerical_columns <- character(0)\n",
    "\n",
    "# Check for non-unique values in categorical columns\n",
    "for (column in categorical_columns) {\n",
    "  unique_count <- length(unique(cali_df[[column]]))\n",
    "  if (unique_count == 1) {\n",
    "    non_unique_categorical_columns <- c(non_unique_categorical_columns, column)\n",
    "  }\n",
    "}\n",
    "\n",
    "# Check for non-unique values in numerical columns\n",
    "for (column in numerical_columns) {\n",
    "  unique_count <- length(unique(cali_df[[column]]))\n",
    "  if (unique_count == 1) {\n",
    "    non_unique_numerical_columns <- c(non_unique_numerical_columns, column)\n",
    "  }\n",
    "}\n",
    "\n",
    "# Drop non-unique columns from the data frame\n",
    "cali_df2 <- cali_df[, !(names(cali_df) %in% c(non_unique_categorical_columns, non_unique_numerical_columns))]\n",
    "\n",
    "# Display the data frame with non-unique columns removed\n",
    "cat(\"Data Frame with Non-Unique Columns Removed:\\n\")\n",
    "head(cali_df2)\n"
   ]
  },
  {
   "cell_type": "markdown",
   "id": "34dbd44e",
   "metadata": {},
   "source": [
    "Identify and list the names of categorical columns in the modified data frame **cali_df2**."
   ]
  },
  {
   "cell_type": "code",
   "execution_count": 26,
   "id": "9569ca4e",
   "metadata": {},
   "outputs": [
    {
     "name": "stdout",
     "output_type": "stream",
     "text": [
      "Categorical Column Names:\n",
      "   Categorical.Column.Names\n",
      "1                    NRI_ID\n",
      "2                    COUNTY\n",
      "3                RISK_RATNG\n",
      "4                 EAL_RATNG\n",
      "5                SOVI_RATNG\n",
      "6                RESL_RATNG\n",
      "7                 DRGT_HLRR\n",
      "8                 DRGT_EALR\n",
      "9                DRGT_RISKR\n",
      "10                HWAV_HLRR\n",
      "11                HWAV_EALR\n",
      "12               HWAV_RISKR\n",
      "13                LTNG_HLRR\n",
      "14                LTNG_EALR\n",
      "15               LTNG_RISKR\n",
      "16                RFLD_HLRR\n",
      "17                RFLD_EALR\n",
      "18               RFLD_RISKR\n",
      "19                SWND_HLRR\n",
      "20                SWND_EALR\n",
      "21               SWND_RISKR\n",
      "22                WFIR_HLRR\n",
      "23                WFIR_EALR\n",
      "24               WFIR_RISKR\n",
      "25                 NAMELSAD\n",
      "26                   County\n",
      "27                   EVT_LF\n",
      "28                 WFIR_BIN\n"
     ]
    }
   ],
   "source": [
    "# Get the names of categorical columns\n",
    "categorical_columns2 <- names(cali_df2)[sapply(cali_df2, is.factor)]\n",
    "\n",
    "# Create a data frame from the categorical column names\n",
    "categorical_columns_df2 <- data.frame(\"Categorical Column Names\" = categorical_columns2)\n",
    "\n",
    "# Display the data frame\n",
    "cat(\"Categorical Column Names:\\n\")\n",
    "print(categorical_columns_df2)\n"
   ]
  },
  {
   "cell_type": "markdown",
   "id": "36983905",
   "metadata": {},
   "source": [
    "Identify and list the names of numerical columns in the modified data frame **cali_df2**."
   ]
  },
  {
   "cell_type": "code",
   "execution_count": 27,
   "id": "049d605e",
   "metadata": {},
   "outputs": [
    {
     "name": "stdout",
     "output_type": "stream",
     "text": [
      "Numerical Column Names:\n",
      "      Numerical.Columns\n",
      "1                 TRACT\n",
      "2                  OID_\n",
      "3            COUNTYFIPS\n",
      "4              STCOFIPS\n",
      "5             TRACTFIPS\n",
      "6            POPULATION\n",
      "7            BUILDVALUE\n",
      "8             AGRIVALUE\n",
      "9                  AREA\n",
      "10           RISK_VALUE\n",
      "11           RISK_SCORE\n",
      "12           RISK_SPCTL\n",
      "13            EAL_SCORE\n",
      "14            EAL_SPCTL\n",
      "15             EAL_VALT\n",
      "16             EAL_VALB\n",
      "17             EAL_VALP\n",
      "18            EAL_VALPE\n",
      "19             EAL_VALA\n",
      "20             ALR_VALB\n",
      "21             ALR_VALP\n",
      "22             ALR_VALA\n",
      "23            ALR_NPCTL\n",
      "24        ALR_VRA_NPCTL\n",
      "25           SOVI_SCORE\n",
      "26           SOVI_SPCTL\n",
      "27           RESL_SCORE\n",
      "28           RESL_SPCTL\n",
      "29           RESL_VALUE\n",
      "30            CRF_VALUE\n",
      "31           DRGT_EVNTS\n",
      "32           DRGT_AFREQ\n",
      "33        DRGT_EXP_AREA\n",
      "34            DRGT_EXPA\n",
      "35            DRGT_EXPT\n",
      "36            DRGT_HLRA\n",
      "37            DRGT_EALA\n",
      "38            DRGT_EALT\n",
      "39            DRGT_EALS\n",
      "40            DRGT_ALRA\n",
      "41       DRGT_ALR_NPCTL\n",
      "42           DRGT_RISKV\n",
      "43           DRGT_RISKS\n",
      "44           HWAV_EVNTS\n",
      "45           HWAV_AFREQ\n",
      "46        HWAV_EXP_AREA\n",
      "47            HWAV_EXPB\n",
      "48            HWAV_EXPP\n",
      "49           HWAV_EXPPE\n",
      "50            HWAV_EXPA\n",
      "51            HWAV_EXPT\n",
      "52            HWAV_HLRB\n",
      "53            HWAV_HLRP\n",
      "54            HWAV_HLRA\n",
      "55            HWAV_EALB\n",
      "56            HWAV_EALP\n",
      "57           HWAV_EALPE\n",
      "58            HWAV_EALA\n",
      "59            HWAV_EALT\n",
      "60            HWAV_EALS\n",
      "61            HWAV_ALRB\n",
      "62            HWAV_ALRP\n",
      "63            HWAV_ALRA\n",
      "64       HWAV_ALR_NPCTL\n",
      "65           HWAV_RISKV\n",
      "66           HWAV_RISKS\n",
      "67           LTNG_EVNTS\n",
      "68           LTNG_AFREQ\n",
      "69        LTNG_EXP_AREA\n",
      "70            LTNG_EXPB\n",
      "71            LTNG_EXPP\n",
      "72           LTNG_EXPPE\n",
      "73            LTNG_EXPT\n",
      "74            LTNG_HLRB\n",
      "75            LTNG_HLRP\n",
      "76            LTNG_EALB\n",
      "77            LTNG_EALP\n",
      "78           LTNG_EALPE\n",
      "79            LTNG_EALT\n",
      "80            LTNG_EALS\n",
      "81            LTNG_ALRB\n",
      "82            LTNG_ALRP\n",
      "83       LTNG_ALR_NPCTL\n",
      "84           LTNG_RISKV\n",
      "85           LTNG_RISKS\n",
      "86           RFLD_EVNTS\n",
      "87           RFLD_AFREQ\n",
      "88        RFLD_EXP_AREA\n",
      "89            RFLD_EXPB\n",
      "90            RFLD_EXPP\n",
      "91           RFLD_EXPPE\n",
      "92            RFLD_EXPA\n",
      "93            RFLD_EXPT\n",
      "94            RFLD_HLRB\n",
      "95            RFLD_HLRP\n",
      "96            RFLD_HLRA\n",
      "97            RFLD_EALB\n",
      "98            RFLD_EALP\n",
      "99           RFLD_EALPE\n",
      "100           RFLD_EALA\n",
      "101           RFLD_EALT\n",
      "102           RFLD_EALS\n",
      "103           RFLD_ALRB\n",
      "104           RFLD_ALRP\n",
      "105           RFLD_ALRA\n",
      "106      RFLD_ALR_NPCTL\n",
      "107          RFLD_RISKV\n",
      "108          RFLD_RISKS\n",
      "109          SWND_EVNTS\n",
      "110          SWND_AFREQ\n",
      "111       SWND_EXP_AREA\n",
      "112           SWND_EXPB\n",
      "113           SWND_EXPP\n",
      "114          SWND_EXPPE\n",
      "115           SWND_EXPA\n",
      "116           SWND_EXPT\n",
      "117           SWND_HLRB\n",
      "118           SWND_HLRP\n",
      "119           SWND_HLRA\n",
      "120           SWND_EALB\n",
      "121           SWND_EALP\n",
      "122          SWND_EALPE\n",
      "123           SWND_EALA\n",
      "124           SWND_EALT\n",
      "125           SWND_EALS\n",
      "126           SWND_ALRB\n",
      "127           SWND_ALRP\n",
      "128           SWND_ALRA\n",
      "129      SWND_ALR_NPCTL\n",
      "130          SWND_RISKV\n",
      "131          SWND_RISKS\n",
      "132          WFIR_AFREQ\n",
      "133       WFIR_EXP_AREA\n",
      "134           WFIR_EXPB\n",
      "135           WFIR_EXPP\n",
      "136          WFIR_EXPPE\n",
      "137           WFIR_EXPA\n",
      "138           WFIR_EXPT\n",
      "139           WFIR_HLRP\n",
      "140           WFIR_HLRA\n",
      "141           WFIR_EALB\n",
      "142           WFIR_EALP\n",
      "143          WFIR_EALPE\n",
      "144           WFIR_EALA\n",
      "145           WFIR_EALT\n",
      "146           WFIR_EALS\n",
      "147           WFIR_ALRB\n",
      "148           WFIR_ALRP\n",
      "149           WFIR_ALRA\n",
      "150      WFIR_ALR_NPCTL\n",
      "151          WFIR_RISKV\n",
      "152            countyID\n",
      "153            COUNTYFP\n",
      "154               GEOID\n",
      "155             tractID\n",
      "156           land_Area\n",
      "157          water_Area\n",
      "158            latitude\n",
      "159           longitude\n",
      "160      tract_avgSlope\n",
      "161 county_avgElevation\n",
      "162       avg_tempeture\n",
      "163   avg_precipitation\n"
     ]
    }
   ],
   "source": [
    "# Get the names of numerical columns\n",
    "numerical_columns <- names(cali_df2)[!sapply(cali_df2, is.factor)]\n",
    "\n",
    "# Create a data frame to store the numerical column names\n",
    "numerical_columns_df <- data.frame(\"Numerical Columns\" = numerical_columns)\n",
    "\n",
    "# Display the numerical column names in a data frame\n",
    "cat(\"Numerical Column Names:\\n\")\n",
    "print(numerical_columns_df)\n"
   ]
  },
  {
   "cell_type": "markdown",
   "id": "46e2c982",
   "metadata": {},
   "source": [
    "Identify and remove columns in the **cali_df2** data frame with a high percentage of missing values. It displays the names of the columns and their respective missing percentages to help us understand which parts of the data may have substantial missing information."
   ]
  },
  {
   "cell_type": "code",
   "execution_count": 28,
   "id": "77f4e0bb",
   "metadata": {},
   "outputs": [
    {
     "name": "stdout",
     "output_type": "stream",
     "text": [
      "Columns with missing data over 80 percent:\n",
      "named numeric(0)\n"
     ]
    }
   ],
   "source": [
    "# Calculate the percentage of missing values for each column\n",
    "missing_percent <- colMeans(is.na(cali_df2)) * 100\n",
    "\n",
    "# Find columns with missing data over 80 percent\n",
    "columns_w_high_missing <- missing_percent[missing_percent > 80]\n",
    "\n",
    "# Remove columns with missing data over 80 percent from the data frame\n",
    "cali_df2 <- cali_df2[, !(names(cali_df2) %in% names(columns_w_high_missing))]\n",
    "\n",
    "# Display the columns with missing data over 80 percent and their missing percentages\n",
    "cat(\"Columns with missing data over 80 percent:\\n\")\n",
    "print(columns_w_high_missing)\n"
   ]
  },
  {
   "cell_type": "markdown",
   "id": "519c126d",
   "metadata": {},
   "source": [
    "Retrieve and display the number of rows and columns in the **cali_df2** data frame. "
   ]
  },
  {
   "cell_type": "code",
   "execution_count": 29,
   "id": "d2e06622",
   "metadata": {},
   "outputs": [
    {
     "data": {
      "text/html": [
       "<ol class=list-inline>\n",
       "\t<li>17422</li>\n",
       "\t<li>191</li>\n",
       "</ol>\n"
      ],
      "text/latex": [
       "\\begin{enumerate*}\n",
       "\\item 17422\n",
       "\\item 191\n",
       "\\end{enumerate*}\n"
      ],
      "text/markdown": [
       "1. 17422\n",
       "2. 191\n",
       "\n",
       "\n"
      ],
      "text/plain": [
       "[1] 17422   191"
      ]
     },
     "metadata": {},
     "output_type": "display_data"
    }
   ],
   "source": [
    "# Print the dimensions of the dataset\n",
    "dim(cali_df2)"
   ]
  },
  {
   "cell_type": "markdown",
   "id": "3081acb3",
   "metadata": {},
   "source": [
    "Identify and remove columnsin the **cali_df2** data frame with a high percentage of zero values. It displays the names of the columns and their respective zero percentages to help us understand which parts of the data have a substantial number of zero values."
   ]
  },
  {
   "cell_type": "code",
   "execution_count": 30,
   "id": "b18d8afb",
   "metadata": {},
   "outputs": [
    {
     "name": "stdout",
     "output_type": "stream",
     "text": [
      "Columns with zero count over 80 percent:\n",
      "named numeric(0)\n"
     ]
    }
   ],
   "source": [
    "# Calculate the percentage of zero values for each column\n",
    "zero_percent <- colMeans(cali_df2 == 0, na.rm = TRUE) * 100\n",
    "\n",
    "# Find columns with zero count over 80 percent\n",
    "columns_w_high_zero_count <- zero_percent[zero_percent > 80]\n",
    "\n",
    "# Remove columns with zero count over 80 percent from the data frame\n",
    "cali_df2 <- cali_df2[, !(names(cali_df2) %in% names(columns_w_high_zero_count))]\n",
    "\n",
    "# Display the columns with zero count over 80 percent and their zero percentages\n",
    "cat(\"Columns with zero count over 80 percent:\\n\")\n",
    "print(columns_w_high_zero_count)\n"
   ]
  },
  {
   "cell_type": "markdown",
   "id": "238fa544",
   "metadata": {},
   "source": [
    "Again, we will retrieve and display the number of rows and columns in the **cali_df2** data frame. "
   ]
  },
  {
   "cell_type": "code",
   "execution_count": 31,
   "id": "454f726a",
   "metadata": {},
   "outputs": [
    {
     "data": {
      "text/html": [
       "<ol class=list-inline>\n",
       "\t<li>17422</li>\n",
       "\t<li>191</li>\n",
       "</ol>\n"
      ],
      "text/latex": [
       "\\begin{enumerate*}\n",
       "\\item 17422\n",
       "\\item 191\n",
       "\\end{enumerate*}\n"
      ],
      "text/markdown": [
       "1. 17422\n",
       "2. 191\n",
       "\n",
       "\n"
      ],
      "text/plain": [
       "[1] 17422   191"
      ]
     },
     "metadata": {},
     "output_type": "display_data"
    }
   ],
   "source": [
    "# Print the dimensions of the dataset\n",
    "dim(cali_df2)"
   ]
  },
  {
   "cell_type": "markdown",
   "id": "114c3db1",
   "metadata": {},
   "source": [
    "## Modeling Process with H2O"
   ]
  },
  {
   "cell_type": "markdown",
   "id": "c2d47e94",
   "metadata": {},
   "source": [
    "We'll employ the **H2O platform** for wildfire prediction using classification algorithms due to its numerous advantages. H2O's ability to scale and its array of machine learning algorithms make it adept at handling intricate datasets, encompassing historical wildfire records and meteorological data. The platform's tools for hyperparameter optimization and feature engineering are pivotal in refining models for accurately predicting wildfires, a complex natural event. \n",
    "\n",
    "The `AutoML` feature within H2O automates the model selection, hyperparameter tuning, and evaluation, significantly saving time and resources by exploring diverse modeling approaches and configurations to comprehend the factors influencing predictions."
   ]
  },
  {
   "cell_type": "markdown",
   "id": "5ca72f18",
   "metadata": {},
   "source": [
    "### Classification Algorithm with H2O"
   ]
  },
  {
   "cell_type": "markdown",
   "id": "9b0c43f7",
   "metadata": {},
   "source": [
    "Install and load the H@O package."
   ]
  },
  {
   "cell_type": "code",
   "execution_count": 32,
   "id": "1f153bd6",
   "metadata": {},
   "outputs": [
    {
     "name": "stderr",
     "output_type": "stream",
     "text": [
      "Warning message:\n",
      "\"package 'h2o' was built under R version 3.6.3\"\n",
      "----------------------------------------------------------------------\n",
      "\n",
      "Your next step is to start H2O:\n",
      "    > h2o.init()\n",
      "\n",
      "For H2O package documentation, ask for help:\n",
      "    > ??h2o\n",
      "\n",
      "After starting H2O, you can use the Web UI at http://localhost:54321\n",
      "For more information visit https://docs.h2o.ai\n",
      "\n",
      "----------------------------------------------------------------------\n",
      "\n",
      "\n",
      "Attaching package: 'h2o'\n",
      "\n",
      "The following objects are masked from 'package:stats':\n",
      "\n",
      "    cor, sd, var\n",
      "\n",
      "The following objects are masked from 'package:base':\n",
      "\n",
      "    %*%, %in%, &&, ||, apply, as.factor, as.numeric, colnames,\n",
      "    colnames<-, ifelse, is.character, is.factor, is.numeric, log,\n",
      "    log10, log1p, log2, round, signif, trunc\n",
      "\n"
     ]
    }
   ],
   "source": [
    "#install.packages(\"h2o\")\n",
    "library(h2o)\n"
   ]
  },
  {
   "cell_type": "markdown",
   "id": "e824bc88",
   "metadata": {},
   "source": [
    "Intialize the H2O platform."
   ]
  },
  {
   "cell_type": "code",
   "execution_count": 33,
   "id": "79e82830",
   "metadata": {},
   "outputs": [
    {
     "name": "stdout",
     "output_type": "stream",
     "text": [
      "\n",
      "H2O is not running yet, starting it now...\n",
      "\n",
      "Note:  In case of errors look at the following log files:\n",
      "    C:\\Users\\andre\\AppData\\Local\\Temp\\RtmpeiAjzq\\file5b24393d15f/h2o_andre_started_from_r.out\n",
      "    C:\\Users\\andre\\AppData\\Local\\Temp\\RtmpeiAjzq\\file5b244bec44e2/h2o_andre_started_from_r.err\n",
      "\n",
      "\n",
      "Starting H2O JVM and connecting:  Connection successful!\n",
      "\n",
      "R is connected to the H2O cluster: \n",
      "    H2O cluster uptime:         4 seconds 207 milliseconds \n",
      "    H2O cluster timezone:       America/New_York \n",
      "    H2O data parsing timezone:  UTC \n",
      "    H2O cluster version:        3.32.1.3 \n",
      "    H2O cluster version age:    2 years, 5 months and 23 days !!! \n",
      "    H2O cluster name:           H2O_started_from_R_andre_twk016 \n",
      "    H2O cluster total nodes:    1 \n",
      "    H2O cluster total memory:   3.97 GB \n",
      "    H2O cluster total cores:    32 \n",
      "    H2O cluster allowed cores:  32 \n",
      "    H2O cluster healthy:        TRUE \n",
      "    H2O Connection ip:          localhost \n",
      "    H2O Connection port:        54321 \n",
      "    H2O Connection proxy:       NA \n",
      "    H2O Internal Security:      FALSE \n",
      "    H2O API Extensions:         Amazon S3, Algos, AutoML, Core V3, TargetEncoder, Core V4 \n",
      "    R Version:                  R version 3.6.1 (2019-07-05) \n"
     ]
    },
    {
     "name": "stderr",
     "output_type": "stream",
     "text": [
      "Warning message in h2o.clusterInfo():\n",
      "\"\n",
      "Your H2O cluster version is too old (2 years, 5 months and 23 days)!\n",
      "Please download and install the latest version from http://h2o.ai/download/\""
     ]
    },
    {
     "name": "stdout",
     "output_type": "stream",
     "text": [
      "\n"
     ]
    }
   ],
   "source": [
    "h2o.init()\n"
   ]
  },
  {
   "cell_type": "markdown",
   "id": "f39b47bd",
   "metadata": {},
   "source": [
    "Convert the existing data frame, named `cali_df2` into an H2O data frame. The conversion is necessary when we want to use the data within H2O for various learning tasks."
   ]
  },
  {
   "cell_type": "code",
   "execution_count": 34,
   "id": "9302abbe",
   "metadata": {},
   "outputs": [
    {
     "name": "stderr",
     "output_type": "stream",
     "text": [
      "Warning message in use.package(\"data.table\"):\n",
      "\"data.table cannot be used without R package bit64 version 0.9.7 or higher.  Please upgrade to take advangage of data.table speedups.\""
     ]
    },
    {
     "name": "stdout",
     "output_type": "stream",
     "text": [
      "  |======================================================================| 100%\n"
     ]
    }
   ],
   "source": [
    "# Assuming 'data' is your existing data frame\n",
    "data_h2o <- as.h2o(cali_df2)"
   ]
  },
  {
   "cell_type": "markdown",
   "id": "d8dc67f5",
   "metadata": {},
   "source": [
    "### Construct a Random Forest Model using H2O for assessing Variable Importance"
   ]
  },
  {
   "cell_type": "markdown",
   "id": "d2fa4868",
   "metadata": {},
   "source": [
    "We will define variables for specifying the target variable (*the column to predict*) and the predictor variables (*all other columns*)."
   ]
  },
  {
   "cell_type": "code",
   "execution_count": 36,
   "id": "d52ff050",
   "metadata": {},
   "outputs": [],
   "source": [
    "y <- \"WFIR_BIN\"  # The column we want to predict (e.g., \"Class\" or \"Label\")\n",
    "x <- setdiff(names(data_h2o), y)  # All other columns are predictors\n"
   ]
  },
  {
   "cell_type": "code",
   "execution_count": 37,
   "id": "ecd65c3d",
   "metadata": {},
   "outputs": [],
   "source": [
    "response <- \"WFIR_BIN\"  # The column we want to predict (e.g., \"Class\" or \"Label\")\n",
    "predictors <- setdiff(names(data_h2o), y)  # All other columns are predictors"
   ]
  },
  {
   "cell_type": "code",
   "execution_count": 38,
   "id": "a9fbb7c6",
   "metadata": {},
   "outputs": [
    {
     "name": "stdout",
     "output_type": "stream",
     "text": [
      "  |======================================================================| 100%\n"
     ]
    }
   ],
   "source": [
    "vimodel <- h2o.randomForest(\n",
    "  x = predictors,    # A vector of predictor column names\n",
    "  y = response,      # The response variable column name\n",
    "  training_frame = data_h2o,\n",
    "  ntrees = 100       # Number of trees in the forest\n",
    ")\n"
   ]
  },
  {
   "cell_type": "markdown",
   "id": "8307f215",
   "metadata": {},
   "source": [
    "In H2O's Random Forest, after training a model, variable importance metrics such as \"Relative Importance,\" \"Scaled Importance,\" and \"Percentage\" are used to evaluate the significance of predictor variables. \n",
    "\n",
    "\"Relative Importance\" quantifies a variable's contribution to predictive performance, while \"Scaled Importance\" normalizes this metric to a 0-100 scale, making comparisons between variables and models easier. \"Percentage\" importance expresses variable significance as a percentage of the total importance, facilitating the assessment of variable contributions within the context of a specific model. \n",
    "\n",
    "These metrics aid in identifying which variables have the most influence on predictions. To extracting the metrics from the trained H2O Random Forest model involves the function `h2o.varimp()` to understand the relative importance of each variable and to guide feature selection and model interpretation."
   ]
  },
  {
   "cell_type": "code",
   "execution_count": 39,
   "id": "0ebf99c7",
   "metadata": {},
   "outputs": [],
   "source": [
    "# Compute variable importances\n",
    "variable_importance <- h2o.varimp(vimodel)"
   ]
  },
  {
   "cell_type": "code",
   "execution_count": 40,
   "id": "d908e246",
   "metadata": {},
   "outputs": [],
   "source": [
    "# Arrange in descending order\n",
    "variable_importance <- variable_importance[order(-variable_importance$relative_importance), ]"
   ]
  },
  {
   "cell_type": "code",
   "execution_count": 41,
   "id": "91a31d85",
   "metadata": {},
   "outputs": [],
   "source": [
    "# Convert to a data frame\n",
    "variable_importance_df <- as.data.frame(variable_importance)"
   ]
  },
  {
   "cell_type": "code",
   "execution_count": 42,
   "id": "21af8ac4",
   "metadata": {},
   "outputs": [
    {
     "name": "stdout",
     "output_type": "stream",
     "text": [
      "         variable relative_importance scaled_importance  percentage\n",
      "1      WFIR_RISKR           50804.621        1.00000000 0.141698755\n",
      "2       WFIR_HLRR           36125.562        0.71106844 0.100757512\n",
      "3       WFIR_EALR           34195.484        0.67307823 0.095374347\n",
      "4  WFIR_ALR_NPCTL           33511.516        0.65961550 0.093466695\n",
      "5       WFIR_EALS           33213.945        0.65375835 0.092636744\n",
      "6       WFIR_EXPT           27565.014        0.54256902 0.076881355\n",
      "7       WFIR_EXPP           24172.494        0.47579322 0.067419306\n",
      "8      WFIR_EXPPE           22081.410        0.43463389 0.061587081\n",
      "9      WFIR_AFREQ           15025.850        0.29575754 0.041908475\n",
      "10      WFIR_EXPB           14632.408        0.28801333 0.040811131\n",
      "11         COUNTY            4350.738        0.08563666 0.012134609\n",
      "12  DRGT_EXP_AREA            4227.714        0.08321515 0.011791484\n",
      "13  WFIR_EXP_AREA            4167.871        0.08203723 0.011624574\n",
      "14  LTNG_EXP_AREA            4096.758        0.08063750 0.011426234\n",
      "15  SWND_EXP_AREA            3626.070        0.07137283 0.010113441\n",
      "16      DRGT_EALS            3009.596        0.05923863 0.008394040\n",
      "17      WFIR_EALT            2946.792        0.05800243 0.008218872\n",
      "18      WFIR_ALRP            2924.121        0.05755620 0.008155642\n",
      "19      WFIR_ALRB            2830.162        0.05570679 0.007893583\n",
      "20      WFIR_EALP            2565.779        0.05050287 0.007156194\n",
      "21      RFLD_HLRR            2439.384        0.04801499 0.006803665\n",
      "22           AREA            2423.887        0.04770998 0.006760444\n",
      "23  HWAV_EXP_AREA            2356.466        0.04638290 0.006572400\n",
      "24     RFLD_RISKS            2103.618        0.04140604 0.005867184\n",
      "25     WFIR_RISKV            2062.104        0.04058890 0.005751397\n"
     ]
    }
   ],
   "source": [
    "# Print the top 25 variable importances\n",
    "top_25_importances <- head(variable_importance_df, 25)\n",
    "print(top_25_importances)"
   ]
  },
  {
   "cell_type": "markdown",
   "id": "0c400e33",
   "metadata": {},
   "source": [
    "View the top 5 variable importances in a bar plot with the top 5 bars in a different color."
   ]
  },
  {
   "cell_type": "code",
   "execution_count": 92,
   "id": "90c18819",
   "metadata": {},
   "outputs": [
    {
     "data": {
      "image/png": "[encoded data removed]",
      "text/plain": [
       "Plot with title \"Top 25 Variable Importances\""
      ]
     },
     "metadata": {},
     "output_type": "display_data"
    }
   ],
   "source": [
    "# Set graphical parameters to skew and resize axis labels\n",
    "par(las = 2)  # Set label orientation to vertical\n",
    "\n",
    "# Create a vector of colors for the bars\n",
    "bar_colors <- ifelse(rank(-top_25_importances$relative_importance) <= 5, \"red\", \"blue\")\n",
    "\n",
    "# Create the bar plot with specified colors for the top 5 bars\n",
    "barplot(top_25_importances$relative_importance, \n",
    "        names.arg = top_25_importances$variable, \n",
    "        main = \"Top 25 Variable Importances\",\n",
    "        #xlab = \"Relative Importance\",\n",
    "        cex.names = 0.5,  # Adjust font size as needed\n",
    "        col = bar_colors)  # Set colors based on the 'bar_colors' vector\n",
    "\n",
    "# Reset the graphical parameters to default after the plot\n",
    "par(las = 0)  # Reset label orientation to default (horizontal)\n",
    "\n"
   ]
  },
  {
   "cell_type": "markdown",
   "id": "3ab00736",
   "metadata": {},
   "source": [
    "## Checkpoint 4 (cali_importance)"
   ]
  },
  {
   "cell_type": "code",
   "execution_count": 44,
   "id": "8fa0b5ed",
   "metadata": {},
   "outputs": [],
   "source": [
    "# Create a new variable to hold a dataset of the top 25 important variables or features\n",
    "cali_importance <- top_25_importances"
   ]
  },
  {
   "cell_type": "code",
   "execution_count": 45,
   "id": "50dbad4a",
   "metadata": {},
   "outputs": [
    {
     "name": "stdout",
     "output_type": "stream",
     "text": [
      "         variable relative_importance scaled_importance  percentage\n",
      "1      WFIR_RISKR           50804.621        1.00000000 0.141698755\n",
      "2       WFIR_HLRR           36125.562        0.71106844 0.100757512\n",
      "3       WFIR_EALR           34195.484        0.67307823 0.095374347\n",
      "4  WFIR_ALR_NPCTL           33511.516        0.65961550 0.093466695\n",
      "5       WFIR_EALS           33213.945        0.65375835 0.092636744\n",
      "6       WFIR_EXPT           27565.014        0.54256902 0.076881355\n",
      "7       WFIR_EXPP           24172.494        0.47579322 0.067419306\n",
      "8      WFIR_EXPPE           22081.410        0.43463389 0.061587081\n",
      "9      WFIR_AFREQ           15025.850        0.29575754 0.041908475\n",
      "10      WFIR_EXPB           14632.408        0.28801333 0.040811131\n",
      "11         COUNTY            4350.738        0.08563666 0.012134609\n",
      "12  DRGT_EXP_AREA            4227.714        0.08321515 0.011791484\n",
      "13  WFIR_EXP_AREA            4167.871        0.08203723 0.011624574\n",
      "14  LTNG_EXP_AREA            4096.758        0.08063750 0.011426234\n",
      "15  SWND_EXP_AREA            3626.070        0.07137283 0.010113441\n",
      "16      DRGT_EALS            3009.596        0.05923863 0.008394040\n",
      "17      WFIR_EALT            2946.792        0.05800243 0.008218872\n",
      "18      WFIR_ALRP            2924.121        0.05755620 0.008155642\n",
      "19      WFIR_ALRB            2830.162        0.05570679 0.007893583\n",
      "20      WFIR_EALP            2565.779        0.05050287 0.007156194\n",
      "21      RFLD_HLRR            2439.384        0.04801499 0.006803665\n",
      "22           AREA            2423.887        0.04770998 0.006760444\n",
      "23  HWAV_EXP_AREA            2356.466        0.04638290 0.006572400\n",
      "24     RFLD_RISKS            2103.618        0.04140604 0.005867184\n",
      "25     WFIR_RISKV            2062.104        0.04058890 0.005751397\n"
     ]
    }
   ],
   "source": [
    "# Print the updated data frame\n",
    "print(cali_importance)\n"
   ]
  },
  {
   "cell_type": "code",
   "execution_count": 60,
   "id": "5d04c1e7",
   "metadata": {},
   "outputs": [],
   "source": [
    "# Extract column names from the data frame cali_importance\n",
    "imp_column_names <- cali_importance$variable\n",
    "\n",
    "# Extract only the desired columns from cali_df2\n",
    "result <- cali_df2[, imp_column_names]\n",
    "\n",
    "# If \"WFIR_BIN\" is not in the list, add it back\n",
    "if (!\"WFIR_BIN\" %in% imp_column_names) {\n",
    "  result$WFIR_BIN <- cali_df2$WFIR_BIN\n",
    "}"
   ]
  },
  {
   "cell_type": "code",
   "execution_count": 61,
   "id": "57ce99da",
   "metadata": {},
   "outputs": [
    {
     "data": {
      "text/html": [
       "<table>\n",
       "<thead><tr><th></th><th scope=col>WFIR_RISKR</th><th scope=col>WFIR_HLRR</th><th scope=col>WFIR_EALR</th><th scope=col>WFIR_ALR_NPCTL</th><th scope=col>WFIR_EALS</th><th scope=col>WFIR_EXPT</th><th scope=col>WFIR_EXPP</th><th scope=col>WFIR_EXPPE</th><th scope=col>WFIR_AFREQ</th><th scope=col>WFIR_EXPB</th><th scope=col>...</th><th scope=col>WFIR_EALT</th><th scope=col>WFIR_ALRP</th><th scope=col>WFIR_ALRB</th><th scope=col>WFIR_EALP</th><th scope=col>RFLD_HLRR</th><th scope=col>AREA</th><th scope=col>HWAV_EXP_AREA</th><th scope=col>RFLD_RISKS</th><th scope=col>WFIR_RISKV</th><th scope=col>WFIR_BIN</th></tr></thead>\n",
       "<tbody>\n",
       "\t<tr><th scope=row>14</th><td>Relatively Low     </td><td>Relatively Low     </td><td>Relatively Low     </td><td>76.66869           </td><td>77.25613           </td><td>257486565          </td><td>21.68865           </td><td>251588359          </td><td>0.0013907          </td><td>4970379            </td><td>...                </td><td>2690.74            </td><td>1.15556e-10        </td><td>3.30633e-06        </td><td>3.36268e-07        </td><td>Relatively Moderate</td><td>99.55958           </td><td>99.55958           </td><td>94.55953           </td><td>3426.525           </td><td>1                  </td></tr>\n",
       "\t<tr><th scope=row>15</th><td>Relatively Low     </td><td>Relatively Low     </td><td>Relatively Low     </td><td>76.66869           </td><td>77.25613           </td><td>257486565          </td><td>21.68865           </td><td>251588359          </td><td>0.0013907          </td><td>4970379            </td><td>...                </td><td>2690.74            </td><td>1.15556e-10        </td><td>3.30633e-06        </td><td>3.36268e-07        </td><td>Relatively Moderate</td><td>99.55958           </td><td>99.55958           </td><td>94.55953           </td><td>3426.525           </td><td>1                  </td></tr>\n",
       "\t<tr><th scope=row>16</th><td>Relatively Low     </td><td>Relatively Low     </td><td>Relatively Low     </td><td>76.66869           </td><td>77.25613           </td><td>257486565          </td><td>21.68865           </td><td>251588359          </td><td>0.0013907          </td><td>4970379            </td><td>...                </td><td>2690.74            </td><td>1.15556e-10        </td><td>3.30633e-06        </td><td>3.36268e-07        </td><td>Relatively Moderate</td><td>99.55958           </td><td>99.55958           </td><td>94.55953           </td><td>3426.525           </td><td>1                  </td></tr>\n",
       "\t<tr><th scope=row>17</th><td>Relatively Low     </td><td>Relatively Low     </td><td>Relatively Low     </td><td>76.66869           </td><td>77.25613           </td><td>257486565          </td><td>21.68865           </td><td>251588359          </td><td>0.0013907          </td><td>4970379            </td><td>...                </td><td>2690.74            </td><td>1.15556e-10        </td><td>3.30633e-06        </td><td>3.36268e-07        </td><td>Relatively Moderate</td><td>99.55958           </td><td>99.55958           </td><td>94.55953           </td><td>3426.525           </td><td>1                  </td></tr>\n",
       "\t<tr><th scope=row>18</th><td>Relatively Low     </td><td>Relatively Low     </td><td>Relatively Low     </td><td>76.66869           </td><td>77.25613           </td><td>257486565          </td><td>21.68865           </td><td>251588359          </td><td>0.0013907          </td><td>4970379            </td><td>...                </td><td>2690.74            </td><td>1.15556e-10        </td><td>3.30633e-06        </td><td>3.36268e-07        </td><td>Relatively Moderate</td><td>99.55958           </td><td>99.55958           </td><td>94.55953           </td><td>3426.525           </td><td>1                  </td></tr>\n",
       "\t<tr><th scope=row>19</th><td>Relatively Low     </td><td>Relatively Low     </td><td>Relatively Low     </td><td>76.66869           </td><td>77.25613           </td><td>257486565          </td><td>21.68865           </td><td>251588359          </td><td>0.0013907          </td><td>4970379            </td><td>...                </td><td>2690.74            </td><td>1.15556e-10        </td><td>3.30633e-06        </td><td>3.36268e-07        </td><td>Relatively Moderate</td><td>99.55958           </td><td>99.55958           </td><td>94.55953           </td><td>3426.525           </td><td>1                  </td></tr>\n",
       "</tbody>\n",
       "</table>\n"
      ],
      "text/latex": [
       "\\begin{tabular}{r|llllllllllllllllllllllllll}\n",
       "  & WFIR\\_RISKR & WFIR\\_HLRR & WFIR\\_EALR & WFIR\\_ALR\\_NPCTL & WFIR\\_EALS & WFIR\\_EXPT & WFIR\\_EXPP & WFIR\\_EXPPE & WFIR\\_AFREQ & WFIR\\_EXPB & ... & WFIR\\_EALT & WFIR\\_ALRP & WFIR\\_ALRB & WFIR\\_EALP & RFLD\\_HLRR & AREA & HWAV\\_EXP\\_AREA & RFLD\\_RISKS & WFIR\\_RISKV & WFIR\\_BIN\\\\\n",
       "\\hline\n",
       "\t14 & Relatively Low      & Relatively Low      & Relatively Low      & 76.66869            & 77.25613            & 257486565           & 21.68865            & 251588359           & 0.0013907           & 4970379             & ...                 & 2690.74             & 1.15556e-10         & 3.30633e-06         & 3.36268e-07         & Relatively Moderate & 99.55958            & 99.55958            & 94.55953            & 3426.525            & 1                  \\\\\n",
       "\t15 & Relatively Low      & Relatively Low      & Relatively Low      & 76.66869            & 77.25613            & 257486565           & 21.68865            & 251588359           & 0.0013907           & 4970379             & ...                 & 2690.74             & 1.15556e-10         & 3.30633e-06         & 3.36268e-07         & Relatively Moderate & 99.55958            & 99.55958            & 94.55953            & 3426.525            & 1                  \\\\\n",
       "\t16 & Relatively Low      & Relatively Low      & Relatively Low      & 76.66869            & 77.25613            & 257486565           & 21.68865            & 251588359           & 0.0013907           & 4970379             & ...                 & 2690.74             & 1.15556e-10         & 3.30633e-06         & 3.36268e-07         & Relatively Moderate & 99.55958            & 99.55958            & 94.55953            & 3426.525            & 1                  \\\\\n",
       "\t17 & Relatively Low      & Relatively Low      & Relatively Low      & 76.66869            & 77.25613            & 257486565           & 21.68865            & 251588359           & 0.0013907           & 4970379             & ...                 & 2690.74             & 1.15556e-10         & 3.30633e-06         & 3.36268e-07         & Relatively Moderate & 99.55958            & 99.55958            & 94.55953            & 3426.525            & 1                  \\\\\n",
       "\t18 & Relatively Low      & Relatively Low      & Relatively Low      & 76.66869            & 77.25613            & 257486565           & 21.68865            & 251588359           & 0.0013907           & 4970379             & ...                 & 2690.74             & 1.15556e-10         & 3.30633e-06         & 3.36268e-07         & Relatively Moderate & 99.55958            & 99.55958            & 94.55953            & 3426.525            & 1                  \\\\\n",
       "\t19 & Relatively Low      & Relatively Low      & Relatively Low      & 76.66869            & 77.25613            & 257486565           & 21.68865            & 251588359           & 0.0013907           & 4970379             & ...                 & 2690.74             & 1.15556e-10         & 3.30633e-06         & 3.36268e-07         & Relatively Moderate & 99.55958            & 99.55958            & 94.55953            & 3426.525            & 1                  \\\\\n",
       "\\end{tabular}\n"
      ],
      "text/markdown": [
       "\n",
       "| <!--/--> | WFIR_RISKR | WFIR_HLRR | WFIR_EALR | WFIR_ALR_NPCTL | WFIR_EALS | WFIR_EXPT | WFIR_EXPP | WFIR_EXPPE | WFIR_AFREQ | WFIR_EXPB | ... | WFIR_EALT | WFIR_ALRP | WFIR_ALRB | WFIR_EALP | RFLD_HLRR | AREA | HWAV_EXP_AREA | RFLD_RISKS | WFIR_RISKV | WFIR_BIN |\n",
       "|---|---|---|---|---|---|---|---|---|---|---|---|---|---|---|---|---|---|---|---|---|---|\n",
       "| 14 | Relatively Low      | Relatively Low      | Relatively Low      | 76.66869            | 77.25613            | 257486565           | 21.68865            | 251588359           | 0.0013907           | 4970379             | ...                 | 2690.74             | 1.15556e-10         | 3.30633e-06         | 3.36268e-07         | Relatively Moderate | 99.55958            | 99.55958            | 94.55953            | 3426.525            | 1                   |\n",
       "| 15 | Relatively Low      | Relatively Low      | Relatively Low      | 76.66869            | 77.25613            | 257486565           | 21.68865            | 251588359           | 0.0013907           | 4970379             | ...                 | 2690.74             | 1.15556e-10         | 3.30633e-06         | 3.36268e-07         | Relatively Moderate | 99.55958            | 99.55958            | 94.55953            | 3426.525            | 1                   |\n",
       "| 16 | Relatively Low      | Relatively Low      | Relatively Low      | 76.66869            | 77.25613            | 257486565           | 21.68865            | 251588359           | 0.0013907           | 4970379             | ...                 | 2690.74             | 1.15556e-10         | 3.30633e-06         | 3.36268e-07         | Relatively Moderate | 99.55958            | 99.55958            | 94.55953            | 3426.525            | 1                   |\n",
       "| 17 | Relatively Low      | Relatively Low      | Relatively Low      | 76.66869            | 77.25613            | 257486565           | 21.68865            | 251588359           | 0.0013907           | 4970379             | ...                 | 2690.74             | 1.15556e-10         | 3.30633e-06         | 3.36268e-07         | Relatively Moderate | 99.55958            | 99.55958            | 94.55953            | 3426.525            | 1                   |\n",
       "| 18 | Relatively Low      | Relatively Low      | Relatively Low      | 76.66869            | 77.25613            | 257486565           | 21.68865            | 251588359           | 0.0013907           | 4970379             | ...                 | 2690.74             | 1.15556e-10         | 3.30633e-06         | 3.36268e-07         | Relatively Moderate | 99.55958            | 99.55958            | 94.55953            | 3426.525            | 1                   |\n",
       "| 19 | Relatively Low      | Relatively Low      | Relatively Low      | 76.66869            | 77.25613            | 257486565           | 21.68865            | 251588359           | 0.0013907           | 4970379             | ...                 | 2690.74             | 1.15556e-10         | 3.30633e-06         | 3.36268e-07         | Relatively Moderate | 99.55958            | 99.55958            | 94.55953            | 3426.525            | 1                   |\n",
       "\n"
      ],
      "text/plain": [
       "   WFIR_RISKR     WFIR_HLRR      WFIR_EALR      WFIR_ALR_NPCTL WFIR_EALS\n",
       "14 Relatively Low Relatively Low Relatively Low 76.66869       77.25613 \n",
       "15 Relatively Low Relatively Low Relatively Low 76.66869       77.25613 \n",
       "16 Relatively Low Relatively Low Relatively Low 76.66869       77.25613 \n",
       "17 Relatively Low Relatively Low Relatively Low 76.66869       77.25613 \n",
       "18 Relatively Low Relatively Low Relatively Low 76.66869       77.25613 \n",
       "19 Relatively Low Relatively Low Relatively Low 76.66869       77.25613 \n",
       "   WFIR_EXPT WFIR_EXPP WFIR_EXPPE WFIR_AFREQ WFIR_EXPB ... WFIR_EALT\n",
       "14 257486565 21.68865  251588359  0.0013907  4970379   ... 2690.74  \n",
       "15 257486565 21.68865  251588359  0.0013907  4970379   ... 2690.74  \n",
       "16 257486565 21.68865  251588359  0.0013907  4970379   ... 2690.74  \n",
       "17 257486565 21.68865  251588359  0.0013907  4970379   ... 2690.74  \n",
       "18 257486565 21.68865  251588359  0.0013907  4970379   ... 2690.74  \n",
       "19 257486565 21.68865  251588359  0.0013907  4970379   ... 2690.74  \n",
       "   WFIR_ALRP   WFIR_ALRB   WFIR_EALP   RFLD_HLRR           AREA    \n",
       "14 1.15556e-10 3.30633e-06 3.36268e-07 Relatively Moderate 99.55958\n",
       "15 1.15556e-10 3.30633e-06 3.36268e-07 Relatively Moderate 99.55958\n",
       "16 1.15556e-10 3.30633e-06 3.36268e-07 Relatively Moderate 99.55958\n",
       "17 1.15556e-10 3.30633e-06 3.36268e-07 Relatively Moderate 99.55958\n",
       "18 1.15556e-10 3.30633e-06 3.36268e-07 Relatively Moderate 99.55958\n",
       "19 1.15556e-10 3.30633e-06 3.36268e-07 Relatively Moderate 99.55958\n",
       "   HWAV_EXP_AREA RFLD_RISKS WFIR_RISKV WFIR_BIN\n",
       "14 99.55958      94.55953   3426.525   1       \n",
       "15 99.55958      94.55953   3426.525   1       \n",
       "16 99.55958      94.55953   3426.525   1       \n",
       "17 99.55958      94.55953   3426.525   1       \n",
       "18 99.55958      94.55953   3426.525   1       \n",
       "19 99.55958      94.55953   3426.525   1       "
      ]
     },
     "metadata": {},
     "output_type": "display_data"
    }
   ],
   "source": [
    "# Print the result\n",
    "head(result)"
   ]
  },
  {
   "cell_type": "code",
   "execution_count": 62,
   "id": "d00e9c5c",
   "metadata": {},
   "outputs": [
    {
     "data": {
      "text/html": [
       "<ol class=list-inline>\n",
       "\t<li>'WFIR_RISKR'</li>\n",
       "\t<li>'WFIR_HLRR'</li>\n",
       "\t<li>'WFIR_EALR'</li>\n",
       "\t<li>'WFIR_ALR_NPCTL'</li>\n",
       "\t<li>'WFIR_EALS'</li>\n",
       "\t<li>'WFIR_EXPT'</li>\n",
       "\t<li>'WFIR_EXPP'</li>\n",
       "\t<li>'WFIR_EXPPE'</li>\n",
       "\t<li>'WFIR_AFREQ'</li>\n",
       "\t<li>'WFIR_EXPB'</li>\n",
       "\t<li>'COUNTY'</li>\n",
       "\t<li>'DRGT_EXP_AREA'</li>\n",
       "\t<li>'WFIR_EXP_AREA'</li>\n",
       "\t<li>'LTNG_EXP_AREA'</li>\n",
       "\t<li>'SWND_EXP_AREA'</li>\n",
       "\t<li>'DRGT_EALS'</li>\n",
       "\t<li>'WFIR_EALT'</li>\n",
       "\t<li>'WFIR_ALRP'</li>\n",
       "\t<li>'WFIR_ALRB'</li>\n",
       "\t<li>'WFIR_EALP'</li>\n",
       "\t<li>'RFLD_HLRR'</li>\n",
       "\t<li>'AREA'</li>\n",
       "\t<li>'HWAV_EXP_AREA'</li>\n",
       "\t<li>'RFLD_RISKS'</li>\n",
       "\t<li>'WFIR_RISKV'</li>\n",
       "\t<li>'WFIR_BIN'</li>\n",
       "</ol>\n"
      ],
      "text/latex": [
       "\\begin{enumerate*}\n",
       "\\item 'WFIR\\_RISKR'\n",
       "\\item 'WFIR\\_HLRR'\n",
       "\\item 'WFIR\\_EALR'\n",
       "\\item 'WFIR\\_ALR\\_NPCTL'\n",
       "\\item 'WFIR\\_EALS'\n",
       "\\item 'WFIR\\_EXPT'\n",
       "\\item 'WFIR\\_EXPP'\n",
       "\\item 'WFIR\\_EXPPE'\n",
       "\\item 'WFIR\\_AFREQ'\n",
       "\\item 'WFIR\\_EXPB'\n",
       "\\item 'COUNTY'\n",
       "\\item 'DRGT\\_EXP\\_AREA'\n",
       "\\item 'WFIR\\_EXP\\_AREA'\n",
       "\\item 'LTNG\\_EXP\\_AREA'\n",
       "\\item 'SWND\\_EXP\\_AREA'\n",
       "\\item 'DRGT\\_EALS'\n",
       "\\item 'WFIR\\_EALT'\n",
       "\\item 'WFIR\\_ALRP'\n",
       "\\item 'WFIR\\_ALRB'\n",
       "\\item 'WFIR\\_EALP'\n",
       "\\item 'RFLD\\_HLRR'\n",
       "\\item 'AREA'\n",
       "\\item 'HWAV\\_EXP\\_AREA'\n",
       "\\item 'RFLD\\_RISKS'\n",
       "\\item 'WFIR\\_RISKV'\n",
       "\\item 'WFIR\\_BIN'\n",
       "\\end{enumerate*}\n"
      ],
      "text/markdown": [
       "1. 'WFIR_RISKR'\n",
       "2. 'WFIR_HLRR'\n",
       "3. 'WFIR_EALR'\n",
       "4. 'WFIR_ALR_NPCTL'\n",
       "5. 'WFIR_EALS'\n",
       "6. 'WFIR_EXPT'\n",
       "7. 'WFIR_EXPP'\n",
       "8. 'WFIR_EXPPE'\n",
       "9. 'WFIR_AFREQ'\n",
       "10. 'WFIR_EXPB'\n",
       "11. 'COUNTY'\n",
       "12. 'DRGT_EXP_AREA'\n",
       "13. 'WFIR_EXP_AREA'\n",
       "14. 'LTNG_EXP_AREA'\n",
       "15. 'SWND_EXP_AREA'\n",
       "16. 'DRGT_EALS'\n",
       "17. 'WFIR_EALT'\n",
       "18. 'WFIR_ALRP'\n",
       "19. 'WFIR_ALRB'\n",
       "20. 'WFIR_EALP'\n",
       "21. 'RFLD_HLRR'\n",
       "22. 'AREA'\n",
       "23. 'HWAV_EXP_AREA'\n",
       "24. 'RFLD_RISKS'\n",
       "25. 'WFIR_RISKV'\n",
       "26. 'WFIR_BIN'\n",
       "\n",
       "\n"
      ],
      "text/plain": [
       " [1] \"WFIR_RISKR\"     \"WFIR_HLRR\"      \"WFIR_EALR\"      \"WFIR_ALR_NPCTL\"\n",
       " [5] \"WFIR_EALS\"      \"WFIR_EXPT\"      \"WFIR_EXPP\"      \"WFIR_EXPPE\"    \n",
       " [9] \"WFIR_AFREQ\"     \"WFIR_EXPB\"      \"COUNTY\"         \"DRGT_EXP_AREA\" \n",
       "[13] \"WFIR_EXP_AREA\"  \"LTNG_EXP_AREA\"  \"SWND_EXP_AREA\"  \"DRGT_EALS\"     \n",
       "[17] \"WFIR_EALT\"      \"WFIR_ALRP\"      \"WFIR_ALRB\"      \"WFIR_EALP\"     \n",
       "[21] \"RFLD_HLRR\"      \"AREA\"           \"HWAV_EXP_AREA\"  \"RFLD_RISKS\"    \n",
       "[25] \"WFIR_RISKV\"     \"WFIR_BIN\"      "
      ]
     },
     "metadata": {},
     "output_type": "display_data"
    }
   ],
   "source": [
    "names(result)"
   ]
  },
  {
   "cell_type": "markdown",
   "id": "13bdbd62",
   "metadata": {},
   "source": [
    "## H2O AutoML: Automatic Machine Learning"
   ]
  },
  {
   "cell_type": "code",
   "execution_count": 67,
   "id": "74df39ac",
   "metadata": {},
   "outputs": [
    {
     "name": "stderr",
     "output_type": "stream",
     "text": [
      "Warning message in use.package(\"data.table\"):\n",
      "\"data.table cannot be used without R package bit64 version 0.9.7 or higher.  Please upgrade to take advangage of data.table speedups.\""
     ]
    },
    {
     "name": "stdout",
     "output_type": "stream",
     "text": [
      "  |======================================================================| 100%\n"
     ]
    }
   ],
   "source": [
    "# Assuming 'result' is your existing data frame\n",
    "data2_h2o <- as.h2o(result)"
   ]
  },
  {
   "cell_type": "code",
   "execution_count": 68,
   "id": "3dea1aeb",
   "metadata": {},
   "outputs": [],
   "source": [
    "response2 <- \"WFIR_BIN\"  # The column you want to predict *y* \n",
    "predictors2 <- setdiff(names(data2_h2o), y)  # All other columns are predictors"
   ]
  },
  {
   "cell_type": "code",
   "execution_count": 69,
   "id": "1df7ce8e",
   "metadata": {},
   "outputs": [],
   "source": [
    "# split the dataset into train and test sets\n",
    "# reference material: https://dzone.com/articles/a-trial-run-with-h2o-automl-automatic-machine-lear\n",
    "df_splits <- h2o.splitFrame(data =  data2_h2o, ratios = 0.8, seed = 1234)\n",
    "train <- df_splits[[1]]\n",
    "test <- df_splits[[2]]"
   ]
  },
  {
   "cell_type": "markdown",
   "id": "782e5d74",
   "metadata": {},
   "source": [
    "Run the AutoML (Automated Machine Learning) process using the H2O framework. After running the code, the variable `aml` will contain information about the models generated by AutoML, their performance, and other details, allowing us to assess and select the best-performing model for the predictive task. \n",
    "\n",
    "AutoML automates the process of model selection, hyperparameter tuning, and evaluation, to quickly build and compare machine learning models."
   ]
  },
  {
   "cell_type": "code",
   "execution_count": 70,
   "id": "e20e1d67",
   "metadata": {},
   "outputs": [
    {
     "name": "stdout",
     "output_type": "stream",
     "text": [
      "  |                                                                      |   0%\n",
      "  |======================================================================| 100%\n"
     ]
    }
   ],
   "source": [
    "# Run AutoML for 5 base models\n",
    "aml <- h2o.automl(x = predictors2, y = response2,\n",
    "                  training_frame = train,\n",
    "                  max_models = 5,\n",
    "                  seed = 1)"
   ]
  },
  {
   "cell_type": "code",
   "execution_count": 71,
   "id": "dad95f3a",
   "metadata": {},
   "outputs": [
    {
     "data": {
      "text/html": [
       "<table>\n",
       "<thead><tr><th scope=col>model_id</th><th scope=col>auc</th><th scope=col>logloss</th><th scope=col>aucpr</th><th scope=col>mean_per_class_error</th><th scope=col>rmse</th><th scope=col>mse</th></tr></thead>\n",
       "<tbody>\n",
       "\t<tr><td>GBM_1_AutoML_20231112_174716                       </td><td>1                                                  </td><td>0.000000e+00                                       </td><td>1                                                  </td><td>0                                                  </td><td>0.000000e+00                                       </td><td>0.000000e+00                                       </td></tr>\n",
       "\t<tr><td>StackedEnsemble_AllModels_AutoML_20231112_174716   </td><td>1                                                  </td><td>6.783231e-04                                       </td><td>1                                                  </td><td>0                                                  </td><td>6.792328e-04                                       </td><td>4.613572e-07                                       </td></tr>\n",
       "\t<tr><td>GBM_2_AutoML_20231112_174716                       </td><td>1                                                  </td><td>5.798738e-17                                       </td><td>1                                                  </td><td>0                                                  </td><td>1.134715e-16                                       </td><td>1.287579e-32                                       </td></tr>\n",
       "\t<tr><td>GBM_3_AutoML_20231112_174716                       </td><td>1                                                  </td><td>0.000000e+00                                       </td><td>1                                                  </td><td>0                                                  </td><td>0.000000e+00                                       </td><td>0.000000e+00                                       </td></tr>\n",
       "\t<tr><td>StackedEnsemble_BestOfFamily_AutoML_20231112_174716</td><td>1                                                  </td><td>7.350658e-04                                       </td><td>1                                                  </td><td>0                                                  </td><td>7.360305e-04                                       </td><td>5.417409e-07                                       </td></tr>\n",
       "\t<tr><td>GLM_1_AutoML_20231112_174716                       </td><td>1                                                  </td><td>4.122356e-04                                       </td><td>1                                                  </td><td>0                                                  </td><td>7.282433e-04                                       </td><td>5.303383e-07                                       </td></tr>\n",
       "\t<tr><td>DRF_1_AutoML_20231112_174716                       </td><td>1                                                  </td><td>0.000000e+00                                       </td><td>1                                                  </td><td>0                                                  </td><td>0.000000e+00                                       </td><td>0.000000e+00                                       </td></tr>\n",
       "</tbody>\n",
       "</table>\n"
      ],
      "text/latex": [
       "\\begin{tabular}{r|lllllll}\n",
       " model\\_id & auc & logloss & aucpr & mean\\_per\\_class\\_error & rmse & mse\\\\\n",
       "\\hline\n",
       "\t GBM\\_1\\_AutoML\\_20231112\\_174716                        & 1                                                           & 0.000000e+00                                                & 1                                                           & 0                                                           & 0.000000e+00                                                & 0.000000e+00                                               \\\\\n",
       "\t StackedEnsemble\\_AllModels\\_AutoML\\_20231112\\_174716    & 1                                                           & 6.783231e-04                                                & 1                                                           & 0                                                           & 6.792328e-04                                                & 4.613572e-07                                               \\\\\n",
       "\t GBM\\_2\\_AutoML\\_20231112\\_174716                        & 1                                                           & 5.798738e-17                                                & 1                                                           & 0                                                           & 1.134715e-16                                                & 1.287579e-32                                               \\\\\n",
       "\t GBM\\_3\\_AutoML\\_20231112\\_174716                        & 1                                                           & 0.000000e+00                                                & 1                                                           & 0                                                           & 0.000000e+00                                                & 0.000000e+00                                               \\\\\n",
       "\t StackedEnsemble\\_BestOfFamily\\_AutoML\\_20231112\\_174716 & 1                                                           & 7.350658e-04                                                & 1                                                           & 0                                                           & 7.360305e-04                                                & 5.417409e-07                                               \\\\\n",
       "\t GLM\\_1\\_AutoML\\_20231112\\_174716                        & 1                                                           & 4.122356e-04                                                & 1                                                           & 0                                                           & 7.282433e-04                                                & 5.303383e-07                                               \\\\\n",
       "\t DRF\\_1\\_AutoML\\_20231112\\_174716                        & 1                                                           & 0.000000e+00                                                & 1                                                           & 0                                                           & 0.000000e+00                                                & 0.000000e+00                                               \\\\\n",
       "\\end{tabular}\n"
      ],
      "text/markdown": [
       "\n",
       "| model_id | auc | logloss | aucpr | mean_per_class_error | rmse | mse |\n",
       "|---|---|---|---|---|---|---|\n",
       "| GBM_1_AutoML_20231112_174716                        | 1                                                   | 0.000000e+00                                        | 1                                                   | 0                                                   | 0.000000e+00                                        | 0.000000e+00                                        |\n",
       "| StackedEnsemble_AllModels_AutoML_20231112_174716    | 1                                                   | 6.783231e-04                                        | 1                                                   | 0                                                   | 6.792328e-04                                        | 4.613572e-07                                        |\n",
       "| GBM_2_AutoML_20231112_174716                        | 1                                                   | 5.798738e-17                                        | 1                                                   | 0                                                   | 1.134715e-16                                        | 1.287579e-32                                        |\n",
       "| GBM_3_AutoML_20231112_174716                        | 1                                                   | 0.000000e+00                                        | 1                                                   | 0                                                   | 0.000000e+00                                        | 0.000000e+00                                        |\n",
       "| StackedEnsemble_BestOfFamily_AutoML_20231112_174716 | 1                                                   | 7.350658e-04                                        | 1                                                   | 0                                                   | 7.360305e-04                                        | 5.417409e-07                                        |\n",
       "| GLM_1_AutoML_20231112_174716                        | 1                                                   | 4.122356e-04                                        | 1                                                   | 0                                                   | 7.282433e-04                                        | 5.303383e-07                                        |\n",
       "| DRF_1_AutoML_20231112_174716                        | 1                                                   | 0.000000e+00                                        | 1                                                   | 0                                                   | 0.000000e+00                                        | 0.000000e+00                                        |\n",
       "\n"
      ],
      "text/plain": [
       "  model_id                                            auc logloss      aucpr\n",
       "1 GBM_1_AutoML_20231112_174716                        1   0.000000e+00 1    \n",
       "2 StackedEnsemble_AllModels_AutoML_20231112_174716    1   6.783231e-04 1    \n",
       "3 GBM_2_AutoML_20231112_174716                        1   5.798738e-17 1    \n",
       "4 GBM_3_AutoML_20231112_174716                        1   0.000000e+00 1    \n",
       "5 StackedEnsemble_BestOfFamily_AutoML_20231112_174716 1   7.350658e-04 1    \n",
       "6 GLM_1_AutoML_20231112_174716                        1   4.122356e-04 1    \n",
       "7 DRF_1_AutoML_20231112_174716                        1   0.000000e+00 1    \n",
       "  mean_per_class_error rmse         mse         \n",
       "1 0                    0.000000e+00 0.000000e+00\n",
       "2 0                    6.792328e-04 4.613572e-07\n",
       "3 0                    1.134715e-16 1.287579e-32\n",
       "4 0                    0.000000e+00 0.000000e+00\n",
       "5 0                    7.360305e-04 5.417409e-07\n",
       "6 0                    7.282433e-04 5.303383e-07\n",
       "7 0                    0.000000e+00 0.000000e+00"
      ]
     },
     "metadata": {},
     "output_type": "display_data"
    }
   ],
   "source": [
    "# View the AutoML Leaderboard\n",
    "lb <- aml@leaderboard\n",
    "head(lb, n = nrow(lb))  # Print all rows instead of default (6 rows)"
   ]
  },
  {
   "cell_type": "code",
   "execution_count": 72,
   "id": "42999db1",
   "metadata": {},
   "outputs": [
    {
     "data": {
      "text/plain": [
       "Model Details:\n",
       "==============\n",
       "\n",
       "H2OBinomialModel: gbm\n",
       "Model ID:  GBM_1_AutoML_20231112_174716 \n",
       "Model Summary: \n",
       "  number_of_trees number_of_internal_trees model_size_in_bytes min_depth\n",
       "1             395                      395               33458         1\n",
       "  max_depth mean_depth min_leaves max_leaves mean_leaves\n",
       "1         2    1.00253          2          3     2.00253\n",
       "\n",
       "\n",
       "H2OBinomialMetrics: gbm\n",
       "** Reported on training data. **\n",
       "\n",
       "MSE:  0\n",
       "RMSE:  0\n",
       "LogLoss:  0\n",
       "Mean Per-Class Error:  0\n",
       "AUC:  1\n",
       "AUCPR:  1\n",
       "Gini:  1\n",
       "R^2:  1\n",
       "\n",
       "Confusion Matrix (vertical: actual; across: predicted) for F1-optimal threshold:\n",
       "          0    1    Error      Rate\n",
       "0      7410    0 0.000000   =0/7410\n",
       "1         0 6601 0.000000   =0/6601\n",
       "Totals 7410 6601 0.000000  =0/14011\n",
       "\n",
       "Maximum Metrics: Maximum metrics at their respective thresholds\n",
       "                        metric threshold       value idx\n",
       "1                       max f1  1.000000    1.000000   0\n",
       "2                       max f2  1.000000    1.000000   0\n",
       "3                 max f0point5  1.000000    1.000000   0\n",
       "4                 max accuracy  1.000000    1.000000   0\n",
       "5                max precision  1.000000    1.000000   0\n",
       "6                   max recall  1.000000    1.000000   0\n",
       "7              max specificity  1.000000    1.000000   0\n",
       "8             max absolute_mcc  1.000000    1.000000   0\n",
       "9   max min_per_class_accuracy  1.000000    1.000000   0\n",
       "10 max mean_per_class_accuracy  1.000000    1.000000   0\n",
       "11                     max tns  1.000000 7410.000000   0\n",
       "12                     max fns  1.000000    0.000000   0\n",
       "13                     max fps  0.000000 7410.000000   1\n",
       "14                     max tps  1.000000 6601.000000   0\n",
       "15                     max tnr  1.000000    1.000000   0\n",
       "16                     max fnr  1.000000    0.000000   0\n",
       "17                     max fpr  0.000000    1.000000   1\n",
       "18                     max tpr  1.000000    1.000000   0\n",
       "\n",
       "Gains/Lift Table: Extract with `h2o.gainsLift(<model>, <data>)` or `h2o.gainsLift(<model>, valid=<T/F>, xval=<T/F>)`\n",
       "\n",
       "H2OBinomialMetrics: gbm\n",
       "** Reported on cross-validation data. **\n",
       "** 5-fold cross-validation on training data (Metrics computed for combined holdout predictions) **\n",
       "\n",
       "MSE:  0\n",
       "RMSE:  0\n",
       "LogLoss:  0\n",
       "Mean Per-Class Error:  0\n",
       "AUC:  1\n",
       "AUCPR:  1\n",
       "Gini:  1\n",
       "R^2:  1\n",
       "\n",
       "Confusion Matrix (vertical: actual; across: predicted) for F1-optimal threshold:\n",
       "          0    1    Error      Rate\n",
       "0      7410    0 0.000000   =0/7410\n",
       "1         0 6601 0.000000   =0/6601\n",
       "Totals 7410 6601 0.000000  =0/14011\n",
       "\n",
       "Maximum Metrics: Maximum metrics at their respective thresholds\n",
       "                        metric threshold       value idx\n",
       "1                       max f1  1.000000    1.000000   0\n",
       "2                       max f2  1.000000    1.000000   0\n",
       "3                 max f0point5  1.000000    1.000000   0\n",
       "4                 max accuracy  1.000000    1.000000   0\n",
       "5                max precision  1.000000    1.000000   0\n",
       "6                   max recall  1.000000    1.000000   0\n",
       "7              max specificity  1.000000    1.000000   0\n",
       "8             max absolute_mcc  1.000000    1.000000   0\n",
       "9   max min_per_class_accuracy  1.000000    1.000000   0\n",
       "10 max mean_per_class_accuracy  1.000000    1.000000   0\n",
       "11                     max tns  1.000000 7410.000000   0\n",
       "12                     max fns  1.000000    0.000000   0\n",
       "13                     max fps  0.000000 7410.000000   5\n",
       "14                     max tps  1.000000 6601.000000   0\n",
       "15                     max tnr  1.000000    1.000000   0\n",
       "16                     max fnr  1.000000    0.000000   0\n",
       "17                     max fpr  0.000000    1.000000   5\n",
       "18                     max tpr  1.000000    1.000000   0\n",
       "\n",
       "Gains/Lift Table: Extract with `h2o.gainsLift(<model>, <data>)` or `h2o.gainsLift(<model>, valid=<T/F>, xval=<T/F>)`\n",
       "Cross-Validation Metrics Summary: \n",
       "                             mean          sd cv_1_valid cv_2_valid cv_3_valid\n",
       "accuracy                      1.0         0.0        1.0        1.0        1.0\n",
       "auc                           1.0         0.0        1.0        1.0        1.0\n",
       "err                           0.0         0.0        0.0        0.0        0.0\n",
       "err_count                     0.0         0.0        0.0        0.0        0.0\n",
       "f0point5                      1.0         0.0        1.0        1.0        1.0\n",
       "f1                            1.0         0.0        1.0        1.0        1.0\n",
       "f2                            1.0         0.0        1.0        1.0        1.0\n",
       "lift_top_group          2.1228676 0.028484145   2.133181  2.1356707  2.1307986\n",
       "logloss                       0.0         0.0        0.0        0.0        0.0\n",
       "max_per_class_error           0.0         0.0        0.0        0.0        0.0\n",
       "mcc                           1.0         0.0        1.0        1.0        1.0\n",
       "mean_per_class_accuracy       1.0         0.0        1.0        1.0        1.0\n",
       "mean_per_class_error          0.0         0.0        0.0        0.0        0.0\n",
       "mse                           0.0         0.0        0.0        0.0        0.0\n",
       "pr_auc                        1.0         0.0        1.0        1.0        1.0\n",
       "precision                     1.0         0.0        1.0        1.0        1.0\n",
       "r2                            1.0         0.0        1.0        1.0        1.0\n",
       "recall                        1.0         0.0        1.0        1.0        1.0\n",
       "rmse                          0.0         0.0        0.0        0.0        0.0\n",
       "specificity                   1.0         0.0        1.0        1.0        1.0\n",
       "                        cv_4_valid cv_5_valid\n",
       "accuracy                       1.0        1.0\n",
       "auc                            1.0        1.0\n",
       "err                            0.0        0.0\n",
       "err_count                      0.0        0.0\n",
       "f0point5                       1.0        1.0\n",
       "f1                             1.0        1.0\n",
       "f2                             1.0        1.0\n",
       "lift_top_group           2.0724852   2.142202\n",
       "logloss                        0.0        0.0\n",
       "max_per_class_error            0.0        0.0\n",
       "mcc                            1.0        1.0\n",
       "mean_per_class_accuracy        1.0        1.0\n",
       "mean_per_class_error           0.0        0.0\n",
       "mse                            0.0        0.0\n",
       "pr_auc                         1.0        1.0\n",
       "precision                      1.0        1.0\n",
       "r2                             1.0        1.0\n",
       "recall                         1.0        1.0\n",
       "rmse                           0.0        0.0\n",
       "specificity                    1.0        1.0"
      ]
     },
     "metadata": {},
     "output_type": "display_data"
    }
   ],
   "source": [
    "aml@leader"
   ]
  },
  {
   "cell_type": "markdown",
   "id": "fe2a2168",
   "metadata": {},
   "source": [
    "#### Prediction"
   ]
  },
  {
   "cell_type": "code",
   "execution_count": 74,
   "id": "cdd204c5",
   "metadata": {},
   "outputs": [
    {
     "name": "stdout",
     "output_type": "stream",
     "text": [
      "  |======================================================================| 100%\n"
     ]
    }
   ],
   "source": [
    "# To generate predictions on a test set, you can make predictions\n",
    "# directly on the `H2OAutoML` object or on the leader model\n",
    "# object directly\n",
    "pred <- h2o.predict(aml, test)  # predict(aml, test) also works"
   ]
  },
  {
   "cell_type": "code",
   "execution_count": 75,
   "id": "faaeed1f",
   "metadata": {},
   "outputs": [
    {
     "data": {
      "text/plain": [
       "  predict Count\n",
       "1       0  1784\n",
       "2       1  1627\n",
       "\n",
       "[2 rows x 2 columns] "
      ]
     },
     "metadata": {},
     "output_type": "display_data"
    }
   ],
   "source": [
    "#Confusion matrix on test data set\n",
    "h2o.table(pred$predict, test$converted)"
   ]
  },
  {
   "cell_type": "markdown",
   "id": "874d0353",
   "metadata": {},
   "source": [
    "#### AutoML Output: Leaderboard"
   ]
  },
  {
   "cell_type": "code",
   "execution_count": 76,
   "id": "e753622b",
   "metadata": {},
   "outputs": [
    {
     "data": {
      "text/html": [
       "<table>\n",
       "<thead><tr><th scope=col>model_id</th><th scope=col>auc</th><th scope=col>logloss</th><th scope=col>aucpr</th><th scope=col>mean_per_class_error</th><th scope=col>rmse</th><th scope=col>mse</th><th scope=col>training_time_ms</th><th scope=col>predict_time_per_row_ms</th><th scope=col>algo</th></tr></thead>\n",
       "<tbody>\n",
       "\t<tr><td>GBM_1_AutoML_20231112_174716                       </td><td>1                                                  </td><td>0.000000e+00                                       </td><td>1                                                  </td><td>0                                                  </td><td>0.000000e+00                                       </td><td>0.000000e+00                                       </td><td>830                                                </td><td>0.017174                                           </td><td>GBM                                                </td></tr>\n",
       "\t<tr><td>StackedEnsemble_AllModels_AutoML_20231112_174716   </td><td>1                                                  </td><td>6.783231e-04                                       </td><td>1                                                  </td><td>0                                                  </td><td>6.792328e-04                                       </td><td>4.613572e-07                                       </td><td>267                                                </td><td>0.018355                                           </td><td>StackedEnsemble                                    </td></tr>\n",
       "\t<tr><td>GBM_2_AutoML_20231112_174716                       </td><td>1                                                  </td><td>5.798738e-17                                       </td><td>1                                                  </td><td>0                                                  </td><td>1.134715e-16                                       </td><td>1.287579e-32                                       </td><td>638                                                </td><td>0.018430                                           </td><td>GBM                                                </td></tr>\n",
       "\t<tr><td>GBM_3_AutoML_20231112_174716                       </td><td>1                                                  </td><td>0.000000e+00                                       </td><td>1                                                  </td><td>0                                                  </td><td>0.000000e+00                                       </td><td>0.000000e+00                                       </td><td>613                                                </td><td>0.014981                                           </td><td>GBM                                                </td></tr>\n",
       "\t<tr><td>StackedEnsemble_BestOfFamily_AutoML_20231112_174716</td><td>1                                                  </td><td>7.350658e-04                                       </td><td>1                                                  </td><td>0                                                  </td><td>7.360305e-04                                       </td><td>5.417409e-07                                       </td><td>738                                                </td><td>0.016961                                           </td><td>StackedEnsemble                                    </td></tr>\n",
       "\t<tr><td>GLM_1_AutoML_20231112_174716                       </td><td>1                                                  </td><td>4.122356e-04                                       </td><td>1                                                  </td><td>0                                                  </td><td>7.282433e-04                                       </td><td>5.303383e-07                                       </td><td>649                                                </td><td>0.001034                                           </td><td>GLM                                                </td></tr>\n",
       "</tbody>\n",
       "</table>\n"
      ],
      "text/latex": [
       "\\begin{tabular}{r|llllllllll}\n",
       " model\\_id & auc & logloss & aucpr & mean\\_per\\_class\\_error & rmse & mse & training\\_time\\_ms & predict\\_time\\_per\\_row\\_ms & algo\\\\\n",
       "\\hline\n",
       "\t GBM\\_1\\_AutoML\\_20231112\\_174716                        & 1                                                           & 0.000000e+00                                                & 1                                                           & 0                                                           & 0.000000e+00                                                & 0.000000e+00                                                & 830                                                         & 0.017174                                                    & GBM                                                        \\\\\n",
       "\t StackedEnsemble\\_AllModels\\_AutoML\\_20231112\\_174716    & 1                                                           & 6.783231e-04                                                & 1                                                           & 0                                                           & 6.792328e-04                                                & 4.613572e-07                                                & 267                                                         & 0.018355                                                    & StackedEnsemble                                            \\\\\n",
       "\t GBM\\_2\\_AutoML\\_20231112\\_174716                        & 1                                                           & 5.798738e-17                                                & 1                                                           & 0                                                           & 1.134715e-16                                                & 1.287579e-32                                                & 638                                                         & 0.018430                                                    & GBM                                                        \\\\\n",
       "\t GBM\\_3\\_AutoML\\_20231112\\_174716                        & 1                                                           & 0.000000e+00                                                & 1                                                           & 0                                                           & 0.000000e+00                                                & 0.000000e+00                                                & 613                                                         & 0.014981                                                    & GBM                                                        \\\\\n",
       "\t StackedEnsemble\\_BestOfFamily\\_AutoML\\_20231112\\_174716 & 1                                                           & 7.350658e-04                                                & 1                                                           & 0                                                           & 7.360305e-04                                                & 5.417409e-07                                                & 738                                                         & 0.016961                                                    & StackedEnsemble                                            \\\\\n",
       "\t GLM\\_1\\_AutoML\\_20231112\\_174716                        & 1                                                           & 4.122356e-04                                                & 1                                                           & 0                                                           & 7.282433e-04                                                & 5.303383e-07                                                & 649                                                         & 0.001034                                                    & GLM                                                        \\\\\n",
       "\\end{tabular}\n"
      ],
      "text/markdown": [
       "\n",
       "| model_id | auc | logloss | aucpr | mean_per_class_error | rmse | mse | training_time_ms | predict_time_per_row_ms | algo |\n",
       "|---|---|---|---|---|---|---|---|---|---|\n",
       "| GBM_1_AutoML_20231112_174716                        | 1                                                   | 0.000000e+00                                        | 1                                                   | 0                                                   | 0.000000e+00                                        | 0.000000e+00                                        | 830                                                 | 0.017174                                            | GBM                                                 |\n",
       "| StackedEnsemble_AllModels_AutoML_20231112_174716    | 1                                                   | 6.783231e-04                                        | 1                                                   | 0                                                   | 6.792328e-04                                        | 4.613572e-07                                        | 267                                                 | 0.018355                                            | StackedEnsemble                                     |\n",
       "| GBM_2_AutoML_20231112_174716                        | 1                                                   | 5.798738e-17                                        | 1                                                   | 0                                                   | 1.134715e-16                                        | 1.287579e-32                                        | 638                                                 | 0.018430                                            | GBM                                                 |\n",
       "| GBM_3_AutoML_20231112_174716                        | 1                                                   | 0.000000e+00                                        | 1                                                   | 0                                                   | 0.000000e+00                                        | 0.000000e+00                                        | 613                                                 | 0.014981                                            | GBM                                                 |\n",
       "| StackedEnsemble_BestOfFamily_AutoML_20231112_174716 | 1                                                   | 7.350658e-04                                        | 1                                                   | 0                                                   | 7.360305e-04                                        | 5.417409e-07                                        | 738                                                 | 0.016961                                            | StackedEnsemble                                     |\n",
       "| GLM_1_AutoML_20231112_174716                        | 1                                                   | 4.122356e-04                                        | 1                                                   | 0                                                   | 7.282433e-04                                        | 5.303383e-07                                        | 649                                                 | 0.001034                                            | GLM                                                 |\n",
       "\n"
      ],
      "text/plain": [
       "  model_id                                            auc logloss      aucpr\n",
       "1 GBM_1_AutoML_20231112_174716                        1   0.000000e+00 1    \n",
       "2 StackedEnsemble_AllModels_AutoML_20231112_174716    1   6.783231e-04 1    \n",
       "3 GBM_2_AutoML_20231112_174716                        1   5.798738e-17 1    \n",
       "4 GBM_3_AutoML_20231112_174716                        1   0.000000e+00 1    \n",
       "5 StackedEnsemble_BestOfFamily_AutoML_20231112_174716 1   7.350658e-04 1    \n",
       "6 GLM_1_AutoML_20231112_174716                        1   4.122356e-04 1    \n",
       "  mean_per_class_error rmse         mse          training_time_ms\n",
       "1 0                    0.000000e+00 0.000000e+00 830             \n",
       "2 0                    6.792328e-04 4.613572e-07 267             \n",
       "3 0                    1.134715e-16 1.287579e-32 638             \n",
       "4 0                    0.000000e+00 0.000000e+00 613             \n",
       "5 0                    7.360305e-04 5.417409e-07 738             \n",
       "6 0                    7.282433e-04 5.303383e-07 649             \n",
       "  predict_time_per_row_ms algo           \n",
       "1 0.017174                GBM            \n",
       "2 0.018355                StackedEnsemble\n",
       "3 0.018430                GBM            \n",
       "4 0.014981                GBM            \n",
       "5 0.016961                StackedEnsemble\n",
       "6 0.001034                GLM            "
      ]
     },
     "metadata": {},
     "output_type": "display_data"
    }
   ],
   "source": [
    "# Get leaderboard with all possible columns\n",
    "lb <- h2o.get_leaderboard(object = aml, extra_columns = \"ALL\")\n",
    "head(lb)"
   ]
  },
  {
   "cell_type": "code",
   "execution_count": null,
   "id": "9128e906",
   "metadata": {},
   "outputs": [],
   "source": []
  },
  {
   "cell_type": "code",
   "execution_count": 100,
   "id": "330e7ecb",
   "metadata": {},
   "outputs": [],
   "source": [
    "#h2o.shutdown()"
   ]
  },
  {
   "cell_type": "code",
   "execution_count": null,
   "id": "eed7ecf7",
   "metadata": {},
   "outputs": [],
   "source": []
  }
 ],
 "metadata": {
  "kernelspec": {
   "display_name": "R",
   "language": "R",
   "name": "ir"
  },
  "language_info": {
   "codemirror_mode": "r",
   "file_extension": ".r",
   "mimetype": "text/x-r-source",
   "name": "R",
   "pygments_lexer": "r",
   "version": "3.6.1"
  }
 },
 "nbformat": 4,
 "nbformat_minor": 5
}
